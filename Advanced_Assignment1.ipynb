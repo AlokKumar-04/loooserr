{
 "cells": [
  {
   "cell_type": "markdown",
   "id": "986d1a40",
   "metadata": {},
   "source": [
    "Q1. What is the purpose of Python's OOP?\n",
    "Ans):\n",
    "    We may create apps utilising an Object-Oriented methodology thanks to it. Classes and objects are simple to build and utilise in Python. Using classes and objects to design the programme is an object-oriented approach. The item is connected to actual things like a book, house, pencil, etc."
   ]
  },
  {
   "cell_type": "markdown",
   "id": "42b9ad0e",
   "metadata": {},
   "source": [
    "Q2. Where does an inheritance search look for an attribute?\n",
    "Ans):\n",
    "    An attribute is first searched for in the instance object, then in the class it derives from, and finally in all higher superclasses, progressing (by default) from left to right. When the attribute is located, the search ends there."
   ]
  },
  {
   "cell_type": "markdown",
   "id": "c96bb662",
   "metadata": {},
   "source": [
    "Q3. How do you distinguish between a class object and an instance object?\n",
    "Ans):\n",
    "    Instance objects represent specific instances of the class, whereas class objects represent the class itself. While instance objects have their own set of attributes and methods that are independent of other instance objects, class objects can have class-level attributes and methods that are shared by all instances of the class."
   ]
  },
  {
   "cell_type": "markdown",
   "id": "83364880",
   "metadata": {},
   "source": [
    "Q4. What makes the first argument in a class’s method function special?\n",
    "Ans):\n",
    "    In contrast to the receiving process, which is explicit, calling is an automatic process. For this reason, the object itself must be the initial parameter of any class function."
   ]
  },
  {
   "cell_type": "markdown",
   "id": "04740c19",
   "metadata": {},
   "source": [
    "Q5. What is the purpose of the __init__ method?\n",
    "Ans):\n",
    "    The __init__ method lets the class initialize the object's attributes and serves no other purpose. It is only used within classes."
   ]
  },
  {
   "cell_type": "markdown",
   "id": "0a058112",
   "metadata": {},
   "source": [
    "Q6. What is the process for creating a class instance?\n",
    "Ans):\n",
    "    To create instances of a class, you call the class using class name and pass in whatever arguments its __init__ method accepts."
   ]
  },
  {
   "cell_type": "markdown",
   "id": "c7ad7d7a",
   "metadata": {},
   "source": [
    "Q7. What is the process for creating a class?\n",
    "Ans):\n",
    "    Create class.\n",
    "Enter the class name. (Optional) To enter a short description, grade level, or class time, tap Section and enter the details."
   ]
  },
  {
   "cell_type": "markdown",
   "id": "d36c6dff",
   "metadata": {},
   "source": [
    "Q8. How would you define the superclasses of a class?\n",
    "Ans):\n",
    "    A class that is derived from another class is called a subclass (also a derived class, extended class, or child class). The class from which the subclass is derived is called a superclass"
   ]
  }
 ],
 "metadata": {
  "kernelspec": {
   "display_name": "Python 3 (ipykernel)",
   "language": "python",
   "name": "python3"
  },
  "language_info": {
   "codemirror_mode": {
    "name": "ipython",
    "version": 3
   },
   "file_extension": ".py",
   "mimetype": "text/x-python",
   "name": "python",
   "nbconvert_exporter": "python",
   "pygments_lexer": "ipython3",
   "version": "3.9.13"
  }
 },
 "nbformat": 4,
 "nbformat_minor": 5
}
