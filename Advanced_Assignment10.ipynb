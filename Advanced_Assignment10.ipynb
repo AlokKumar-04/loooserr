{
 "cells": [
  {
   "cell_type": "markdown",
   "id": "f33f92e8",
   "metadata": {},
   "source": [
    "Q1. What is the difference between __getattr__ and __getattribute__?\n",
    "Ans):\n",
    "    __getattr__ is invoked when an attribute is not found using the normal lookup process, while __getattribute__ is called every time an attribute is accessed, regardless of its existence. __getattr__ is used for handling attribute lookup failures, while __getattribute__ allows you to intercept and customize attribute access behavior."
   ]
  },
  {
   "cell_type": "code",
   "execution_count": 2,
   "id": "60d1cdad",
   "metadata": {},
   "outputs": [
    {
     "name": "stdout",
     "output_type": "stream",
     "text": [
      "Attribute attribute_name does not exist.\n",
      "Accessing attribute attribute_name.\n"
     ]
    }
   ],
   "source": [
    "#Q1\n",
    "class MyClass:\n",
    "    def __getattr__(self, name):\n",
    "        return f\"Attribute {name} does not exist.\"\n",
    "\n",
    "obj = MyClass()\n",
    "print(obj.attribute_name)  \n",
    "\n",
    "\n",
    "\n",
    "class MyClass:\n",
    "    def __getattribute__(self, name):\n",
    "        return f\"Accessing attribute {name}.\"\n",
    "\n",
    "obj = MyClass()\n",
    "print(obj.attribute_name) \n",
    "\n"
   ]
  },
  {
   "cell_type": "markdown",
   "id": "25aa1ed5",
   "metadata": {},
   "source": [
    "Q2. What is the difference between properties and descriptors?\n",
    "Ans):\n",
    "    Properties:\n",
    "    1.Properties are a high-level and convenient way to define and manage attributes.\n",
    "    2.They are defined at the class level using the @property decorator or the property() built-in function.\n",
    "    3.Properties are accessed and modified like regular attributes, but behind the scenes, custom getter, setter, and deleter methods are invoked.\n",
    "    4.Properties provide a way to encapsulate attribute access logic and perform additional actions when getting, setting, or deleting attribute values.\n",
    "    5.They can be used to implement computed attributes or to enforce constraints or validations on attribute values.\n",
    "    6.Properties are associated with a specific instance of a class and are generally used for per-instance customization.\n",
    "\n",
    "\n",
    "Descriptors:\n",
    "    1.Descriptors are a lower-level mechanism for attribute access customization.\n",
    "    2.They are defined as separate classes and need to implement the __get__, __set__, and/or __delete__ methods.\n",
    "    3.Descriptors are assigned to class attributes, and their behavior is triggered when accessing these attributes.\n",
    "    4.They allow you to control attribute access at the class level, providing fine-grained control over how attributes are retrieved, assigned, and deleted.\n",
    "    5.Descriptors can be shared among multiple instances of a class and provide a way to define attribute behavior that is independent of individual instances.\n",
    "    6.They can be used to implement shared data attributes, custom data access patterns, or complex attribute management."
   ]
  },
  {
   "cell_type": "markdown",
   "id": "ed64f3c7",
   "metadata": {},
   "source": [
    "Q3. What are the key differences in functionality between __getattr__ and __getattribute__, as well as\n",
    "properties and descriptors?\n",
    "Ans):\n",
    "    The answer of this question was already described in above, Please refer to Q1 and Q2 answer."
   ]
  }
 ],
 "metadata": {
  "kernelspec": {
   "display_name": "Python 3 (ipykernel)",
   "language": "python",
   "name": "python3"
  },
  "language_info": {
   "codemirror_mode": {
    "name": "ipython",
    "version": 3
   },
   "file_extension": ".py",
   "mimetype": "text/x-python",
   "name": "python",
   "nbconvert_exporter": "python",
   "pygments_lexer": "ipython3",
   "version": "3.9.13"
  }
 },
 "nbformat": 4,
 "nbformat_minor": 5
}
