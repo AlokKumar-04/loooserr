{
 "cells": [
  {
   "cell_type": "markdown",
   "id": "c92b7266",
   "metadata": {},
   "source": [
    "Q1. Can you create a programme or function that employs both positive and negative indexing? Is\n",
    "there any repercussion if you do so?\n",
    "Ans):\n",
    "    There are generally no repercussions to using both positive and negative indexing in a program or function, as long as it is done correctly. "
   ]
  },
  {
   "cell_type": "code",
   "execution_count": 1,
   "id": "b2e52a61",
   "metadata": {},
   "outputs": [
    {
     "name": "stdout",
     "output_type": "stream",
     "text": [
      "apple\n",
      "kiwi\n",
      "banana\n",
      "grape\n"
     ]
    }
   ],
   "source": [
    "#Q1\n",
    "my_list = ['apple', 'banana', 'orange', 'grape', 'kiwi']\n",
    "\n",
    "# Access first and last elements using positive and negative indexing\n",
    "print(my_list[0])      \n",
    "print(my_list[-1])    \n",
    "\n",
    "# Access second and second-to-last elements using positive and negative indexing\n",
    "print(my_list[1])     \n",
    "print(my_list[-2])     "
   ]
  },
  {
   "cell_type": "markdown",
   "id": "c33760ad",
   "metadata": {},
   "source": [
    "Q2. What is the most effective way of starting with 1,000 elements in a Python list? Assume that all\n",
    "elements should be set to the same value.\n",
    "Ans):\n",
    "    This creates a list of 1,000 elements, with each element initialized to the value 0. You can replace the 0 with any value that you want to use as the initial value for all elements in the list. Using a list comprehension like this is more efficient than using a loop to create the list, as it takes advantage of Python's built-in optimizations for list operations."
   ]
  },
  {
   "cell_type": "code",
   "execution_count": 3,
   "id": "95173477",
   "metadata": {},
   "outputs": [],
   "source": [
    "#Q2\n",
    "my_list = [0] * 1000\n"
   ]
  },
  {
   "cell_type": "markdown",
   "id": "221db8a1",
   "metadata": {},
   "source": [
    "Q3. How do you slice a list to get any other part while missing the rest? (For example, suppose you\n",
    "want to make a new list with the elements first, third, fifth, seventh, and so on.)\n",
    "Ans):\n",
    "    we use the slice notation my_list[::2] to get every other element in the list starting from the first element. The ::2 specifies a step value of 2, which means that we skip every other element in the list. If you want to start from a different position, you can change the starting index in the slice notation. For example, to start from the second element and get every other element, you can use my_list[1::2]."
   ]
  },
  {
   "cell_type": "code",
   "execution_count": 4,
   "id": "369dd6c5",
   "metadata": {},
   "outputs": [
    {
     "name": "stdout",
     "output_type": "stream",
     "text": [
      "['apple', 'orange', 'kiwi', 'pineapple']\n"
     ]
    }
   ],
   "source": [
    "#Q3\n",
    "my_list = ['apple', 'banana', 'orange', 'grape', 'kiwi', 'mango', 'pineapple', 'peach']\n",
    "\n",
    "# Get every other element starting from the first element\n",
    "new_list = my_list[::2]\n",
    "\n",
    "print(new_list)     \n"
   ]
  },
  {
   "cell_type": "markdown",
   "id": "fc112ddb",
   "metadata": {},
   "source": [
    "Q4. Explain the distinctions between indexing and slicing.\n",
    "Ans):\n",
    "    indexing is used to access a single element in a list by its position, while slicing is used to create a new list that contains only a portion of the original list by specifying a range of indices."
   ]
  },
  {
   "cell_type": "markdown",
   "id": "f73710b4",
   "metadata": {},
   "source": [
    "Q5. What happens if one of the slicing expressions indexes is out of range?\n",
    "Ans):\n",
    "    If one of the slicing expressions in a Python list is out of range, Python will not raise an error. Instead, it will simply return the slice of the list that is within range."
   ]
  },
  {
   "cell_type": "markdown",
   "id": "26511390",
   "metadata": {},
   "source": [
    "Q6. If you pass a list to a function, and if you want the function to be able to change the values of the\n",
    "list—so that the list is different after the function returns—what action should you avoid?\n",
    "Ans):\n",
    "    we pass my_list to the modify_list function and modify it directly within the function using indexing and append. When we print my_list after calling the function, we can see that it has been modified as expected."
   ]
  },
  {
   "cell_type": "code",
   "execution_count": 5,
   "id": "41ed5c26",
   "metadata": {},
   "outputs": [
    {
     "name": "stdout",
     "output_type": "stream",
     "text": [
      "['new value', 'another value']\n"
     ]
    }
   ],
   "source": [
    "#Q6\n",
    "def modify_list(my_list):\n",
    "    my_list[0] = 'new value'\n",
    "    my_list.append('another value')\n",
    "\n",
    "my_list = ['old value']\n",
    "modify_list(my_list)\n",
    "print(my_list)    \n"
   ]
  },
  {
   "cell_type": "markdown",
   "id": "a50c814a",
   "metadata": {},
   "source": [
    "Q7. What is the concept of an unbalanced matrix?\n",
    "Ans):\n",
    "    In the context of matrices, an unbalanced matrix is a matrix where the number of rows and columns are not equal. In other words, it is a rectangular matrix where the number of rows and columns are different."
   ]
  },
  {
   "cell_type": "markdown",
   "id": "e4b7d89f",
   "metadata": {},
   "source": [
    "Q8. Why is it necessary to use either list comprehension or a loop to create arbitrarily large matrices?\n",
    "Ans):\n",
    "    It is necessary to use either list comprehension or a loop to create arbitrarily large matrices in Python because Python does not provide a built-in way to create matrices of arbitrary size."
   ]
  }
 ],
 "metadata": {
  "kernelspec": {
   "display_name": "Python 3 (ipykernel)",
   "language": "python",
   "name": "python3"
  },
  "language_info": {
   "codemirror_mode": {
    "name": "ipython",
    "version": 3
   },
   "file_extension": ".py",
   "mimetype": "text/x-python",
   "name": "python",
   "nbconvert_exporter": "python",
   "pygments_lexer": "ipython3",
   "version": "3.9.13"
  }
 },
 "nbformat": 4,
 "nbformat_minor": 5
}
