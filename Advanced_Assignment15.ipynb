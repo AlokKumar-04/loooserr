{
 "cells": [
  {
   "cell_type": "markdown",
   "id": "d0e97741",
   "metadata": {},
   "source": [
    "1. What are the new features added in Python 3.8 version?\n",
    "Ans):\n",
    "    New Features In Python 3.8.\n",
    "    1. Assignment Expressions.\n",
    "    2. Positional-Only Parameters.\n",
    "    3. Parallel Filesystem Cache For Compiled Bytecode Files.\n",
    "    4. Debug Build Uses The Same ABI as Release Build.\n",
    "    5. f-Strings Support = For Self Documenting Expressions And Debugging.\n",
    "    6. Python Runtime Audit Hooks.\n",
    "    7. Python Initialization Configuration."
   ]
  },
  {
   "cell_type": "markdown",
   "id": "fb20b3b4",
   "metadata": {},
   "source": [
    "2. What is monkey patching in Python?\n",
    "Ans):\n",
    "    Monkey patching in python refers to modifying or updating a piece of code or class or any module at the runtime. In simple words, we can change the behavior or working of a class/ module at the runtime without changing the whole python code."
   ]
  },
  {
   "cell_type": "markdown",
   "id": "0235b538",
   "metadata": {},
   "source": [
    "3. What is the difference between a shallow copy and deep copy?\n",
    "Ans):\n",
    "     A shallow copy creates a new object that references the original data, while a deep copy creates a new object with entirely separate copies of all the data."
   ]
  },
  {
   "cell_type": "markdown",
   "id": "ef6d06d3",
   "metadata": {},
   "source": [
    "4. What is the maximum possible length of an identifier?\n",
    "Ans):\n",
    "    The maximum length of an identifier can vary depending on the programming language or system you are using. In many programming languages, identifiers can typically be up to a few hundred characters long. However, it's generally recommended to keep identifiers reasonably short and meaningful to improve code readability and maintainability. It's best to consult the documentation or specifications of the specific programming language or system you are working with to determine the exact maximum length of identifiers."
   ]
  },
  {
   "cell_type": "markdown",
   "id": "d8141658",
   "metadata": {},
   "source": [
    "5. What is generator comprehension?\n",
    "Ans):\n",
    "    A generator comprehension is a concise way to create a generator in Python. It follows a similar syntax to list comprehensions but produces a generator object instead of a list. Generator comprehensions are surrounded by parentheses instead of square brackets and use the same looping and conditional expressions. They are memory-efficient because they generate values on-the-fly instead of creating the entire sequence at once. By using a generator comprehension, you can iterate over large or infinite sequences without exhausting memory resources."
   ]
  }
 ],
 "metadata": {
  "kernelspec": {
   "display_name": "Python 3 (ipykernel)",
   "language": "python",
   "name": "python3"
  },
  "language_info": {
   "codemirror_mode": {
    "name": "ipython",
    "version": 3
   },
   "file_extension": ".py",
   "mimetype": "text/x-python",
   "name": "python",
   "nbconvert_exporter": "python",
   "pygments_lexer": "ipython3",
   "version": "3.9.13"
  }
 },
 "nbformat": 4,
 "nbformat_minor": 5
}
