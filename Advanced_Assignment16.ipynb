{
 "cells": [
  {
   "cell_type": "markdown",
   "id": "f286b915",
   "metadata": {},
   "source": [
    "Q1. What is the benefit of regular expressions?\n",
    "Ans):\n",
    "    Regular expressions are useful in search and replace operations. The typical use case is to look for a sub-string that matches a pattern and replace it with something else. Most APIs using regular expressions allow you to reference capture groups from the search pattern in the replacement string."
   ]
  },
  {
   "cell_type": "markdown",
   "id": "5610ef5d",
   "metadata": {},
   "source": [
    "Q2. Describe the difference between the effects of \"(ab)c+\" and \"a(bc)+.\" Which of these, if any, is the\n",
    "unqualified pattern \"abc+\"?\n",
    "Ans):\n",
    "    The pattern \"(ab)c+\" matches any string that starts with \"ab\" and has one or more occurrences of \"c\" after it, while the pattern \"a(bc)+\" matches any string that starts with \"a\" followed by one or more occurrences of \"bc\". The unqualified pattern \"abc+\" matches any string that contains one or more occurrences of \"abc\"."
   ]
  },
  {
   "cell_type": "markdown",
   "id": "78fc42c1",
   "metadata": {},
   "source": [
    "Q3. How much do you need to use the following sentence while using regular expressions?\n",
    "\n",
    "import re\n",
    "Ans):\n",
    "    You need to use the import re statement at the beginning of your Python script or function in order to use regular expressions."
   ]
  },
  {
   "cell_type": "markdown",
   "id": "bbefff67",
   "metadata": {},
   "source": [
    "Q4. Which characters have special significance in square brackets when expressing a range, and\n",
    "under what circumstances?\n",
    "Ans):\n",
    "    In regular expressions, square brackets are used to define a character class, which matches any one of the characters inside the brackets. When used to express a range, the characters inside the brackets represent a range of characters. For example, [a-z] matches any lowercase letter from a to z."
   ]
  },
  {
   "cell_type": "markdown",
   "id": "b25fb5e6",
   "metadata": {},
   "source": [
    "Q5. How does compiling a regular-expression object benefit you?\n",
    "Ans):\n",
    "    Compiling a regular-expression object can benefit you by improving the performance of your code. When you compile a regular-expression object, the pattern is preprocessed and optimized, which can result in faster execution times when the pattern is used repeatedly in your code."
   ]
  },
  {
   "cell_type": "markdown",
   "id": "d064c4a0",
   "metadata": {},
   "source": [
    "Q6. What are some examples of how to use the match object returned by re.match and re.search?\n",
    "Ans):\n",
    "    The match object returned by re.match and re.search can be used to obtain information about the search performed. For example, you can use the group() method to obtain the matched string, and the start() and end() methods to obtain the indices of the start and end of the match."
   ]
  },
  {
   "cell_type": "markdown",
   "id": "5c56427f",
   "metadata": {},
   "source": [
    "Q7. What is the difference between using a vertical bar (|) as an alteration and using square brackets\n",
    "as a character set?\n",
    "Ans):\n",
    "    The vertical bar (|) is used to indicate alternatives in regular expressions, where it represents a logical \"OR\" between different options. It allows you to specify multiple choices for a single position in a pattern."
   ]
  },
  {
   "cell_type": "markdown",
   "id": "29c2f338",
   "metadata": {},
   "source": [
    "Q8. In regular-expression search patterns, why is it necessary to use the raw-string indicator (r)? In  \n",
    "replacement strings?\n",
    "Ans):\n",
    "    Raw strings help you get the \"source code\" of a RegEx safely to the RegEx parser, which will then assign meaning to character sequences like \\d , \\w , \\n , etc..."
   ]
  }
 ],
 "metadata": {
  "kernelspec": {
   "display_name": "Python 3 (ipykernel)",
   "language": "python",
   "name": "python3"
  },
  "language_info": {
   "codemirror_mode": {
    "name": "ipython",
    "version": 3
   },
   "file_extension": ".py",
   "mimetype": "text/x-python",
   "name": "python",
   "nbconvert_exporter": "python",
   "pygments_lexer": "ipython3",
   "version": "3.9.13"
  }
 },
 "nbformat": 4,
 "nbformat_minor": 5
}
