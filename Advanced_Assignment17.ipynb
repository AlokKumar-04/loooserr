{
 "cells": [
  {
   "cell_type": "markdown",
   "id": "7e76a8b9",
   "metadata": {},
   "source": [
    "Q1. Explain the difference between greedy and non-greedy syntax with visual terms in as few words\n",
    "as possible. What is the bare minimum effort required to transform a greedy pattern into a non-greedy\n",
    "one? What characters or characters can you introduce or change?\n",
    "Ans):\n",
    "    Greedy syntax matches as much as possible, while non-greedy syntax matches as little as possible. To transform a greedy pattern into a non-greedy one, you can introduce or change a single character: add a \"?\" after the quantifier.\n"
   ]
  },
  {
   "cell_type": "markdown",
   "id": "bd0dbff0",
   "metadata": {},
   "source": [
    "Q2. When exactly does greedy versus non-greedy make a difference?  What if you&#39;re looking for a\n",
    "non-greedy match but the only one available is greedy?\n",
    "Ans):\n",
    "    The choice between greedy and non-greedy matching depends on the specific requirements of your pattern and the desired outcome."
   ]
  },
  {
   "cell_type": "markdown",
   "id": "ceee1bb6",
   "metadata": {},
   "source": [
    "Q3. In a simple match of a string, which looks only for one match and does not do any replacement, is\n",
    "the use of a nontagged group likely to make any practical difference?\n",
    "Ans):\n",
    "    In a simple match of a string that only looks for one match and does not perform any replacement, the use of a non-tagged group is unlikely to make any practical difference. Non-tagged groups are typically used when you want to group a set of characters together for a repeated pattern or to apply a quantifier. However, in a simple match where you are not capturing or referencing the group, using a non-tagged group will not have any impact on the matching behavior or the results of the match."
   ]
  },
  {
   "cell_type": "markdown",
   "id": "43e00cca",
   "metadata": {},
   "source": [
    "Q4. Describe a scenario in which using a nontagged category would have a significant impact on the\n",
    "program&#39;s outcomes.\n",
    "Ans):\n",
    "    In an online customer support chat system, a malfunctioning tagging mechanism can lead to significant negative impacts on program outcomes. Without proper categorization, the system struggles to route inquiries efficiently, resulting in delays and decreased productivity. Inconsistent handling of inquiries can lead to incorrect or inadequate responses, causing customer frustration. The overall customer experience suffers as wait times increase and satisfaction declines. Furthermore, the lack of categorized data hampers analytics and improvement efforts. Promptly addressing the tagging issue, utilizing manual triage if necessary, and communicating with customers can help mitigate these impacts."
   ]
  },
  {
   "cell_type": "markdown",
   "id": "55c2ae3d",
   "metadata": {},
   "source": [
    "Q5. Unlike a normal regex pattern, a look-ahead condition does not consume the characters it\n",
    "examines. Describe a situation in which this could make a difference in the results of your\n",
    "programme.\n",
    "Ans):\n",
    "    A look-ahead condition in a regular expression pattern allows you to match patterns based on specific conditions without consuming the characters being examined. Unlike a normal regex pattern, a look-ahead condition does not consume the characters it examines. This can make a difference in the results of your program when you need to extract certain patterns that are followed by specific conditions, such as extracting email addresses followed by a particular domain name. Without the look-ahead condition, the regex would consume the characters being examined and potentially match patterns that do not meet the desired conditions."
   ]
  },
  {
   "cell_type": "markdown",
   "id": "ce3ca6dc",
   "metadata": {},
   "source": [
    "Q6. In standard expressions, what is the difference between positive look-ahead and negative look-\n",
    "ahead?\n",
    "Ans):\n",
    "    Positive lookahead: matches if pattern matches what comes after the current location in the input string. Negative lookahead:  matches if pattern does not match what comes after the current location in the input string."
   ]
  },
  {
   "cell_type": "markdown",
   "id": "6ab87770",
   "metadata": {},
   "source": [
    "Q7. What is the benefit of referring to groups by name rather than by number in a standard\n",
    "expression?\n",
    "Ans):\n",
    "    The advantage to named groups is that it adds readability and understandability to the code, so that you can easily see what part of a regular expression match is being referenced."
   ]
  },
  {
   "cell_type": "markdown",
   "id": "2e9ae744",
   "metadata": {},
   "source": [
    "Q8. Can you identify repeated items within a target string using named groups, as in &quot;The cow\n",
    "jumped over the moon&quot;?\n",
    "Ans):\n",
    "    Yes, regular expressions can be used to identify repeated items within a target string using named groups. However, in the example you provided, \"The cow jumped over the moon,\" there are no repeated items to identify. If you have a specific pattern or repeated items in mind that you would like to identify, please provide more details so that I can assist you further."
   ]
  },
  {
   "cell_type": "markdown",
   "id": "268508a2",
   "metadata": {},
   "source": [
    "Q9. When parsing a string, what is at least one thing that the Scanner interface does for you that the\n",
    "re.findall feature does not?\n",
    "Ans):\n",
    "   One thing that the Scanner interface in Python provides which the re.findall feature does not is the ability to iterate over the parsed tokens or patterns in a string. Scanner allows you to define patterns using regular expressions and then scan through a given string, returning each matched token or pattern as you iterate over it. This makes it easier to process a string in a step-by-step manner, extracting specific information as needed. On the other hand, re.findall simply returns all non-overlapping matches as a list, without providing an iterator-like functionality."
   ]
  },
  {
   "cell_type": "markdown",
   "id": "8bd0dea7",
   "metadata": {},
   "source": [
    "Q10. Does a scanner object have to be named scanner?\n",
    "Ans):\n",
    "    No, a Scanner object does not have to be named \"scanner\" in Python. The name of the object is determined by the programmer and can be any valid variable name in Python. It is a common convention to name a Scanner object \"scanner\" for clarity and readability, but you are free to choose any other suitable name according to your preference or the requirements of your program."
   ]
  }
 ],
 "metadata": {
  "kernelspec": {
   "display_name": "Python 3 (ipykernel)",
   "language": "python",
   "name": "python3"
  },
  "language_info": {
   "codemirror_mode": {
    "name": "ipython",
    "version": 3
   },
   "file_extension": ".py",
   "mimetype": "text/x-python",
   "name": "python",
   "nbconvert_exporter": "python",
   "pygments_lexer": "ipython3",
   "version": "3.9.13"
  }
 },
 "nbformat": 4,
 "nbformat_minor": 5
}
