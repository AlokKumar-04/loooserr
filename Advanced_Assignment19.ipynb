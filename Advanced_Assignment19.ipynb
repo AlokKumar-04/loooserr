{
 "cells": [
  {
   "cell_type": "markdown",
   "id": "f0c66c0b",
   "metadata": {},
   "source": [
    "Q1. Define the relationship between a class and its instances. Is it a one-to-one or a one-to-many\n",
    "partnership, for example?\n",
    "Ans):\n",
    "    In Python, the relationship between a class and its instances can be described as a one-to-many partnership. A class serves as a blueprint or template for creating multiple instances, also known as objects. Each instance represents a unique entity with its own set of attributes and behaviors defined by the class. While a class provides the structure and behavior common to all instances, each instance can have its own distinct state and can be manipulated independently. Therefore, for a given class, there can be multiple instances created, forming a one-to-many relationship.\n"
   ]
  },
  {
   "cell_type": "code",
   "execution_count": 3,
   "id": "b1a1220b",
   "metadata": {},
   "outputs": [],
   "source": [
    "#Q1\n",
    "class Car:\n",
    "    def __init__(self, make, model):\n",
    "        self.make = make\n",
    "        self.model = model\n",
    "\n",
    "    def start_engine(self):\n",
    "        print(f\"The {self.make} {self.model}'s engine has started.\")\n",
    "        \n",
    "        \n",
    "        car1 = Car(\"Toyota\", \"Camry\")\n",
    "        car2 = Car(\"Honda\", \"Accord\")\n",
    "        car3 = Car(\"Ford\", \"Mustang\")\n",
    "\n",
    "\n",
    "\n",
    "        car1.start_engine()  # Output: The Toyota Camry's engine has started.\n",
    "        car2.start_engine()  # Output: The Honda Accord's engine has started.\n",
    "        car3.start_engine()  # Output: The Ford Mustang's engine has started.\n"
   ]
  },
  {
   "cell_type": "markdown",
   "id": "0881c994",
   "metadata": {},
   "source": [
    "Q2. What kind of data is held only in an instance?\n",
    "Ans):\n",
    "    Data held only in an instance typically refers to instance-specific data or instance variables. These are data values that are unique to a particular instance of a class or object in object-oriented programming. Instance data can vary from one instance to another and is typically used to represent the state or characteristics of an individual object."
   ]
  },
  {
   "cell_type": "markdown",
   "id": "1f5585c2",
   "metadata": {},
   "source": [
    "Q3. What kind of knowledge is stored in a class?\n",
    "Ans):\n",
    "    A class in object-oriented programming is a blueprint for creating objects. It stores knowledge in the form of attributes (data specific to each object), methods (behavior or actions), constructors (initialization), access modifiers (visibility), and inheritance (code reuse and specialization). It encapsulates the structure and behavior of objects, allowing for concise and reusable code."
   ]
  },
  {
   "cell_type": "markdown",
   "id": "b8b57d8b",
   "metadata": {},
   "source": [
    "Q4. What exactly is a method, and how is it different from a regular function?\n",
    "Ans):\n",
    "    A method is a term commonly used in object-oriented programming to refer to a function that is associated with a particular object or class. It is a piece of code that defines the behavior of an object or performs an action within the context of that object. Methods are typically used to manipulate or access the internal state of an object."
   ]
  },
  {
   "cell_type": "markdown",
   "id": "72ba1f88",
   "metadata": {},
   "source": [
    "Q5. Is inheritance supported in Python, and if so, what is the syntax?\n",
    "Ans):\n",
    "    Yes, inheritance is supported in Python. The syntax for defining a class that inherits from another class is as follows:\n",
    "    \n",
    "    class ChildClass(ParentClass):\n",
    "    # Class definition\n",
    "    pass\n"
   ]
  },
  {
   "cell_type": "markdown",
   "id": "0c6a30a4",
   "metadata": {},
   "source": [
    "Q6. How much encapsulation (making instance or class variables private) does Python support?\n",
    "Ans):\n",
    "    Python supports a limited level of encapsulation by providing mechanisms to make instance and class variables private. It encourages the use of naming conventions rather than strict enforcement."
   ]
  },
  {
   "cell_type": "markdown",
   "id": "c027807f",
   "metadata": {},
   "source": [
    "Q7. How do you distinguish between a class variable and an instance variable?\n",
    "Ans):\n",
    "    Class variables are defined within the class but outside of any class methods. Instance variables are defined within class methods, typically the constructor. Changes made to the class variable affect all instances. Changes made to the instance variable does not affect all instances."
   ]
  },
  {
   "cell_type": "markdown",
   "id": "f29ce60a",
   "metadata": {},
   "source": [
    "Q8. When, if ever, can self be included in a classs method definitions?\n",
    "Ans):\n",
    "    n object-oriented programming, the \"self\" keyword is typically used to refer to the instance of a class within its own method definitions. It allows the class methods to access and manipulate the instance variables and other methods of the class. Therefore, the \"self\" keyword is almost always included as the first parameter in a method definition within a class."
   ]
  },
  {
   "cell_type": "markdown",
   "id": "5e1c5d47",
   "metadata": {},
   "source": [
    "Q9. What is the difference between the _ _add_ _ and the _ _radd_ _ methods?\n",
    "Ans):\n",
    "    The radd() method adds each value in the DataFrame with a specified value. This method is called reverse add, and is similar to the add() method, but instead of calculating 100 + 15 it calculates 15 + 100 , which in this case will give the same result."
   ]
  },
  {
   "cell_type": "markdown",
   "id": "cdb1cabf",
   "metadata": {},
   "source": [
    "Q10. When is it necessary to use a reflection method? When do you not need it, even though you\n",
    "support the operation in question?\n",
    "Ans):\n",
    "    A reflection method is typically used when you need to inspect or manipulate an object's structure or behavior at runtime, based on its metadata."
   ]
  },
  {
   "cell_type": "markdown",
   "id": "10eee021",
   "metadata": {},
   "source": [
    "Q11. What is the _ _iadd_ _ method called?\n",
    "Ans):\n",
    "    The _ _iadd_ _ method is called the \"in-place addition\" method."
   ]
  },
  {
   "cell_type": "markdown",
   "id": "d5107c86",
   "metadata": {},
   "source": [
    "Q12. Is the _ _init_ _ method inherited by subclasses? What do you do if you need to customize its\n",
    "behavior within a subclass?\n",
    "Ans):\n",
    "    Yes, the __init__ method (constructor) is inherited by subclasses in Python. When a subclass is created, it automatically inherits the __init__ method from its parent class. However, if you need to customize the behavior of the __init__ method within a subclass, you can override it by defining a new __init__ method in the subclass."
   ]
  }
 ],
 "metadata": {
  "kernelspec": {
   "display_name": "Python 3 (ipykernel)",
   "language": "python",
   "name": "python3"
  },
  "language_info": {
   "codemirror_mode": {
    "name": "ipython",
    "version": 3
   },
   "file_extension": ".py",
   "mimetype": "text/x-python",
   "name": "python",
   "nbconvert_exporter": "python",
   "pygments_lexer": "ipython3",
   "version": "3.9.13"
  }
 },
 "nbformat": 4,
 "nbformat_minor": 5
}
