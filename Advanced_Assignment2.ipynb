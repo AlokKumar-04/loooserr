{
 "cells": [
  {
   "cell_type": "markdown",
   "id": "d0f1813c",
   "metadata": {},
   "source": [
    "Q1. What is the relationship between classes and modules?\n",
    "Ans):\n",
    "    Modules are collections of methods and constants. They cannot generate instances. Classes may generate instances (objects), and have per-instance state."
   ]
  },
  {
   "cell_type": "markdown",
   "id": "f8475e8e",
   "metadata": {},
   "source": [
    "Q2. How do you make instances and classes?\n",
    "Ans):\n",
    "    To create instances of a class, you call the class using class name and pass in whatever arguments its __init__ method accepts."
   ]
  },
  {
   "cell_type": "markdown",
   "id": "b58c64f0",
   "metadata": {},
   "source": [
    "Q3. Where and how should be class attributes created?\n",
    "Ans):\n",
    "    Class attributes should be created inside the class definition block, but outside of any methods or functions. They should be defined using the syntax attribute_name = attribute_value"
   ]
  },
  {
   "cell_type": "markdown",
   "id": "3d9eb7a4",
   "metadata": {},
   "source": [
    "Q4. Where and how are instance attributes created?\n",
    "Ans):\n",
    "    Instance attributes are created within an instance of a class, which is an object created from the class definition. Instance attributes are defined in the constructor method of the class, which is typically named __init__."
   ]
  },
  {
   "cell_type": "markdown",
   "id": "5252bd29",
   "metadata": {},
   "source": [
    "Q5. What does the term \"self\" in a Python class mean?\n",
    "Ans):\n",
    "    In this example, we create an instance of the MyClass class and call its my_method method. When we call my_method, we don't need to pass in any arguments for the self parameter - Python automatically passes in the instance of the class that the method is being called on. In this case, my_object is the instance of the MyClass class that my_method is being called on.\n",
    "\n",
    "By convention, the first parameter of any method in a class should always be \"self\", so that it is clear that the method is referring to the instance of the class."
   ]
  },
  {
   "cell_type": "markdown",
   "id": "c939639d",
   "metadata": {},
   "source": [
    "Q6. How does a Python class handle operator overloading?\n",
    "Ans):\n",
    "    The operator overloading in Python means provide extended meaning beyond their predefined operational meaning. Such as, we use the \"+\" operator for adding two integers as well as joining two strings or merging two lists. We can achieve this as the \"+\" operator is overloaded by the \"int\" class and \"str\" class."
   ]
  },
  {
   "cell_type": "markdown",
   "id": "584a0e2f",
   "metadata": {},
   "source": [
    "Q7. When do you consider allowing operator overloading of your classes?\n",
    "Ans):\n",
    "    Operator Overloading means giving extended meaning beyond their predefined operational meaning. For example operator + is used to add two integers as well as join two strings and merge two lists. It is achievable because ‘+’ operator is overloaded by int class and str class. You might have noticed that the same built-in operator or function shows different behavior for objects of different classes, this is called Operator Overloading. "
   ]
  },
  {
   "cell_type": "markdown",
   "id": "df96a958",
   "metadata": {},
   "source": [
    "Q8. What is the most popular form of operator overloading?\n",
    "Ans):\n",
    "    The most frequent instance is the adding up operator '+', where it can be used for the usual addition and also for combining two different strings. As mentioned on top, the plus symbol's practice in dissimilar forms is the largest classic example of the operator level overloading process."
   ]
  },
  {
   "cell_type": "markdown",
   "id": "fe111ac8",
   "metadata": {},
   "source": [
    "Q9. What are the two most important concepts to grasp in order to comprehend Python OOP code?\n",
    "Ans):\n",
    "    In Python, object-oriented Programming (OOPs) is a programming paradigm that uses objects and classes in programming. It aims to implement real-world entities like inheritance, polymorphisms, encapsulation, etc. in the programming. The main concept of OOPs is to bind the data and the functions that work on that together as a single unit so that no other part of the code can access this data."
   ]
  }
 ],
 "metadata": {
  "kernelspec": {
   "display_name": "Python 3 (ipykernel)",
   "language": "python",
   "name": "python3"
  },
  "language_info": {
   "codemirror_mode": {
    "name": "ipython",
    "version": 3
   },
   "file_extension": ".py",
   "mimetype": "text/x-python",
   "name": "python",
   "nbconvert_exporter": "python",
   "pygments_lexer": "ipython3",
   "version": "3.9.13"
  }
 },
 "nbformat": 4,
 "nbformat_minor": 5
}
