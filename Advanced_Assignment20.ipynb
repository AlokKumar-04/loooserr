{
 "cells": [
  {
   "cell_type": "markdown",
   "id": "90d46e89",
   "metadata": {},
   "source": [
    "1. Compare and contrast the float and Decimal classes benefits and drawbacks.\n",
    "Ans):\n",
    "    While Float is utilised for storing scientific numbers and for improved efficiency, Decimal is employed in financial applications that demand a high level of precision and ease in avoiding rounding mistakes. Decimal data types perform less well than and float data types."
   ]
  },
  {
   "cell_type": "markdown",
   "id": "f001fcf4",
   "metadata": {},
   "source": [
    "2. Decimal('1.200') and Decimal('1.2') are two objects to consider. In what sense are these the same object? Are these just two ways of representing the exact same value, or do they correspond to different internal states?\n",
    "Ans):\n",
    "    In Python, Decimal('1.200') and Decimal('1.2') are two separate objects with different internal representations. While they represent the same numerical value, their internal states differ. The Decimal class stores decimal numbers as tuples, and the coefficients and exponents of Decimal('1.200') and Decimal('1.2') are distinct. However, when converted to a string or used in arithmetic operations, they yield the same value."
   ]
  },
  {
   "cell_type": "markdown",
   "id": "31732b20",
   "metadata": {},
   "source": [
    "3. What happens if the equality of Decimal('1.200') and Decimal('1.2') is checked?\n",
    "Ans):\n",
    "    If the equality of Decimal('1.200') and Decimal('1.2') is checked, the result would be False. Despite representing the same value, the two decimal numbers have different string representations due to trailing zeros. When comparing decimal numbers, the string representations are compared character by character, and since the strings are not exactly the same, the equality check returns False."
   ]
  },
  {
   "cell_type": "markdown",
   "id": "feed1766",
   "metadata": {},
   "source": [
    "4. Why is it preferable to start a Decimal object with a string rather than a floating-point value?\n",
    "Ans):\n",
    "    The use of float is not recommended when creating decimals because it will store approximate value instead of fixed precision value. From the below example, as you can see when you try decimal(0.1) it will store the approximate value of 0.1 instead of 0.1 itself."
   ]
  },
  {
   "cell_type": "markdown",
   "id": "e5681b3f",
   "metadata": {},
   "source": [
    "5. In an arithmetic phrase, how simple is it to combine Decimal objects with integers?\n",
    "Ans):\n",
    "    Combining Decimal objects with integers is straightforward and simple in arithmetic operations. Both Decimal objects and integers can be added, subtracted, multiplied, and divided without any special handling or conversion. The arithmetic operations involving Decimal objects and integers will automatically produce the expected result without any loss of precision."
   ]
  },
  {
   "cell_type": "markdown",
   "id": "685381f0",
   "metadata": {},
   "source": [
    "6. Can Decimal objects and floating-point values be combined easily?\n",
    "Ans):\n",
    "    Yes, Decimal objects and floating-point values can be combined, but it's important to be aware of potential precision and rounding issues.\n",
    "In Python, you can convert a floating-point value to a Decimal object using the decimal module. For example:"
   ]
  },
  {
   "cell_type": "code",
   "execution_count": 2,
   "id": "938e4ba8",
   "metadata": {},
   "outputs": [
    {
     "name": "stdout",
     "output_type": "stream",
     "text": [
      "3.14158999999999988261834005243144929409027099609375\n"
     ]
    }
   ],
   "source": [
    "#Q6 \n",
    "from decimal import Decimal\n",
    "\n",
    "float_value = 3.14159\n",
    "decimal_value = Decimal(float_value)\n",
    "\n",
    "print(decimal_value)"
   ]
  },
  {
   "cell_type": "markdown",
   "id": "1f08d9e7",
   "metadata": {},
   "source": [
    "7. Using the Fraction class but not the Decimal class, give an example of a quantity that can be expressed with absolute precision.\n",
    "Ans):\n",
    "    n Python, you can use the Fraction class from the fractions module to represent quantities with absolute precision. "
   ]
  },
  {
   "cell_type": "code",
   "execution_count": 3,
   "id": "c593fe70",
   "metadata": {},
   "outputs": [
    {
     "name": "stdout",
     "output_type": "stream",
     "text": [
      "5/2\n"
     ]
    }
   ],
   "source": [
    "#Q7\n",
    "from fractions import Fraction\n",
    "\n",
    "# Representing a quantity with absolute precision using the Fraction class\n",
    "quantity = Fraction(5, 2)  # Represents the fraction 5/2\n",
    "\n",
    "# Printing the quantity\n",
    "print(quantity) \n"
   ]
  },
  {
   "cell_type": "markdown",
   "id": "625a1da0",
   "metadata": {},
   "source": [
    "8. Describe a quantity that can be accurately expressed by the Decimal or Fraction classes but not by a floating-point value.\n",
    "Ans):\n",
    "    A quantity that can be accurately expressed by the Decimal or Fraction classes in Python but not by a floating-point value is a decimal number with a recurring or infinitely repeating fraction. Floating-point numbers have limited precision and cannot represent these types of numbers precisely. In contrast, the Decimal and Fraction classes can handle such numbers accurately by representing them as a decimal or fraction with arbitrary precision."
   ]
  },
  {
   "cell_type": "markdown",
   "id": "ad5093da",
   "metadata": {},
   "source": [
    "Q9. Consider the following two fraction objects: Fraction(1, 2) and Fraction(1, 2). (5, 10). Is the internal state of these two objects the same? Why do you think that is?\n",
    "Ans):\n",
    "    Yes, the internal state of the two Fraction objects is the same. This is because both fractions have the same numerator and denominator values: 1 for the numerator and 2 for the denominator. The internal state of a fraction is determined by its numerator and denominator, so if these values are the same, the fractions are considered to have the same internal state. In this case, both fractions represent the same value, which is one-half."
   ]
  },
  {
   "cell_type": "markdown",
   "id": "7d01bfd7",
   "metadata": {},
   "source": [
    "Q10. How do the Fraction class and the integer type (int) relate to each other? Containment or inheritance?\n",
    "Ans):\n",
    "    The Fraction class and the integer type (int) do not have a direct relationship of containment or inheritance. In most programming languages, including Python, the Fraction class is typically implemented as a separate class that provides functionality for representing and manipulating rational numbers, while the integer type (int) is a built-in data type that represents whole numbers.\n",
    "\n"
   ]
  }
 ],
 "metadata": {
  "kernelspec": {
   "display_name": "Python 3 (ipykernel)",
   "language": "python",
   "name": "python3"
  },
  "language_info": {
   "codemirror_mode": {
    "name": "ipython",
    "version": 3
   },
   "file_extension": ".py",
   "mimetype": "text/x-python",
   "name": "python",
   "nbconvert_exporter": "python",
   "pygments_lexer": "ipython3",
   "version": "3.9.13"
  }
 },
 "nbformat": 4,
 "nbformat_minor": 5
}
