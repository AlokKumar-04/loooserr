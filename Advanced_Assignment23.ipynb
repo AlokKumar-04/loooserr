{
 "cells": [
  {
   "cell_type": "markdown",
   "id": "bb1e0d4f",
   "metadata": {},
   "source": [
    "Q1. If you have any, what are your choices for increasing the comparison between different figures on\n",
    "the same graph?\n",
    "Ans):\n",
    "    To increase the comparison between different figures on the same graph, you can adjust the Y-axis scale, use different colors, label each data point or line, and add annotations to the graph. These options can help highlight the differences between the data sets, prevent confusion, provide additional context, and draw attention to important information."
   ]
  },
  {
   "cell_type": "markdown",
   "id": "1106dc37",
   "metadata": {},
   "source": [
    "Q2. Can you explain the benefit of compound interest over a higher rate of interest that does not\n",
    "compound after reading this chapter?\n",
    "Ans):\n",
    "    Compound interest is the interest earned on both the principal amount and the accumulated interest of previous periods. The benefit of compound interest over a higher rate of interest that does not compound is that it allows your investment to grow faster over time. Even small differences in interest rates can have a big impact on investment returns in the long run, making compound interest generally more beneficial than a higher rate of interest that does not compound."
   ]
  },
  {
   "cell_type": "markdown",
   "id": "49db404e",
   "metadata": {},
   "source": [
    "Q3. What is a histogram, exactly? Name a numpy method for creating such a graph.\n",
    "Ans):\n",
    "    A histogram is a graphical representation of the distribution of a dataset. It is an estimate of the probability distribution of a continuous variable. To construct a histogram, the first step is to \"bin\" the range of values—that is, divide the entire range of values into a series of intervals—and then count how many values fall into each interval. The bins are usually specified as consecutive, non-overlapping intervals of a variable. The bins (intervals) must be adjacent and are often (but not necessarily) of equal size.\n",
    "\n",
    "In NumPy, you can create a histogram using the numpy.histogram() method. This method takes an array of data and returns two arrays: the values of the histogram and the bin edges. Here's an example:"
   ]
  },
  {
   "cell_type": "code",
   "execution_count": 1,
   "id": "b939c254",
   "metadata": {},
   "outputs": [
    {
     "data": {
      "image/png": "[encoded data removed]",
      "text/plain": [
       "<Figure size 640x480 with 1 Axes>"
      ]
     },
     "metadata": {},
     "output_type": "display_data"
    }
   ],
   "source": [
    "#Q3\n",
    "import numpy as np\n",
    "import matplotlib.pyplot as plt\n",
    "\n",
    "# Generate some random data\n",
    "data = np.random.randn(1000)\n",
    "\n",
    "# Create a histogram with 10 bins\n",
    "hist, bins = np.histogram(data, bins=10)\n",
    "\n",
    "# Plot the histogram\n",
    "plt.hist(data, bins=10)\n",
    "plt.show()\n"
   ]
  },
  {
   "cell_type": "markdown",
   "id": "887f0820",
   "metadata": {},
   "source": [
    "Q4. If necessary, how do you change the aspect ratios between the X and Y axes?\n",
    "Ans):\n",
    "    To change the aspect ratio between the X and Y axes in a plot, you can adjust the figure size or use the plt.axis() method in matplotlib. To adjust the figure size, you can use the plt.figure() method and specify the figsize parameter. Alternatively, you can use the plt.axis() method to set the aspect ratio of the plot by passing a string argument that specifies the aspect ratio or a tuple of two values to set a custom aspect ratio. These methods allow you to change the aspect ratio of a plot as necessary."
   ]
  },
  {
   "cell_type": "markdown",
   "id": "1db17c7a",
   "metadata": {},
   "source": [
    "Q5. Compare and contrast the three types of array multiplication between two numpy arrays: dot\n",
    "product, outer product, and regular multiplication of two numpy arrays.\n",
    "Ans):\n",
    "    There are three types of array multiplication between two NumPy arrays: dot product, outer product, and regular multiplication. Here are the differences between them:\n",
    "\n",
    "    1.Dot product: The dot product of two arrays is a scalar value obtained by multiplying the corresponding elements of the two arrays and summing the result. The dot product is calculated using the numpy.dot() method or the @ operator. The dot product is only defined for arrays with the same number of dimensions. It is used for linear algebra operations such as matrix multiplication and solving linear equations.\n",
    "\n",
    "    2.Outer product: The outer product of two arrays is a matrix obtained by multiplying each element of the first array with each element of the second array. The outer product is calculated using the numpy.outer() method. The resulting matrix has a shape that is the product of the shapes of the two input arrays. It is used for operations such as computing the covariance matrix and computing the outer product of two vectors.\n",
    "\n",
    "    3.Regular multiplication: Regular multiplication of two arrays involves multiplying the corresponding elements of the two arrays. This operation is performed using the * operator in NumPy. Regular multiplication is only defined for arrays with the same shape."
   ]
  },
  {
   "cell_type": "markdown",
   "id": "375f39f5",
   "metadata": {},
   "source": [
    "Q6. Before you buy a home, which numpy function will you use to measure your monthly mortgage\n",
    "payment?\n",
    "Ans):\n",
    "    To measure your monthly mortgage payment before buying a home, you can use the numpy.pmt() function. This function calculates the fixed monthly payment required to pay off a loan with a fixed interest rate, fixed monthly payments, and a fixed loan period. The numpy.pmt() function takes three arguments: the interest rate per period (as a decimal), the number of periods, and the present value of the loan (i.e., the amount borrowed)."
   ]
  },
  {
   "cell_type": "markdown",
   "id": "aed5c885",
   "metadata": {},
   "source": [
    "Q7. Can string data be stored in numpy arrays? If so, list at least one restriction that applies to this\n",
    "data.\n",
    "Ans):\n",
    "    Yes, string data can be stored in NumPy arrays. However, there are certain restrictions associated with storing string data in NumPy arrays:\n",
    "\n",
    "    1.Fixed Length: NumPy requires that all elements in an array have the same length. Therefore, when storing strings in a NumPy array, the array must be created with a fixed string length. This means that if you want to store strings of varying lengths, you need to choose a maximum length that can accommodate all the strings in the array"
   ]
  }
 ],
 "metadata": {
  "kernelspec": {
   "display_name": "Python 3 (ipykernel)",
   "language": "python",
   "name": "python3"
  },
  "language_info": {
   "codemirror_mode": {
    "name": "ipython",
    "version": 3
   },
   "file_extension": ".py",
   "mimetype": "text/x-python",
   "name": "python",
   "nbconvert_exporter": "python",
   "pygments_lexer": "ipython3",
   "version": "3.9.13"
  }
 },
 "nbformat": 4,
 "nbformat_minor": 5
}
