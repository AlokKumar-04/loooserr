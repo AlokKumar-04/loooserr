{
 "cells": [
  {
   "cell_type": "markdown",
   "id": "0d40660b",
   "metadata": {},
   "source": [
    "1. What is the concept of an abstract superclass?\n",
    "Ans):\n",
    "     An abstract superclass is a class that is designed to be inherited by other classes. It cannot be instantiated directly and serves as a blueprint for its subclasses. It defines common attributes and methods that the subclasses are expected to implement or override. The purpose of an abstract superclass is to provide a common interface and behavior for its subclasses, promoting code reuse and enforcing a certain structure in the derived classes. In Python, abstract superclasses are typically created using the abc module, which provides the ABC (Abstract Base Class) and abstractmethod decorators to define abstract methods and classes."
   ]
  },
  {
   "cell_type": "markdown",
   "id": "1f616fc9",
   "metadata": {},
   "source": [
    "2. What happens when a class statement&#39;s top level contains a basic assignment statement?\n",
    "Ans):\n",
    "    When a class statement's top level contains a basic assignment statement in Python, the assignment is executed and a class-level attribute is created. This means that the assigned value becomes an attribute of the class itself, rather than an instance-level attribute."
   ]
  },
  {
   "cell_type": "code",
   "execution_count": 1,
   "id": "06215575",
   "metadata": {},
   "outputs": [
    {
     "name": "stdout",
     "output_type": "stream",
     "text": [
      "10\n",
      "10\n",
      "20\n",
      "20\n"
     ]
    }
   ],
   "source": [
    "#Q2\n",
    "class MyClass:\n",
    "    x = 10  \n",
    "    def __init__(self):\n",
    "        self.y = 20  \n",
    "\n",
    "obj1 = MyClass()\n",
    "obj2 = MyClass()\n",
    "\n",
    "print(obj1.x) \n",
    "print(obj2.x)  \n",
    "\n",
    "print(obj1.y) \n",
    "print(obj2.y)  \n"
   ]
  },
  {
   "cell_type": "markdown",
   "id": "e5cae4bc",
   "metadata": {},
   "source": [
    "3. Why does a class need to manually call a superclass&#39;s __init__ method?\n",
    "Ans):\n",
    "    In Python, a class needs to manually call a superclass's __init__ method when it wants to include the initialization logic defined in the superclass's constructor as part of its own initialization process."
   ]
  },
  {
   "cell_type": "code",
   "execution_count": 3,
   "id": "36d1b314",
   "metadata": {},
   "outputs": [
    {
     "name": "stdout",
     "output_type": "stream",
     "text": [
      "German serpherd\n",
      "Drax\n"
     ]
    }
   ],
   "source": [
    "class Animal:\n",
    "    def __init__(self, species):\n",
    "        self.species = species\n",
    "\n",
    "class Dog(Animal):\n",
    "    def __init__(self, species, name):\n",
    "        super().__init__(species)  \n",
    "        self.name = name\n",
    "\n",
    "my_dog = Dog(\"German serpherd\", \"Drax\")\n",
    "print(my_dog.species) \n",
    "print(my_dog.name) \n"
   ]
  },
  {
   "cell_type": "markdown",
   "id": "47c3b832",
   "metadata": {},
   "source": [
    "4. How can you augment, instead of completely replacing, an inherited method?\n",
    "Ans):\n",
    "    To augment an inherited method in Python, you can follow these steps:\n",
    "\n",
    "    1. Define a subclass that inherits from the parent class containing the method you want to augment.\n",
    "\n",
    "    2. In the subclass, define a new method with the same name as the method you want to augment.\n",
    "\n",
    "    3. Within the new method, use the super() function to call the parent class method and retrieve its return value or perform any necessary operations.\n",
    "\n",
    "    4. Add your additional code before or after the super() call to modify the behavior of the method.\n",
    "\n",
    "    5. Use an instance of the subclass to access the augmented method."
   ]
  },
  {
   "cell_type": "markdown",
   "id": "a13ce0a0",
   "metadata": {},
   "source": [
    "5. How is the local scope of a class different from that of a function?\n",
    "Ans):\n",
    "    The local scope of a class provides access to variables and methods within the class and is accessible by all methods of that class. On the other hand, the local scope of a function is limited to that specific function and allows encapsulation and temporary storage of variables during function execution."
   ]
  }
 ],
 "metadata": {
  "kernelspec": {
   "display_name": "Python 3 (ipykernel)",
   "language": "python",
   "name": "python3"
  },
  "language_info": {
   "codemirror_mode": {
    "name": "ipython",
    "version": 3
   },
   "file_extension": ".py",
   "mimetype": "text/x-python",
   "name": "python",
   "nbconvert_exporter": "python",
   "pygments_lexer": "ipython3",
   "version": "3.9.13"
  }
 },
 "nbformat": 4,
 "nbformat_minor": 5
}
