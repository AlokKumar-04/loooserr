{
 "cells": [
  {
   "cell_type": "markdown",
   "id": "0034ba5d",
   "metadata": {},
   "source": [
    "Q1. What is the meaning of multiple inheritance?\n",
    "Ans):\n",
    "    Multiple inheritance in Python refers to the ability of a class to inherit attributes and methods from multiple parent classes. This means that a child class can inherit from more than one base class. It allows a class to inherit and combine the features and behaviors of multiple classes, resulting in increased code reusability and flexibility. However, it can also introduce challenges related to method resolution order and potential conflicts between inherited attributes or methods with the same name."
   ]
  },
  {
   "cell_type": "markdown",
   "id": "df5d3fa5",
   "metadata": {},
   "source": [
    "Q2. What is the concept of delegation?\n",
    "Ans):\n",
    "    Delegation is the process of assigning tasks, responsibilities, or authority to another person or group. It involves entrusting someone with a specific duty or decision-making power while still retaining overall accountability. Delegation allows individuals to distribute workloads, leverage the strengths of others, promote teamwork, and focus on higher-level tasks. It is an essential management skill that helps improve efficiency, empower employees, and promote growth and development within organizations."
   ]
  },
  {
   "cell_type": "markdown",
   "id": "54a0f105",
   "metadata": {},
   "source": [
    "Q3. What is the concept of composition?\n",
    "Ans):\n",
    "    Composition is a concept that models a has a relationship. It enables creating complex types by combining objects of other types. This means that a class Composite can contain an object of another class Component . This relationship means that a Composite has a Component ."
   ]
  },
  {
   "cell_type": "markdown",
   "id": "fe7f6998",
   "metadata": {},
   "source": [
    "Q4. What are bound methods and how do we use them?\n",
    "Ans):\n",
    "    The Bound methods are the methods defined in a class. The bound methods are bound to the class in which they are defined. They take an instance of their class along with the other arguments as its parameters. Bound methods differ from the other unbound methods in their first parameter."
   ]
  },
  {
   "cell_type": "markdown",
   "id": "4aeecd25",
   "metadata": {},
   "source": [
    "Q5. What is the purpose of pseudoprivate attributes?\n",
    "Ans):\n",
    "    The purpose of pseudoprivate attributes in Python is to indicate that certain attributes or methods are intended to be internal to a class and should not be accessed or modified directly from outside the class. Pseudoprivate attributes are denoted by a double underscore prefix (e.g., __attribute_name)."
   ]
  }
 ],
 "metadata": {
  "kernelspec": {
   "display_name": "Python 3 (ipykernel)",
   "language": "python",
   "name": "python3"
  },
  "language_info": {
   "codemirror_mode": {
    "name": "ipython",
    "version": 3
   },
   "file_extension": ".py",
   "mimetype": "text/x-python",
   "name": "python",
   "nbconvert_exporter": "python",
   "pygments_lexer": "ipython3",
   "version": "3.9.13"
  }
 },
 "nbformat": 4,
 "nbformat_minor": 5
}
