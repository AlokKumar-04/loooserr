{
 "cells": [
  {
   "cell_type": "markdown",
   "id": "f72dddbe",
   "metadata": {},
   "source": [
    "Q1. Describe three applications for exception processing.\n",
    "Ans):\n",
    "    Three applications for exception processing are; Error Handling, Input Validation and Resource Management"
   ]
  },
  {
   "cell_type": "markdown",
   "id": "2ae47395",
   "metadata": {},
   "source": [
    "Q2. What happens if you don't do something extra to treat an exception?\n",
    "Ans):\n",
    "    When an exception occurred, if you don't handle it, the program terminates abruptly and the code past the line that caused the exception will not get executed."
   ]
  },
  {
   "cell_type": "markdown",
   "id": "6df6dd28",
   "metadata": {},
   "source": [
    "Q3. What are your options for recovering from an exception in your script?\n",
    "Ans):\n",
    "    When faced with an exception in your script, you have several recovery options. You can choose to ignore the exception, retry the operation, handle the exception gracefully, raise a different exception, or exit the script. The appropriate option depends on the severity of the exception and the desired behavior of your script."
   ]
  },
  {
   "cell_type": "markdown",
   "id": "36ca5df7",
   "metadata": {},
   "source": [
    "Q4. Describe two methods for triggering exceptions in your script.\n",
    "Ans):\n",
    "    To trigger exceptions in your script, you can either raise an exception explicitly using the raise statement or let built-in exceptions occur naturally based on certain conditions or operations. Raising exceptions allows you to signal errors or exceptional conditions, while handling built-in exceptions enables you to gracefully recover from potential issues in your script."
   ]
  },
  {
   "cell_type": "markdown",
   "id": "67ef211d",
   "metadata": {},
   "source": [
    "Q5. Identify two methods for specifying actions to be executed at termination time, regardless of\n",
    "whether or not an exception exists.\n",
    "Ans):\n",
    "    To specify actions to be executed at termination time, regardless of the presence of exceptions, you can utilize two methods.\n",
    "First, you can use a finally block in combination with a try-except statement. The code within the finally block will be executed regardless of whether an exception occurs or not. This allows you to define cleanup or termination code that should always run.\n",
    "Secondly, you can employ context managers implemented using the with statement. Context managers enable you to specify actions to be executed before and after a block of code, even in the presence of exceptions. You can either create your own context managers or utilize built-in context managers provided by Python modules.\n",
    "Both methods ensure that the specified actions are carried out at the termination of the script, regardless of any exceptions that may have occurred."
   ]
  }
 ],
 "metadata": {
  "kernelspec": {
   "display_name": "Python 3 (ipykernel)",
   "language": "python",
   "name": "python3"
  },
  "language_info": {
   "codemirror_mode": {
    "name": "ipython",
    "version": 3
   },
   "file_extension": ".py",
   "mimetype": "text/x-python",
   "name": "python",
   "nbconvert_exporter": "python",
   "pygments_lexer": "ipython3",
   "version": "3.9.13"
  }
 },
 "nbformat": 4,
 "nbformat_minor": 5
}
