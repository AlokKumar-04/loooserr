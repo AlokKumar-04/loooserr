{
 "cells": [
  {
   "cell_type": "markdown",
   "id": "e73d0b98",
   "metadata": {},
   "source": [
    "Q1. What is the purpose of the try statement?\n",
    "Ans):\n",
    "    The try statement allows you to define a block of code to be tested for errors while it is being executed. The catch statement allows you to define a block of code to be executed, if an error occurs in the try block."
   ]
  },
  {
   "cell_type": "markdown",
   "id": "9d6b4140",
   "metadata": {},
   "source": [
    "Q2. What are the two most popular try statement variations?\n",
    "Ans):\n",
    "    The two most popular try statement variations in Python are the basic try-except block and the try-except-else block."
   ]
  },
  {
   "cell_type": "markdown",
   "id": "6bea80cc",
   "metadata": {},
   "source": [
    "Q3. What is the purpose of the raise statement?\n",
    "Ans):\n",
    "    The purpose of the raise statement is to raise an exception in Python. It allows you to explicitly raise an error or exception condition during the execution of your code. When an exception is raised, it interrupts the normal flow of the program and transfers control to the nearest exception handler that can handle the exception."
   ]
  },
  {
   "cell_type": "markdown",
   "id": "dc16ec21",
   "metadata": {},
   "source": [
    "Q4. What does the assert statement do, and what other statement is it like?\n",
    "Ans):\n",
    "    assert statement takes an expression and optional message. assert statement is used to check types, values of argument and the output of the function. assert statement is used as debugging tool as it halts the program at the point where an error occurs."
   ]
  },
  {
   "cell_type": "markdown",
   "id": "2b0f04aa",
   "metadata": {},
   "source": [
    "Q5. What is the purpose of the with/as argument, and what other statement is it like?\n",
    "Ans):\n",
    "    The with statement in Python replaces a try-catch block with a simple shorthand. More significantly, it ensures that resources are closed immediately after processing. Reading or writing to a file is a common use of the with statement. A context manager is a function or class that supports the with statement."
   ]
  }
 ],
 "metadata": {
  "kernelspec": {
   "display_name": "Python 3 (ipykernel)",
   "language": "python",
   "name": "python3"
  },
  "language_info": {
   "codemirror_mode": {
    "name": "ipython",
    "version": 3
   },
   "file_extension": ".py",
   "mimetype": "text/x-python",
   "name": "python",
   "nbconvert_exporter": "python",
   "pygments_lexer": "ipython3",
   "version": "3.9.13"
  }
 },
 "nbformat": 4,
 "nbformat_minor": 5
}
