{
  "nbformat": 4,
  "nbformat_minor": 0,
  "metadata": {
    "colab": {
      "provenance": []
    },
    "kernelspec": {
      "name": "python3",
      "display_name": "Python 3"
    },
    "language_info": {
      "name": "python"
    }
  },
  "cells": [
    {
      "cell_type": "code",
      "source": [
        "1. In the below elements which of them are values or an expression? eg:- values can be\n",
        "integer or string and expressions will be mathematical operators.\n",
        "*\n",
        "'hello'\n",
        "-87.8\n",
        "-\n",
        "/\n",
        "+\n",
        "6\n",
        "\n",
        "Ans):\n",
        " Here *, -, / and + are expressions, while 'hello', -87.8 and 6 are values. "
      ],
      "metadata": {
        "id": "VkuUYxW033Y5"
      },
      "execution_count": null,
      "outputs": []
    },
    {
      "cell_type": "code",
      "source": [
        "2. What is the difference between string and variable?\n",
        "Ans):\n",
        " Strings are data, so we can use them to fill up a variable, But Variables are symbols that we can use to store data in a program."
      ],
      "metadata": {
        "id": "NEDuRRrX4QS_"
      },
      "execution_count": null,
      "outputs": []
    },
    {
      "cell_type": "code",
      "source": [
        "3. Describe three different data types.\n",
        "Ans):\n",
        " There are different type of data types present in python some of them are\n",
        "    Numeric data types i.e : int, float, complex\n",
        "    String data types i.e : str\n",
        "    Sequence types i.e :list, tuple, range\n",
        "    Binary types i.e : bytes, bytearray\n",
        "    Mapping data type i.e : dict\n",
        "    Boolean type i.e : bool"
      ],
      "metadata": {
        "id": "LItEGKM15AT0"
      },
      "execution_count": null,
      "outputs": []
    },
    {
      "cell_type": "code",
      "source": [
        "4. What is an expression made up of? What do all expressions do?\n",
        "Ans):\n",
        " An expression is a combination of operators and operands. The expression in Python produces some value or result after being interpreted by the Python interpreter."
      ],
      "metadata": {
        "id": "e3I5CDFK6GQg"
      },
      "execution_count": null,
      "outputs": []
    },
    {
      "cell_type": "code",
      "source": [
        "5. This assignment statements, like spam = 10. What is the difference between an\n",
        "expression and a statement?\n",
        "Ans):\n",
        " Statements represent an action or command e.g print statements, assignment statements, while expression is a combination of variables, operations and values that yields a result value.\n",
        " "
      ],
      "metadata": {
        "id": "qCH_x-rt6uVu"
      },
      "execution_count": null,
      "outputs": []
    },
    {
      "cell_type": "code",
      "source": [
        "##6. After running the following code, what does the variable bacon contain?\n",
        "bacon = 22\n",
        "bacon + 1\n",
        "## After running the code it will return 23 as an output."
      ],
      "metadata": {
        "colab": {
          "base_uri": "https://localhost:8080/"
        },
        "id": "M8fz7D0o8cXO",
        "outputId": "054d4efd-d515-4c57-aa2a-504c16e0313d"
      },
      "execution_count": 1,
      "outputs": [
        {
          "output_type": "execute_result",
          "data": {
            "text/plain": [
              "23"
            ]
          },
          "metadata": {},
          "execution_count": 1
        }
      ]
    },
    {
      "cell_type": "code",
      "source": [
        "# 7. What should the values of the following two terms be?\n",
        "'spam' + 'spamspam'\n",
        "'spam' * 3\n",
        "Ans):\n",
        " The value will be 'spamspamspam'."
      ],
      "metadata": {
        "colab": {
          "base_uri": "https://localhost:8080/",
          "height": 35
        },
        "id": "KwK_RvfN897r",
        "outputId": "6bed903c-2d30-4ee2-d4e5-ee002936debf"
      },
      "execution_count": 4,
      "outputs": [
        {
          "output_type": "execute_result",
          "data": {
            "text/plain": [
              "'spamspamspam'"
            ],
            "application/vnd.google.colaboratory.intrinsic+json": {
              "type": "string"
            }
          },
          "metadata": {},
          "execution_count": 4
        }
      ]
    },
    {
      "cell_type": "code",
      "source": [
        "8. Why is eggs a valid variable name while 100 is invalid?\n",
        "Ans):\n",
        " Because variable name cannot be started with number."
      ],
      "metadata": {
        "id": "52ohtMda9t_q"
      },
      "execution_count": null,
      "outputs": []
    },
    {
      "cell_type": "code",
      "source": [
        "9. What three functions can be used to get the integer, floating-point number, or string\n",
        "version of a value?\n",
        "Ans):\n",
        " The int(), float(), and str() functions will evaluate to the integer, floating-point number, and string versions of the value passed to them."
      ],
      "metadata": {
        "id": "aa7z4DpC_Bri"
      },
      "execution_count": null,
      "outputs": []
    },
    {
      "cell_type": "code",
      "source": [
        "10. Why does this expression cause an error? How can you fix it?\n",
        "'I have eaten'  + 99 + 'burritos'\n",
        "Ans):\n",
        " The expression causes an error because 99 is an integer, and only strings can be concatenated to other strings with the + operator. The correct way is I have eaten ' + str(99) + ' burritos.'."
      ],
      "metadata": {
        "id": "n8To_-DB_nxu"
      },
      "execution_count": null,
      "outputs": []
    }
  ]
}