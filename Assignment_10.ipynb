{
 "cells": [
  {
   "cell_type": "markdown",
   "id": "3e255e2b",
   "metadata": {},
   "source": [
    "1. How do you distinguish between shutil.copy() and shutil.copytree()?\n",
    "Ans1)-The shutil.copy() function will copy a single file, while shutil.copytree() will copy an entire folder, along with all its contents.\n",
    "\n",
    "2. What function is used to rename files??\n",
    "Ans2)-The shutil.move() function is used for renaming files, as well as moving them. We can also rename files by os.rename().\n",
    "\n",
    "3. What is the difference between the delete functions in the send2trash and shutil modules?\n",
    "Ans3)The send2trash functions will move a file or folder to the recycle bin, while shutil functions will permanently delete files and folders. The shutil.rmtree() function will permanently delete the files or folders.\n",
    "\n",
    "The send2trash.send2trash() will move the recycle bin and can be retrieved if accidental deletion is done of folders or files.A TrashPermissionError exception is raised, in case a file could not be deleted due to permission error or any other unexpected reason.\n",
    "\n",
    "4. ZipFile objects have a close() method just like File objects’ close() method. What ZipFile method is equivalent to File objects’ open() method? Ans4)-The zipfile.ZipFile() function is equivalent to the open() function; the first argument is the filename, and the second argument is the mode to open the ZIP file in (read, write, or append).\n",
    "\n",
    "5. Create a programme that searches a folder tree for files with a certain file extension (such as .pdf or .jpg). Copy these files from whatever location they are in to a new folder."
   ]
  },
  {
   "cell_type": "code",
   "execution_count": null,
   "id": "5f75a0aa",
   "metadata": {},
   "outputs": [],
   "source": []
  },
  {
   "cell_type": "code",
   "execution_count": null,
   "id": "674c6082",
   "metadata": {},
   "outputs": [],
   "source": []
  }
 ],
 "metadata": {
  "kernelspec": {
   "display_name": "Python 3 (ipykernel)",
   "language": "python",
   "name": "python3"
  },
  "language_info": {
   "codemirror_mode": {
    "name": "ipython",
    "version": 3
   },
   "file_extension": ".py",
   "mimetype": "text/x-python",
   "name": "python",
   "nbconvert_exporter": "python",
   "pygments_lexer": "ipython3",
   "version": "3.9.13"
  }
 },
 "nbformat": 4,
 "nbformat_minor": 5
}
