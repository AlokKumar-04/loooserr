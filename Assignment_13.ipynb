{
 "cells": [
  {
   "cell_type": "markdown",
   "id": "1ebe8c3d",
   "metadata": {},
   "source": [
    "1. What advantages do Excel spreadsheets have over CSV spreadsheets?\n",
    "Ans):\n",
    "    a) Excel spreadsheets have more formatting options: With Excel, you can change the font, color, and style of your data, as well as add charts and tables. \n",
    "    b) Excel spreadsheets can handle more complex data: While CSV files are great for simple lists, Excel can handle more complex data, such as formulas and functions, which can help automate calculations.\n",
    "    c) Excel spreadsheets are easier to manipulate: With Excel, you can easily sort, filter, and search for data. You can also insert and delete rows and columns, which can be helpful when working with large datasets.\n",
    "    d) Excel is more widely used: Excel is one of the most widely used spreadsheet programs in the world, so it's more likely that people will be familiar with it than with CSV files. This can be an advantage when sharing data with others."
   ]
  },
  {
   "cell_type": "code",
   "execution_count": null,
   "id": "505c47b0",
   "metadata": {},
   "outputs": [],
   "source": [
    "\"\"\"2. What do you pass to csv.reader() and csv.writer() to create reader and writer objects?\n",
    "Ans):To create a reader object using the csv.reader() function in Python's csv module, you need to pass a file object or an iterable of lines as its argument. The file object could be a regular file object, a StringIO object, or any other object with a read() method that returns a string.\n",
    "\n",
    "\n",
    "Here's an example that reads a CSV file using csv.reader():\"\"\"\n",
    "\n",
    "\n",
    "import csv\n",
    "\n",
    "with open('file.csv', 'r') as csvfile:\n",
    "    csvreader = csv.reader(csvfile)\n",
    "    for row in csvreader:\n",
    "        print(row)\n",
    "\n",
    "   \"\"\"To create a writer object using the csv.writer() function, you need to pass a file object as its argument. The file object should be opened in write mode (i.e., 'w' or 'wb').\n",
    "\n",
    "\n",
    "Here's an example that writes a list of lists to a CSV file using csv.writer():\"\"\"\n",
    "\n",
    "import csv\n",
    "\n",
    "data = [\n",
    "    ['Name', 'Age', 'Gender'],\n",
    "    ['Alice', '25', 'F'],\n",
    "    ['Bob', '30', 'M'],\n",
    "    ['Charlie', '35', 'M']\n",
    "]\n",
    "\n",
    "with open('file.csv', 'wb', newline='') as csvfile:\n",
    "    csvwriter = csv.writer(csvfile)\n",
    "    csvwriter.writerows(data)\n",
    "\n",
    "\n",
    "    "
   ]
  },
  {
   "cell_type": "code",
   "execution_count": null,
   "id": "2fa5bdad",
   "metadata": {},
   "outputs": [],
   "source": [
    "3. What modes do File objects for reader and writer objects need to be opened in?\n",
    "Ans):\n",
    "    The modes for opening file objects used by reader and writer objects depend on the specific needs of the program.\n",
    "\n",
    "\n",
    "To create a reader object using csv.reader(), you need to open the file in read mode ('r'). For example:\n",
    "    \n",
    "    import csv\n",
    "\n",
    "with open('example.csv', 'r') as csvfile:\n",
    "    csvreader = csv.reader(csvfile)\n",
    "    for row in csvreader:\n",
    "        print(row)\n",
    "\n",
    "To create a writer object using csv.writer(), you need to open the file in write mode ('w') or append mode ('a'). For example:\n",
    "\n",
    "    import csv\n",
    "\n",
    "data = [['John', 'Doe'], ['Jane', 'Smith']]\n",
    "\n",
    "with open('example.csv', 'w', newline='') as csvfile:\n",
    "    csvwriter = csv.writer(csvfile)\n",
    "    csvwriter.writerows(data)\n"
   ]
  },
  {
   "cell_type": "code",
   "execution_count": null,
   "id": "6c7dfef3",
   "metadata": {},
   "outputs": [],
   "source": [
    "4. What method takes a list argument and writes it to a CSV file?\n",
    "Ans):\n",
    "    The csv.writer object provides a method called writerow() that takes a list argument and writes it as a single row to a CSV file. If you want to write multiple rows, you can use the writerows() method, which takes an iterable of lists and writes each list as a separate row to the CSV file.\n",
    "    \n",
    "    import csv\n",
    "\n",
    "with open('example.csv', 'w', newline='') as csvfile:\n",
    "    csvwriter = csv.writer(csvfile)\n",
    "    csvwriter.writerow(['Name', 'Age', 'Gender'])\n",
    "\n",
    "Here's an example of using the writerows() method to write multiple rows to a CSV file:\n",
    "\n",
    "    import csv\n",
    "\n",
    "data = [['John', 'Doe', 25], ['Jane', 'Smith', 30]]\n",
    "\n",
    "with open('example.csv', 'w', newline='') as csvfile:\n",
    "    csvwriter = csv.writer(csvfile)\n",
    "    csvwriter.writerows(data)\n"
   ]
  },
  {
   "cell_type": "markdown",
   "id": "7bcb6334",
   "metadata": {},
   "source": [
    "5. What do the keyword arguments delimiter and line terminator do?\n",
    "Ans):\n",
    "    This changes the delimiter and line terminator characters in your file. The delimiter is the character that appears between cells on a row. By default, the delimiter for a CSV file is a comma. The line terminator is the character that comes at the end of a row."
   ]
  },
  {
   "cell_type": "code",
   "execution_count": null,
   "id": "24937304",
   "metadata": {},
   "outputs": [],
   "source": [
    "6. What function takes a string of JSON data and returns a Python data structure?\n",
    "Ans):\n",
    "    The function that takes a string of JSON data and returns a Python data structure is called json.loads(). This function is part of the Python standard library's json module, and is used to parse JSON data and convert it into a Python data structure such as a dictionary or list.\n",
    "\n",
    "\n",
    "Here is an example usage:\n",
    "\n",
    "import json\n",
    "\n",
    "json_str = '{\"name\": \"John\", \"age\": 30, \"city\": \"New York\"}'\n",
    "python_dict = json.loads(json_str)\n",
    "\n",
    "print(python_dict)\n"
   ]
  },
  {
   "cell_type": "code",
   "execution_count": null,
   "id": "015b8629",
   "metadata": {},
   "outputs": [],
   "source": [
    "7. What function takes a Python data structure and returns a string of JSON data?\n",
    "Ans):\n",
    "    The function that takes a Python data structure and returns a string of JSON data is called json.dumps(). This function is part of the Python standard library's json module, and is used to serialize a Python object into a JSON formatted string.\n",
    "\n",
    "\n",
    "Here's an example of how to use it:\n",
    "\n",
    "import json\n",
    "\n",
    "data = {\n",
    "    'name': 'John',\n",
    "    'age': 30,\n",
    "    'city': 'New York'\n",
    "}\n",
    "\n",
    "json_str = json.dumps(data)\n",
    "\n",
    "print(json_str)\n"
   ]
  }
 ],
 "metadata": {
  "kernelspec": {
   "display_name": "Python 3 (ipykernel)",
   "language": "python",
   "name": "python3"
  },
  "language_info": {
   "codemirror_mode": {
    "name": "ipython",
    "version": 3
   },
   "file_extension": ".py",
   "mimetype": "text/x-python",
   "name": "python",
   "nbconvert_exporter": "python",
   "pygments_lexer": "ipython3",
   "version": "3.9.13"
  }
 },
 "nbformat": 4,
 "nbformat_minor": 5
}
