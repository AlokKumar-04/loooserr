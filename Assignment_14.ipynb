{
 "cells": [
  {
   "cell_type": "markdown",
   "id": "20af9e67",
   "metadata": {},
   "source": [
    "1. What does RGBA stand for?\n",
    "Ans):\n",
    "     An RGBA value is a tuple of 4 integers, each ranging from 0 to 255. The four integers correspond to the amount of red, green, blue, and alpha (transparency) in the color."
   ]
  },
  {
   "cell_type": "markdown",
   "id": "a9b5aead",
   "metadata": {},
   "source": [
    "2. From the Pillow module, how do you get the RGBA value of any images?\n",
    "Ans):\n",
    "    A function call to ImageColor.getcolor('CornflowerBlue', 'RGBA') will return (100, 149, 237, 255), the RGBA value for that color."
   ]
  },
  {
   "cell_type": "markdown",
   "id": "baeb9a6d",
   "metadata": {},
   "source": [
    "3. What is a box tuple, and how does it work?\n",
    "Ans):\n",
    "     A box tuple is a tuple value of four integers: the left edge x-coordinate, the top edge y-coordinate, the width, and the height, respectively."
   ]
  },
  {
   "cell_type": "markdown",
   "id": "ed76b3b9",
   "metadata": {},
   "source": [
    "4. Use your image and load in notebook then, How can you find out the width and height of an\n",
    "Image object?\n",
    "Ans):\n",
    "    imageObj.size is a tuple of two integers, the width and the height of the image object respectively"
   ]
  },
  {
   "cell_type": "markdown",
   "id": "eee61b53",
   "metadata": {},
   "source": [
    "5. What method would you call to get Image object for a 100×100 image, excluding the lower-left\n",
    "quarter of it?\n",
    "Ans):\n",
    "    To exclude the lower-left quarter of a 100x100 image and obtain an Image object, you can use the cropping method. Specify the cropping coordinates, which define the region of interest, and call the crop() method on the image object. This will create a new Image object containing the cropped portion of the original image."
   ]
  },
  {
   "cell_type": "markdown",
   "id": "e9254749",
   "metadata": {},
   "source": [
    "6. After making changes to an Image object, how could you save it as an image file?\n",
    "Ans):\n",
    "    Call the imageObj.save('new_filename.png') method of the Image object."
   ]
  },
  {
   "cell_type": "markdown",
   "id": "db740234",
   "metadata": {},
   "source": [
    "7. What module contains Pillow’s shape-drawing code?\n",
    "Ans):\n",
    "    The ImageDraw module contains code to draw shapes images."
   ]
  },
  {
   "cell_type": "markdown",
   "id": "f77adf4e",
   "metadata": {},
   "source": [
    "8. Image objects do not have drawing methods. What kind of object does? How do you get this kind\n",
    "of object?\n",
    "Ans):\n",
    "    ImageDraw objects have shape-drawing methods such as point(), line(), or rectangle(). They are returned by passing the Image object to the ImageDraw.Draw() function."
   ]
  }
 ],
 "metadata": {
  "kernelspec": {
   "display_name": "Python 3 (ipykernel)",
   "language": "python",
   "name": "python3"
  },
  "language_info": {
   "codemirror_mode": {
    "name": "ipython",
    "version": 3
   },
   "file_extension": ".py",
   "mimetype": "text/x-python",
   "name": "python",
   "nbconvert_exporter": "python",
   "pygments_lexer": "ipython3",
   "version": "3.9.13"
  }
 },
 "nbformat": 4,
 "nbformat_minor": 5
}
