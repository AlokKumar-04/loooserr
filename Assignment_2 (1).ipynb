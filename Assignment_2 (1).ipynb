{
 "cells": [
  {
   "cell_type": "code",
   "execution_count": null,
   "id": "24191b0f-a9a4-41d5-931f-fee9860d5b0b",
   "metadata": {},
   "outputs": [],
   "source": []
  },
  {
   "cell_type": "raw",
   "id": "742910d0-1e02-45ea-9646-bc9bb440c413",
   "metadata": {},
   "source": [
    "1.What are the two values of the Boolean data type? How do you write them?\n",
    "Ans):\n",
    "   There are two values of Boolean data types True and False. We write True by storing it in a variable,any expression which returns True or else compiler recognises True as 1. We write False by storing it in a variable,{},[],\"\",(),0 are recognised as False by compiler."
   ]
  },
  {
   "cell_type": "raw",
   "id": "0b5275b1-2714-4da0-a449-a212445dfaee",
   "metadata": {},
   "source": [
    "2.What are the three different types of Boolean operators?\n",
    "Ans:\n",
    "    \"and\",\"or\" and not(\"!\") are three types of Boolean operators."
   ]
  },
  {
   "cell_type": "raw",
   "id": "5db0ab75-7e20-43c7-bad8-1ad22baee372",
   "metadata": {},
   "source": [
    "3. Make a list of each Boolean operator&#39;s truth tables (i.e. every possible combination of Boolean\n",
    "values for the operator and what it evaluate ).\n",
    "Ans:\n",
    "    AND OPERATOR- OR OPERATOR- NOT OPERATOR(!) 0 and 0= 0 0 or 0 =0 !1= 0 0 and 1= 0 0 or 1 =1 !0= 1 1 and 0= 0 1 or 0 =1 !True= False 1 and 1= 1 1 or 1 =1 !False=True"
   ]
  },
  {
   "cell_type": "raw",
   "id": "796d70c7-7315-4bd0-9fa4-c526ffee9ed8",
   "metadata": {},
   "source": [
    "4. What are the values of the following expressions?\n",
    "Ans:\n",
    "     (5>4) and (3==5) -- False not (5 > 4) -- False (5 > 4) or (3 == 5)-- True not ((5 > 4) or (3 == 5))-- False (True and True) and (True == False)-- False (not False) or (not True)-- True"
   ]
  },
  {
   "cell_type": "code",
   "execution_count": 3,
   "id": "afad03e8-4f80-44b8-9672-b2adb7c60511",
   "metadata": {},
   "outputs": [
    {
     "data": {
      "text/plain": [
       "True"
      ]
     },
     "execution_count": 3,
     "metadata": {},
     "output_type": "execute_result"
    }
   ],
   "source": [
    "#Q4-\n",
    "(5>4) and (3==5)\n",
    "not (5 > 4)\n",
    "(5 > 4) or (3 == 5)\n",
    "not ((5 > 4) or (3 == 5))\n",
    "(True and True) and (True == False)\n",
    "(not False) or (not True)"
   ]
  },
  {
   "cell_type": "raw",
   "id": "29024e29-31ae-47c2-8d0b-ef6681084ed3",
   "metadata": {},
   "source": [
    "5. What are the six comparison operators?\n",
    "Ans:\n",
    "    The six comparision operators are >,<,>=,<=,==,!=."
   ]
  },
  {
   "cell_type": "raw",
   "id": "ae61e1a9-593d-4fcc-94e6-0b0982acb208",
   "metadata": {},
   "source": [
    "6. How do you tell the difference between the equal to and assignment operators?Describe a\n",
    "condition and when you would use one.\n",
    "Ans:\n",
    "     Equal operator is used when two variables stored same value.Assignment operator used to assign value to variable. Ex- a=10,b=10 (Assignment operator) a==b will give True.(equal operator)"
   ]
  },
  {
   "cell_type": "raw",
   "id": "c08544f0-4c85-4581-8b4e-54e9221e7c21",
   "metadata": {},
   "source": [
    "7. Identify the three blocks in this code:\n",
    "Ans:\n",
    "    spam = 0 if spam == 10:\n",
    "print('eggs') if spam > 5: print('bacon') else: print('ham') print('spam') print('spam') Ans 7)- Q7 run in notebook. 8)ode that prints Hello if 1 is stored in spam, prints Howdy if 2 is stored in spam, and prints Greetings! if anything else is stored in spam. Ans8)- Q8 run in notebook."
   ]
  },
  {
   "cell_type": "code",
   "execution_count": 2,
   "id": "3e6544d9-83da-478a-9efc-ae7859c5d8e3",
   "metadata": {},
   "outputs": [
    {
     "name": "stdin",
     "output_type": "stream",
     "text": [
      "ENTER A NUMBER 2\n"
     ]
    },
    {
     "name": "stdout",
     "output_type": "stream",
     "text": [
      "Howdy\n"
     ]
    }
   ],
   "source": [
    "#Q8-\n",
    "spam=int(input(\"ENTER A NUMBER\"))\n",
    "if spam == 1:\n",
    "    print(\"Hello\")\n",
    "elif spam == 2:\n",
    "    print(\"Howdy\")\n",
    "else:\n",
    "    print(\"Greetings!\")\n",
    "    "
   ]
  },
  {
   "cell_type": "raw",
   "id": "f7c794aa-0deb-4b67-ac2c-bf74891db35e",
   "metadata": {},
   "source": [
    "9.If your programme is stuck in an endless loop, what keys you’ll press? \n",
    "Ans:\n",
    "    Press Ctrl+C"
   ]
  },
  {
   "cell_type": "raw",
   "id": "8a01b02a-f2ae-4d14-8cff-242b86746c67",
   "metadata": {},
   "source": [
    "10.How can you tell the difference between break and continue?\n",
    "Ans:\n",
    "    break- statement breaks away from a loop when the condition/indentation its placed under gets satisfied. continue- statement reiterates back to the starting of the loop and helps us skip undesirable iterations of an iterable object."
   ]
  },
  {
   "cell_type": "markdown",
   "id": "4c8ee906-1ac2-4e0f-8618-93077383b06d",
   "metadata": {},
   "source": [
    "11.In a for loop, what is the difference between range(10), range(0, 10), and range(0, 10, 1)?\n",
    "Ans:\n",
    "    There is no difference in execution of above three in for loop.All results are same 0123456789."
   ]
  },
  {
   "cell_type": "code",
   "execution_count": 5,
   "id": "3d3456e8-cf9b-4961-90a6-263a620a3760",
   "metadata": {},
   "outputs": [
    {
     "name": "stdout",
     "output_type": "stream",
     "text": [
      "012345678901234567890123456789"
     ]
    }
   ],
   "source": [
    "#Q11-\n",
    "for i in range(0,10,1):\n",
    "    print(i,end=\"\")\n",
    "    \n",
    "for i in range(0,10):\n",
    "    print(i,end=\"\")\n",
    "    \n",
    "for i in range(10):\n",
    "    print(i,end='')"
   ]
  },
  {
   "cell_type": "raw",
   "id": "d0934183-af3d-44c2-ae7f-de4d0227d4ab",
   "metadata": {},
   "source": [
    "12.Write a short program that prints the numbers 1 to 10 using a for loop. Then write an equivalent program that prints the numbers 1 to 10 using a while loop.\n",
    "Ans:\n",
    "    Q12 done in notebook."
   ]
  },
  {
   "cell_type": "code",
   "execution_count": 6,
   "id": "5a659a20-0f00-406d-9b46-fb1d5b1b1c12",
   "metadata": {},
   "outputs": [
    {
     "name": "stdout",
     "output_type": "stream",
     "text": [
      "1 2 3 4 5 6 7 8 9 10 "
     ]
    }
   ],
   "source": [
    "#Q12)-\n",
    "for i in range(1,11):\n",
    "    print(i,end=\" \")"
   ]
  },
  {
   "cell_type": "code",
   "execution_count": 7,
   "id": "ec425ff7-7151-4181-9ee2-faf63a79df41",
   "metadata": {},
   "outputs": [
    {
     "name": "stdout",
     "output_type": "stream",
     "text": [
      "1 2 3 4 5 6 7 8 9 10 "
     ]
    }
   ],
   "source": [
    "#Q12)-\n",
    "i=1\n",
    "while i<11:\n",
    "    print(i,end=' ')\n",
    "    i=i+1"
   ]
  },
  {
   "cell_type": "raw",
   "id": "ea481443-fff4-43f3-a38b-7bd22cfb29df",
   "metadata": {},
   "source": [
    "13.If you had a function named bacon() inside a module named spam, how would you call it after importing spam?\n",
    "Ans:\n",
    "    import spam from spam import bacon bacon()"
   ]
  },
  {
   "cell_type": "code",
   "execution_count": 4,
   "id": "35812cd0-b068-42aa-95b7-7b6d20e517c8",
   "metadata": {},
   "outputs": [
    {
     "name": "stdout",
     "output_type": "stream",
     "text": [
      "ham\n",
      "spam\n",
      "spam\n"
     ]
    }
   ],
   "source": [
    "#Q7-\n",
    "spam = 0\n",
    "if spam == 10:\n",
    "    print('eggs')   #indentation error fixed \n",
    "if spam > 5:\n",
    "    print('bacon')  #indentation error fixed\n",
    "else:\n",
    "    print('ham')    #indentation error fixed\n",
    "    print('spam')   #indentation error fixed\n",
    "    print('spam')   #indentation error fixed"
   ]
  },
  {
   "cell_type": "code",
   "execution_count": null,
   "id": "2ec94b49-3262-4e42-94d2-ef2df76016cf",
   "metadata": {},
   "outputs": [],
   "source": []
  }
 ],
 "metadata": {
  "kernelspec": {
   "display_name": "Python 3 (ipykernel)",
   "language": "python",
   "name": "python3"
  },
  "language_info": {
   "codemirror_mode": {
    "name": "ipython",
    "version": 3
   },
   "file_extension": ".py",
   "mimetype": "text/x-python",
   "name": "python",
   "nbconvert_exporter": "python",
   "pygments_lexer": "ipython3",
   "version": "3.10.6"
  }
 },
 "nbformat": 4,
 "nbformat_minor": 5
}
