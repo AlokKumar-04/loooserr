{
 "cells": [
  {
   "cell_type": "markdown",
   "id": "d42936e7",
   "metadata": {},
   "source": [
    "1. Add the current date to the text file today.txt as a string.\n",
    "2. Read the text file today.txt into the string today_string\n",
    "3. Parse the date from today_string.\n",
    "4. List the files in your current directory\n",
    "5. Create a list of all of the files in your parent directory (minimum five files should be available).\n",
    "6. Use multiprocessing to create three separate processes. Make each one wait a random number of seconds between one and five, print the current time, and then exit.\n",
    "7. Create a date object of your day of birth.\n",
    "8. What day of the week was your day of birth?\n",
    "9. When will you be (or when were you) 10,000 days old?"
   ]
  },
  {
   "cell_type": "code",
   "execution_count": 3,
   "id": "50c60376",
   "metadata": {},
   "outputs": [
    {
     "name": "stdout",
     "output_type": "stream",
     "text": [
      "Today's date: 2023-05-13\n"
     ]
    }
   ],
   "source": [
    "#Q1)\n",
    "import os\n",
    "from datetime import date\n",
    "\n",
    "today = date.today()\n",
    "print(\"Today's date:\", today)\n",
    "\n",
    "f=open(\"today.txt\",\"w\")\n",
    "f.write(str(today))\n",
    "f.close()"
   ]
  },
  {
   "cell_type": "code",
   "execution_count": 4,
   "id": "f4f260bf",
   "metadata": {},
   "outputs": [
    {
     "data": {
      "text/plain": [
       "'2023-05-13'"
      ]
     },
     "execution_count": 4,
     "metadata": {},
     "output_type": "execute_result"
    }
   ],
   "source": [
    "#Q2-\n",
    "f=open('today.txt','r')\n",
    "today_string=f.read()\n",
    "today_string"
   ]
  },
  {
   "cell_type": "code",
   "execution_count": 5,
   "id": "761aad31",
   "metadata": {},
   "outputs": [
    {
     "name": "stdout",
     "output_type": "stream",
     "text": [
      "2023-05-13"
     ]
    }
   ],
   "source": [
    "#Q3)-\n",
    "for i in today_string:\n",
    "    print(i,end='')"
   ]
  },
  {
   "cell_type": "code",
   "execution_count": 6,
   "id": "53f52bd3",
   "metadata": {},
   "outputs": [
    {
     "name": "stdout",
     "output_type": "stream",
     "text": [
      ".android\n",
      "2023-05-13 01:23:26\n",
      ".android\n",
      "2023-05-13 01:23:27\n",
      ".android\n",
      "2023-05-13 01:23:29\n",
      ".android\n",
      "2023-05-13 01:23:32\n",
      ".bash_history\n",
      "2023-05-13 01:23:36\n",
      ".bash_history\n",
      "2023-05-13 01:23:37\n",
      ".bash_history\n",
      "2023-05-13 01:23:39\n",
      ".bash_history\n",
      "2023-05-13 01:23:42\n",
      ".conda\n",
      "2023-05-13 01:23:46\n",
      ".conda\n",
      "2023-05-13 01:23:47\n",
      ".conda\n",
      "2023-05-13 01:23:49\n",
      ".conda\n",
      "2023-05-13 01:23:52\n",
      ".condarc\n",
      "2023-05-13 01:23:56\n",
      ".condarc\n",
      "2023-05-13 01:23:57\n",
      ".condarc\n",
      "2023-05-13 01:23:59\n",
      ".condarc\n",
      "2023-05-13 01:24:02\n"
     ]
    }
   ],
   "source": [
    "#q5 and Q6)-\n",
    "import datetime\n",
    "from datetime import date\n",
    "import time\n",
    "import os\n",
    "l=os.listdir()\n",
    "for i in l[0:4]:\n",
    "    for j in range(1,5):\n",
    "        print(i)\n",
    "        now = datetime. datetime. now()\n",
    "        print (now. strftime(\"%Y-%m-%d %H:%M:%S\"))\n",
    "        time.sleep(j)"
   ]
  },
  {
   "cell_type": "code",
   "execution_count": 7,
   "id": "a37b6004",
   "metadata": {},
   "outputs": [
    {
     "name": "stdout",
     "output_type": "stream",
     "text": [
      "what day of the week was my birthday: 4\n"
     ]
    }
   ],
   "source": [
    "#Q7 and Q8-\n",
    "birthday=date(2001,5,4)\n",
    "print(\"what day of the week was my birthday:\",birthday.weekday())"
   ]
  },
  {
   "cell_type": "code",
   "execution_count": 8,
   "id": "b458493e",
   "metadata": {},
   "outputs": [
    {
     "name": "stdout",
     "output_type": "stream",
     "text": [
      "what will be the date when 10000 i will be 10,000 days old: 2028-09-19\n"
     ]
    }
   ],
   "source": [
    "#Q9-\n",
    "from datetime import timedelta\n",
    "day=birthday+timedelta(days=10000)\n",
    "print(\"what will be the date when 10000 i will be 10,000 days old:\",day) "
   ]
  },
  {
   "cell_type": "code",
   "execution_count": null,
   "id": "421be61b",
   "metadata": {},
   "outputs": [],
   "source": []
  }
 ],
 "metadata": {
  "kernelspec": {
   "display_name": "Python 3 (ipykernel)",
   "language": "python",
   "name": "python3"
  },
  "language_info": {
   "codemirror_mode": {
    "name": "ipython",
    "version": 3
   },
   "file_extension": ".py",
   "mimetype": "text/x-python",
   "name": "python",
   "nbconvert_exporter": "python",
   "pygments_lexer": "ipython3",
   "version": "3.9.13"
  }
 },
 "nbformat": 4,
 "nbformat_minor": 5
}
