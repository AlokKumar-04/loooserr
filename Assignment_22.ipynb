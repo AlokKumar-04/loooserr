{
 "cells": [
  {
   "cell_type": "markdown",
   "id": "6bf80f61",
   "metadata": {},
   "source": [
    "1. What is the result of the code, and explain?\n",
    "X = 'iNeuron' def func():\n",
    "\n",
    "print(X)\n",
    "\n",
    "func()\n",
    "\n",
    "2. What is the result of the code, and explain?\n",
    "X = 'iNeuron' def func():\n",
    "\n",
    "X = 'NI!'\n",
    "\n",
    "func() print(X)\n",
    "\n",
    "3. What does this code print, and why?\n",
    "X = 'iNeuron' def func():\n",
    "\n",
    "X = 'NI' print(X)\n",
    "\n",
    "func() print(X)\n",
    "\n",
    "4. What output does this code produce? Why?\n",
    "X = 'iNeuron' def func():\n",
    "\n",
    "global X X = 'NI'\n",
    "\n",
    "func() print(X)\n",
    "\n",
    "5. What about this code—what’s the output, and why?\n",
    "X = 'iNeuron' def func():\n",
    "\n",
    "X = 'NI' def nested(): print(X) nested()\n",
    "\n",
    "func() X\n",
    "\n",
    "6. How about this code: what is its output in Python 3, and explain?\n",
    "def func():\n",
    "\n",
    "X = 'NI' def nested(): nonlocal X X = 'Spam' nested() print(X)\n",
    "\n",
    "func()"
   ]
  },
  {
   "cell_type": "code",
   "execution_count": 1,
   "id": "1d37ef45",
   "metadata": {},
   "outputs": [
    {
     "name": "stdout",
     "output_type": "stream",
     "text": [
      "iNeuron\n"
     ]
    }
   ],
   "source": [
    "#Q1-\n",
    "X = 'iNeuron'\n",
    "def func():\n",
    "    print(X)\n",
    "func() #since no variables are inside the function replicating the variable X by name and data type,the function accesses and prints the global variable X"
   ]
  },
  {
   "cell_type": "code",
   "execution_count": 3,
   "id": "1acac4e5",
   "metadata": {},
   "outputs": [
    {
     "ename": "SyntaxError",
     "evalue": "invalid syntax (4026885980.py, line 7)",
     "output_type": "error",
     "traceback": [
      "\u001b[1;36m  File \u001b[1;32m\"C:\\Users\\alokk\\AppData\\Local\\Temp\\ipykernel_20608\\4026885980.py\"\u001b[1;36m, line \u001b[1;32m7\u001b[0m\n\u001b[1;33m    func() func() #creates a local variable X by assigning it a value 'NI!'\u001b[0m\n\u001b[1;37m           ^\u001b[0m\n\u001b[1;31mSyntaxError\u001b[0m\u001b[1;31m:\u001b[0m invalid syntax\n"
     ]
    }
   ],
   "source": [
    "#Q2-\n",
    "X = 'iNeuron'\n",
    "def func():\n",
    "    X = 'NI!'\n",
    "\n",
    "\n",
    "func() func() #creates a local variable X by assigning it a value 'NI!'\n",
    "print(X) #printing X prints the global variable X\n"
   ]
  },
  {
   "cell_type": "code",
   "execution_count": 4,
   "id": "e494ac61",
   "metadata": {},
   "outputs": [
    {
     "name": "stdout",
     "output_type": "stream",
     "text": [
      "NI\n",
      "iNeuron\n"
     ]
    }
   ],
   "source": [
    "#Q3-\n",
    "X = 'iNeuron'\n",
    "def func():\n",
    "    X = 'NI'\n",
    "    print(X)\n",
    "\n",
    "\n",
    "func() #func() prints result as Nonetype(local variable X which is created once the function is called).\n",
    "print(X) #print(X) prints the global variable X "
   ]
  },
  {
   "cell_type": "code",
   "execution_count": 5,
   "id": "68dd4eb1",
   "metadata": {},
   "outputs": [
    {
     "name": "stdout",
     "output_type": "stream",
     "text": [
      "iNeuron\n"
     ]
    },
    {
     "data": {
      "text/plain": [
       "'iNeuron'"
      ]
     },
     "execution_count": 5,
     "metadata": {},
     "output_type": "execute_result"
    }
   ],
   "source": [
    "#Q5-\n",
    "X = 'iNeuron'\n",
    "def func():\n",
    "    X = 'NI'\n",
    "def nested():\n",
    "    print(X)\n",
    "    \n",
    "nested() #by calling nested function it can only access the global variable now hence it prints X='INeuron'\n",
    "\n",
    "func() #func()  creates a local variable X and assigns it the value \"NI\" but it cant manipulate the global variable X=\"Ineuron\"\n",
    "X #hence X shows Ineuron"
   ]
  },
  {
   "cell_type": "code",
   "execution_count": 6,
   "id": "f4534acb",
   "metadata": {},
   "outputs": [
    {
     "ename": "SyntaxError",
     "evalue": "no binding for nonlocal 'X' found (1384098634.py, line 5)",
     "output_type": "error",
     "traceback": [
      "\u001b[1;36m  File \u001b[1;32m\"C:\\Users\\alokk\\AppData\\Local\\Temp\\ipykernel_20608\\1384098634.py\"\u001b[1;36m, line \u001b[1;32m5\u001b[0m\n\u001b[1;33m    nonlocal X\u001b[0m\n\u001b[1;37m    ^\u001b[0m\n\u001b[1;31mSyntaxError\u001b[0m\u001b[1;31m:\u001b[0m no binding for nonlocal 'X' found\n"
     ]
    }
   ],
   "source": [
    "#Q6-\n",
    "def func():\n",
    "    X = 'NI'\n",
    "def nested():\n",
    "    nonlocal X\n",
    "    X = 'Spam'\n",
    "nested()\n",
    "print(X)\n",
    "func()\n",
    "\n",
    "\n",
    "#it is throwing an error to bind with nonlocal 'X' found."
   ]
  },
  {
   "cell_type": "code",
   "execution_count": null,
   "id": "c5eb1f78",
   "metadata": {},
   "outputs": [],
   "source": []
  }
 ],
 "metadata": {
  "kernelspec": {
   "display_name": "Python 3 (ipykernel)",
   "language": "python",
   "name": "python3"
  },
  "language_info": {
   "codemirror_mode": {
    "name": "ipython",
    "version": 3
   },
   "file_extension": ".py",
   "mimetype": "text/x-python",
   "name": "python",
   "nbconvert_exporter": "python",
   "pygments_lexer": "ipython3",
   "version": "3.9.13"
  }
 },
 "nbformat": 4,
 "nbformat_minor": 5
}
