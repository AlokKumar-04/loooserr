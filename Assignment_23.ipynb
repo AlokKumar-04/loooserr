{
 "cells": [
  {
   "cell_type": "code",
   "execution_count": null,
   "id": "9412ed9d",
   "metadata": {},
   "outputs": [],
   "source": [
    "1. What is the result of the code, and why?\n",
    "            def func(a, b=6, c=8):\n",
    "\n",
    "print(a, b, c)\n",
    "\n",
    "            func(1, 2)\n",
    "\n",
    "2. What is the result of this code, and why?\n",
    "            def func(a, b, c=5):\n",
    "\n",
    "print(a, b, c)\n",
    "\n",
    "            func(1, c=3, b=2)\n",
    "\n",
    "3. How about this code: what is its result, and why?\n",
    "            def func(a, *pargs):\n",
    "\n",
    "print(a, pargs)\n",
    "\n",
    "            func(1, 2, 3)\n",
    "\n",
    "4. What does this code print, and why?\n",
    "            def func(a, **kargs):\n",
    "\n",
    "print(a, kargs)\n",
    "\n",
    "            func(a=1, c=3, b=2)\n",
    "\n",
    "5. What gets printed by this, and explain?\n",
    "            def func(a, b, c=8, d=5): print(a, b, c, d) func(1, *(5, 6))\n",
    "\n",
    "6. what is the result of this, and explain?\n",
    "            def func(a, b, c): a = 2; b[0] = 'x'; c['a'] = 'y' l=1; m=[1]; n={'a':0} func(l, m, n) l, m, n"
   ]
  },
  {
   "cell_type": "code",
   "execution_count": 1,
   "id": "63aa8327",
   "metadata": {},
   "outputs": [
    {
     "name": "stdout",
     "output_type": "stream",
     "text": [
      "1 2 8\n"
     ]
    }
   ],
   "source": [
    "#Q1)-\n",
    "def func(a, b=6, c=8):\n",
    "    print(a, b, c)\n",
    "    \n",
    "func(1, 2) \n",
    "#result is 1 2 8 due to variable c=8 is already initialised at the time of signature and variable b is overridden with 2"
   ]
  },
  {
   "cell_type": "code",
   "execution_count": 2,
   "id": "e8b90e1a",
   "metadata": {},
   "outputs": [
    {
     "name": "stdout",
     "output_type": "stream",
     "text": [
      "1 2 3\n"
     ]
    }
   ],
   "source": [
    "#Q2)-\n",
    "def func(a, b, c=5):\n",
    "    print(a, b, c)\n",
    "func(1, c=3, b=2) #output 1 2 3 as variable c gets overridden with 5."
   ]
  },
  {
   "cell_type": "code",
   "execution_count": 3,
   "id": "1f451489",
   "metadata": {},
   "outputs": [
    {
     "name": "stdout",
     "output_type": "stream",
     "text": [
      "1 (2, 3)\n"
     ]
    }
   ],
   "source": [
    "#Q3)-\n",
    "def func(a, *pargs):\n",
    "    print(a, pargs)\n",
    "func(1, 2, 3)  # * pargs takes infinite no of positional arguments of any datatypes and stores them in  tuples. \n",
    "#Hence output 1,(2,3)"
   ]
  },
  {
   "cell_type": "code",
   "execution_count": 4,
   "id": "77bb6c3a",
   "metadata": {},
   "outputs": [
    {
     "name": "stdout",
     "output_type": "stream",
     "text": [
      "1 {'c': 3, 'b': 2}\n"
     ]
    }
   ],
   "source": [
    "#Q4)-\n",
    "def func(a, **kargs):\n",
    "    print(a, kargs)\n",
    "func(a=1, c=3, b=2)\n",
    "#**kwargs takes infinite number of positional arguments and tries to convert them into dict internally and function stores multiple returns by default in tuples\n",
    "#(1,{'c':3,'b':2})"
   ]
  },
  {
   "cell_type": "code",
   "execution_count": 5,
   "id": "aafbf59e",
   "metadata": {},
   "outputs": [
    {
     "name": "stdout",
     "output_type": "stream",
     "text": [
      "1 5 6 5\n"
     ]
    }
   ],
   "source": [
    "#Q5)-\n",
    "def func(a, b, c=8, d=5): \n",
    "     print(a, b, c, d)\n",
    "func(1, *(5, 6))\n",
    "#*(5,6) tries to assign key value pair to the predefined and unassigned variable b after a and ends at c \n",
    "#value d doesnt get overridden and returns default value 5"
   ]
  },
  {
   "cell_type": "code",
   "execution_count": 6,
   "id": "3fb7069a",
   "metadata": {},
   "outputs": [
    {
     "data": {
      "text/plain": [
       "(1, ['x'], {'a': 'y'})"
      ]
     },
     "execution_count": 6,
     "metadata": {},
     "output_type": "execute_result"
    }
   ],
   "source": [
    "#Q6)-\n",
    "def func(a, b, c): \n",
    "    a = 2; b[0] = 'x'; c['a'] = 'y'\n",
    "l=1; m=[1]; n={'a':0}\n",
    "func(l, m, n)\n",
    "l, m, n #l gets inside and gets copied a local variable a.Hence l outside the function scope retains its original value 1\n",
    "#m=[1] #function changes the value by assigning element x through an index.\n",
    "#n[\"a\"]=\"y\" function assigns value 'y' to dictionary key c['a']\n",
    "#output-(1,[\"x\"],{'a':'y'})"
   ]
  },
  {
   "cell_type": "code",
   "execution_count": 7,
   "id": "b57c5f39",
   "metadata": {},
   "outputs": [
    {
     "data": {
      "text/plain": [
       "(1, ['x'], {'a': 'y'})"
      ]
     },
     "execution_count": 7,
     "metadata": {},
     "output_type": "execute_result"
    }
   ],
   "source": [
    "l,m,n"
   ]
  },
  {
   "cell_type": "code",
   "execution_count": null,
   "id": "ab7c2e4c",
   "metadata": {},
   "outputs": [],
   "source": []
  }
 ],
 "metadata": {
  "kernelspec": {
   "display_name": "Python 3 (ipykernel)",
   "language": "python",
   "name": "python3"
  },
  "language_info": {
   "codemirror_mode": {
    "name": "ipython",
    "version": 3
   },
   "file_extension": ".py",
   "mimetype": "text/x-python",
   "name": "python",
   "nbconvert_exporter": "python",
   "pygments_lexer": "ipython3",
   "version": "3.9.13"
  }
 },
 "nbformat": 4,
 "nbformat_minor": 5
}
