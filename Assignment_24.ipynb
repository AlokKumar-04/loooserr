{
 "cells": [
  {
   "cell_type": "markdown",
   "id": "7832b623",
   "metadata": {},
   "source": [
    "\"\"\"1. What is the relationship between def statements and lambda expressions ?\n",
    "Ans):\n",
    "    In Python def statements are used to define named functions with a block of statements that perform a task. A def statement starts with the def keyword, followed by the function name, parameter list, and a colon. The body of the function is indented and can contain any number of statements. Here is an example:\n",
    "\"\"\"\n",
    "def add_numbers(x, y):\n",
    "    return x + y\n",
    "\n",
    "lambda expressions, also known as anonymous functions, are used to define small, one-line functions without a name. A lambda expression consists of the lambda keyword, followed by the parameter list, a colon, and the expression to be evaluated. \n"
   ]
  },
  {
   "cell_type": "markdown",
   "id": "ed13df2d",
   "metadata": {},
   "source": [
    "2. What is the benefit of lambda?\n",
    "Ans):\n",
    "    Lambda enables you to use functions with pre-trained machine learning (ML) models to inject artiﬁcial intelligence into applications more easily. A single application programming interface (API) request can classify images, analyze videos, convert speech to text, perform natural language processing, and more."
   ]
  },
  {
   "cell_type": "markdown",
   "id": "c496df9e",
   "metadata": {},
   "source": [
    "3. Compare and contrast map, filter, and reduce.\n",
    "Ans):\n",
    "    Map cannot return one single element for an array of multiple elements, while reduce will always return the accumulator you eventually changed."
   ]
  },
  {
   "cell_type": "markdown",
   "id": "f8cdadbe",
   "metadata": {},
   "source": [
    "4. What are function annotations, and how are they used?\n",
    " Ans):\n",
    "     Function annotations are some random expressions which are written with the functions, and they are evaluated at compile time. They do not exist at run time, and there is no meaning of these expressions to python. They are used and interpreted by a third party or external python libraries."
   ]
  },
  {
   "cell_type": "markdown",
   "id": "8ef4f108",
   "metadata": {},
   "source": [
    "5. What are recursive functions, and how are they used?\n",
    "Ans):\n",
    "    A recursive function is a function that calls itself repeatedly until it reaches a base case, which is a condition that terminates the recursion. Recursive functions are commonly used in programming to solve problems that can be broken down into smaller sub-problems that are solved by recursively calling the same function."
   ]
  },
  {
   "cell_type": "markdown",
   "id": "8e776365",
   "metadata": {},
   "source": [
    "6. What are some general design guidelines for coding functions?\n",
    "Ans):\n",
    "    1)Single Responsibility Principle (SRP)\n",
    "    2)Use function parameters\n",
    "    3)Limit the use of global variables\n",
    "    4)Keep functions short and focused\n",
    "    5)Portable: It works the same in every environment.etc."
   ]
  },
  {
   "cell_type": "markdown",
   "id": "55679753",
   "metadata": {},
   "source": [
    "7. Name three or more ways that functions can communicate results to a caller.\n",
    "Ans):\n",
    "    1) Return statement: Functions can use the \"return\" keyword to send a value back to the caller. This value can be a single value or a collection of values like a list, tuple, or dictionary.\n",
    "    2)Global variables: Functions can update the value of global variables, which can be accessed by the caller after the function is executed.\n",
    "    3)Side effects: Functions can change the state of objects outside the function scope, such as modifying a mutable object that was passed as an argument."
   ]
  }
 ],
 "metadata": {
  "kernelspec": {
   "display_name": "Python 3 (ipykernel)",
   "language": "python",
   "name": "python3"
  },
  "language_info": {
   "codemirror_mode": {
    "name": "ipython",
    "version": 3
   },
   "file_extension": ".py",
   "mimetype": "text/x-python",
   "name": "python",
   "nbconvert_exporter": "python",
   "pygments_lexer": "ipython3",
   "version": "3.9.13"
  }
 },
 "nbformat": 4,
 "nbformat_minor": 5
}
