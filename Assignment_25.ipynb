{
 "cells": [
  {
   "cell_type": "markdown",
   "id": "d515b907",
   "metadata": {},
   "source": [
    "1) . What is the difference between enclosing a list comprehension in square brackets and\n",
    "parentheses?\n",
    "Ans):\n",
    "    In Python, enclosing a list comprehension in square brackets [] produces a list, whereas enclosing it in parentheses () produces a generator object.\n",
    "\n",
    "\n"
   ]
  },
  {
   "cell_type": "markdown",
   "id": "60436c2c",
   "metadata": {},
   "source": [
    "2) What is the relationship between generators and iterators?\n",
    "Ans):\n",
    "    Generators are a special type of iterator that are defined using a function and use the yield statement to produce a sequence of values on the fly. Iterators, on the other hand, provide a way to access the elements of a sequence, one at a time, without having to store the entire sequence in memory."
   ]
  },
  {
   "cell_type": "markdown",
   "id": "a4590e95",
   "metadata": {},
   "source": [
    "3) What are the signs that a function is a generator function?\n",
    "Ans):\n",
    "    A function with yield statements is a generator function\n",
    "A generator function is a function with one or more yield statements in it. Unlike regular functions, generator functions return generator objects. Meaning, when you call a generator function, it doesn't run the function."
   ]
  },
  {
   "cell_type": "markdown",
   "id": "659eb7d3",
   "metadata": {},
   "source": [
    "4) What is the purpose of a yield statement?\n",
    "Ans):\n",
    "    The yield statement in Python is used in the context of generator functions to produce a sequence of values that can be iterated over."
   ]
  },
  {
   "cell_type": "code",
   "execution_count": 1,
   "id": "5c09b562",
   "metadata": {},
   "outputs": [
    {
     "name": "stdout",
     "output_type": "stream",
     "text": [
      "[1, 4, 9, 16, 25]\n"
     ]
    }
   ],
   "source": [
    "\"\"\"5) What is the relationship between map calls and list comprehensions? Make a comparison and contrast between the two.\n",
    "Ans):\n",
    "    Both map() and list comprehensions are used in Python to transform and filter data in an iterable. However, they differ in their syntax, usage, and behavior.\n",
    "\n",
    "map() is a built-in function in Python that takes two arguments: a function and an iterable. It applies the function to each element of the iterable and returns a new iterable object containing the transformed values. Here is an example:\"\"\"\n",
    "\n",
    "numbers = [1, 2, 3, 4, 5]\n",
    "\n",
    "def square(x):\n",
    "    return x**2\n",
    "\n",
    "squares = map(square, numbers)\n",
    "print(list(squares)) \n"
   ]
  },
  {
   "cell_type": "code",
   "execution_count": null,
   "id": "bac61bad",
   "metadata": {},
   "outputs": [],
   "source": []
  }
 ],
 "metadata": {
  "kernelspec": {
   "display_name": "Python 3 (ipykernel)",
   "language": "python",
   "name": "python3"
  },
  "language_info": {
   "codemirror_mode": {
    "name": "ipython",
    "version": 3
   },
   "file_extension": ".py",
   "mimetype": "text/x-python",
   "name": "python",
   "nbconvert_exporter": "python",
   "pygments_lexer": "ipython3",
   "version": "3.9.13"
  }
 },
 "nbformat": 4,
 "nbformat_minor": 5
}
