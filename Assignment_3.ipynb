{
 "cells": [
  {
   "cell_type": "markdown",
   "id": "65784a45-4777-4790-8e87-058a4bc27dfd",
   "metadata": {},
   "source": [
    "1. Why are functions advantageous to have in your programs?\n",
    "Ans:\n",
    "     Function is a piece of code which makes the code readable,reusable and divides the code into several different modules. Instead of performing tedius operations again and again,we can write a single function code and reuse it according to our own convenience by calling the function and passing the arguments."
   ]
  },
  {
   "cell_type": "markdown",
   "id": "2a224d19-cb64-470a-8b07-fb9ef9e8804f",
   "metadata": {},
   "source": [
    "2. When does the code in a function run: when it&#39;s specified or when it&#39;s called?\n",
    "Ans:\n",
    "    A code inside a function is executed when the function is called by passing exactly same number of arguments as mentioned in the function's signature(unless and until any of the arguments specified are not preassigned with any value.)"
   ]
  },
  {
   "cell_type": "markdown",
   "id": "bc4b4152-3626-4113-ae5a-f09ceb003a4a",
   "metadata": {},
   "source": [
    "3. What statement creates a function?\n",
    "Ans:\n",
    "    In python, we use the keyword \"def\" to create a function. Format in Python- def functionname(arg1,arg2...): body of the function/pass\n",
    "\n",
    "                    return/print statment as per user wish"
   ]
  },
  {
   "cell_type": "markdown",
   "id": "3cc7ccfa-d0d7-4e1e-b408-7347ceb3ff82",
   "metadata": {},
   "source": [
    "4. What is the difference between a function and a function call?\n",
    "Ans:\n",
    "    In function we get to define a function with the keyword def and we write functionname and arguments in circular brackets which is followed by function body under the indentation.We can return or print some value or just write pass under the indentation if nothing is wished to be wriiten. Format in Python- def functionname(arg1,arg2...): body of the function/pass\n",
    "\n",
    "                    return/print statment as per user wish\n",
    "\n",
    "By giving a function call we are actually calling the function to be executed by passing exactly same number of arguments as asked in the function signature. Function call can be made several times by writing the function name and passing different arguments,but function body and signature are written only once so that the code inside the function can be reused and utilized several times.\n",
    "\n",
    "Ex- funtionname(arg1,arg2...)--- calling of a function"
   ]
  },
  {
   "cell_type": "markdown",
   "id": "400188de-fc26-4ad2-bf13-a83c2f5a6065",
   "metadata": {},
   "source": [
    "5. How many global scopes are there in a Python program? How many local scopes?\n",
    "Ans:\n",
    "    Local (or function) scope is the code block or body of any Python function or lambda expression. This Python scope contains the names that you define inside the function. These names will only be visible from the code of the function. It’s created at function call, not at function definition, so you’ll have as many different local scopes as function calls. This is true even if you call the same function multiple times, or recursively. Each call will result in a new local scope being created.\n",
    "\n",
    "Enclosing (or nonlocal) scope is a special scope that only exists for nested functions. If the local scope is an inner or nested function, then the enclosing scope is the scope of the outer or enclosing function. This scope contains the names that you define in the enclosing function. The names in the enclosing scope are visible from the code of the inner and enclosing functions.\n",
    "\n",
    "Global (or module) scope is the top-most scope in a Python program, script, or module. This Python scope contains all of the names that you define at the top level of a program or a module. Names in this Python scope are visible from everywhere in your code.\n",
    "\n",
    "Built-in scope is a special Python scope that’s created or loaded whenever you run a script or open an interactive session. This scope contains names such as keywords, functions, exceptions, and other attributes that are built into Python. Names in this Python scope are also available from everywhere in your code. It’s automatically loaded by Python when you run a program or script.\n",
    "\n",
    "There is one global scope, and a local scope is created whenever a function is called."
   ]
  },
  {
   "cell_type": "markdown",
   "id": "146d06ee-c69e-4c10-9920-67fd3a7387af",
   "metadata": {},
   "source": [
    "6. What happens to variables in a local scope when the function call returns?\n",
    "Ans:\n",
    "    When a function is called by passing exactly same number of arguments as defined in function\"s signature,the value of arguments is passed on to local variables in the function(local variables get initialized) and are recognised by compiler inside the body of the function only till it gets executed.\n",
    "\n",
    "When a function call is returned(ex- if the function arguments are less/more than those specified in function signature),the local variables dont get any value passed/assigned on to them and hence since the body of the function is not executed,they are not recognised. When a function returns, the local scope is destroyed, and all the variables in it are forgotten."
   ]
  },
  {
   "cell_type": "markdown",
   "id": "7771c277-5521-406f-b6a3-2ee59fe3ff2a",
   "metadata": {},
   "source": [
    "7. What is the concept of a return value? Is it possible to have a return value in an expression?\n",
    "Ans:\n",
    "     return statement returns the same data type as obtained by computation of arguments of function which is specified in function body. This data can be stored in a variable and can be subject to further processing/computation.\n"
   ]
  },
  {
   "cell_type": "markdown",
   "id": "724ea609-8962-4b7e-8580-10cd347dabc0",
   "metadata": {},
   "source": [
    "8. If a function does not have a return statement, what is the return value of a call to that function?\n",
    "Ans:\n",
    "     If the function doesnt have return statement it might have print statment which will return NoneType as the data type. Or else it might have keyword 'pass' if we are not interested to show any value on console. If there is no return statement for a function, its return value is None."
   ]
  },
  {
   "cell_type": "markdown",
   "id": "2db01f16-42dc-471d-800e-436d2b8b2bbd",
   "metadata": {},
   "source": [
    "9. How do you make a function variable refer to the global variable?\n",
    "Ans:\n",
    "    By assigning the global variable a value outside the function,then passing the global variable as the function argument by calling the function. A global statement will force a variable in a function to refer to the global variable."
   ]
  },
  {
   "cell_type": "markdown",
   "id": "519f723d-3064-4c0d-ab6c-2e031b281ed7",
   "metadata": {},
   "source": [
    "10. What is the data type of None?\n",
    "Ans:\n",
    "    Its NoneType(which means it cant be stored in variable nor it can be subjected to any futher computation/processing."
   ]
  },
  {
   "cell_type": "markdown",
   "id": "39fb914d-a17a-423a-a545-742fdf01e91d",
   "metadata": {},
   "source": [
    "11. What does the sentence import areallyourpetsnamederic do?\n",
    "Ans:\n",
    "    That import statement imports a module named areallyourpetsnamederic. (This isn’t a real Python module although unless we create it using a .py (pythonic file extension)"
   ]
  },
  {
   "cell_type": "markdown",
   "id": "8991aaf9-7321-4275-a9f9-5c7611234a49",
   "metadata": {},
   "source": [
    "12. If you had a bacon() feature in a spam module, what would you call it after importing spam?\n",
    "Ans:\n",
    "    spam.bacon() 13. What can you do to save a programme from crashing if it encounters an error? Ans13)- Place the line of code that might cause an error(suspicicious code) in a try clause. The code if it generates an error will come under Except block where it consists of Except Parent class cwhich further contains submodules and fucntions that are supposed to handle the error."
   ]
  },
  {
   "cell_type": "markdown",
   "id": "72b6b372-3ddf-4369-afcd-a3b21f75519a",
   "metadata": {},
   "source": [
    "13. What can you do to save a programme from crashing if it encounters an error?\n",
    "Ans:\n",
    "    If an error occurs in a program, we don't want the program to unexpectedly crash on the user. Instead, error handling can be used to notify the user of why the error occurred and gracefully exit the process that caused the error."
   ]
  },
  {
   "cell_type": "markdown",
   "id": "20406ab4-e8c1-479c-ae70-60e5d0a0ce8d",
   "metadata": {},
   "source": [
    "14. What is the purpose of the try clause? What is the purpose of the except clause?\n",
    "Ans:\n",
    "    Place the line of code that might cause an error(suspicicious code) in a try clause. The code if it generates an error will come under Except block where it consists of Except Parent class cwhich further contains submodules and fucntions that are supposed to handle the error."
   ]
  }
 ],
 "metadata": {
  "kernelspec": {
   "display_name": "Python 3 (ipykernel)",
   "language": "python",
   "name": "python3"
  },
  "language_info": {
   "codemirror_mode": {
    "name": "ipython",
    "version": 3
   },
   "file_extension": ".py",
   "mimetype": "text/x-python",
   "name": "python",
   "nbconvert_exporter": "python",
   "pygments_lexer": "ipython3",
   "version": "3.10.6"
  }
 },
 "nbformat": 4,
 "nbformat_minor": 5
}
