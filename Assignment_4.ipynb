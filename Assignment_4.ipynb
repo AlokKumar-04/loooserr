{
 "cells": [
  {
   "cell_type": "markdown",
   "id": "62cfa96c-004f-4a54-9324-481638d368ac",
   "metadata": {},
   "source": [
    "1. What exactly is []?\n",
    "Ans:\n",
    "    The above thing is an empty list capable of holding collection of heterogeneous data types."
   ]
  },
  {
   "cell_type": "markdown",
   "id": "b52fa021-fb08-47a0-9bd9-e9246619d3cc",
   "metadata": {},
   "source": [
    "2. In a list of values stored in a variable called spam, how would you assign the value &#39;hello&#39; as the\n",
    "third value? (Assume [2, 4, 6, 8, 10] are in spam.)\n",
    "Let&#39;s pretend the spam includes the list [&#39;a&#39;, &#39;b&#39;, &#39;c&#39;, &#39;d&#39;] for the next three queries.\n",
    "Ans:\n",
    "    Since list indices are mutable,they can be altered at the original memory location. spam[2]= \"hello\" (since first index starts with 0."
   ]
  },
  {
   "cell_type": "markdown",
   "id": "96070372-3c90-406d-aa4e-0a6d1aac9459",
   "metadata": {},
   "source": [
    "3. What is the value of spam[int(int(&#39;3&#39; * 2) / 11)]?\n",
    "Ans:\n",
    "    Since the computational result inside results in 3. int(str(3)*2)=33 and int(33/11)=3 spam[3]= 'd'"
   ]
  },
  {
   "cell_type": "code",
   "execution_count": 1,
   "id": "d1fdc200-8f6b-47cf-97b2-fd4f2f50a376",
   "metadata": {},
   "outputs": [
    {
     "data": {
      "text/plain": [
       "['a', 'b']"
      ]
     },
     "execution_count": 1,
     "metadata": {},
     "output_type": "execute_result"
    }
   ],
   "source": [
    "#Q3,#Q5-\n",
    "spam=[\"a\",\"b\",\"c\",\"d\"]\n",
    "spam[int(int('3' * 2) / 11)]\n",
    "spam[:2]"
   ]
  },
  {
   "cell_type": "markdown",
   "id": "ab561e21-da83-4c68-bc25-42392b5ca59e",
   "metadata": {},
   "source": [
    "4. What is the value of spam[-1]?\n",
    "Ans:\n",
    "    spam[-1]= \"d\""
   ]
  },
  {
   "cell_type": "markdown",
   "id": "e9c6654f-d996-481c-8324-b4b86b536b1d",
   "metadata": {},
   "source": [
    "5. What is the value of spam[:2]?\n",
    "Let&#39;s pretend bacon has the list [3.14, &#39;cat,&#39; 11, &#39;cat,&#39; True] for the next three questions.\n",
    "Ans:\n",
    "    spam[:2]= ['a','b']"
   ]
  },
  {
   "cell_type": "markdown",
   "id": "a1054035-7405-4bc8-9ae7-70351d2e3e8f",
   "metadata": {},
   "source": [
    "6. What is the value of bacon.index(&#39;cat&#39;)?\n",
    "Ans:\n",
    "    Since .index() gives the lowest possible index of inserted object- bacon.index('cat')= 1"
   ]
  },
  {
   "cell_type": "markdown",
   "id": "e3044958-c33a-4c50-acdc-969453c62c05",
   "metadata": {},
   "source": [
    "7. How does bacon.append(99) change the look of the list value in bacon?\n",
    "Ans:\n",
    "    .append() function inserts an iterable or non iterable entity as a single entry inside the list. bacon=[3.14,'cat',1,'cat',True,99]"
   ]
  },
  {
   "cell_type": "markdown",
   "id": "f91393ef-c84e-4598-89a0-52ea18de387b",
   "metadata": {},
   "source": [
    "8. How does bacon.remove(&#39;cat&#39;) change the look of the list in bacon?\n",
    "Ans:\n",
    "    bacon.remove('cat') removes the entry from lower indices first. bacon=[3.14,1,'cat',True]"
   ]
  },
  {
   "cell_type": "code",
   "execution_count": 2,
   "id": "8085df8f-6043-49d1-b455-188584f31283",
   "metadata": {},
   "outputs": [
    {
     "data": {
      "text/plain": [
       "[3.14, 1, 'cat', True]"
      ]
     },
     "execution_count": 2,
     "metadata": {},
     "output_type": "execute_result"
    }
   ],
   "source": [
    "#Q8-\n",
    "bacon=[3.14,'cat',1,'cat',True]\n",
    "bacon.remove('cat')\n",
    "bacon"
   ]
  },
  {
   "cell_type": "markdown",
   "id": "7a485bc0-542a-46c8-815d-f58f2595647d",
   "metadata": {},
   "source": [
    "9. What are the list concatenation and list replication operators?\n",
    "Ans:\n",
    "    List concatenation operator is (+) whereas list replication operator is (*),both of these exhibit examples of polymorphism(nature varying upon nature of data types in operands)."
   ]
  },
  {
   "cell_type": "markdown",
   "id": "6a4d2ef7-f026-4c14-81d1-479b433ec163",
   "metadata": {},
   "source": [
    "10. What is difference between the list methods append() and insert()?\n",
    "Ans:\n",
    "     append()- inserts an iterable or non iterable entity as one single entry inside the list towards the last. insert()-inserts desired data of a certain data type at the desired index shifting former entity at that index towards the right."
   ]
  },
  {
   "cell_type": "markdown",
   "id": "e934b7e0-4195-4d30-89c6-8c21babe22fa",
   "metadata": {},
   "source": [
    "11. What are the two methods for removing items from a list?\n",
    "Ans:\n",
    "    pop()- removes entry from the list on the basis of index inserted.If no index is inserted,default index is(-1),ie entry from -1 index is removed.\n",
    "\n",
    "    remove()- removes on the basis of data inside the list and not on index basis.\n",
    "\n",
    "    del statement also removes all values from a list."
   ]
  },
  {
   "cell_type": "markdown",
   "id": "5ae1bfb4-3622-4214-b34a-20f47b40993b",
   "metadata": {},
   "source": [
    "12. Describe how list values and string values are identical.\n",
    "Ans:\n",
    "     Both lists and strings can be passed to len(), have indexes and slices, be used in for loops, be concatenated or replicated, and be used with the in and not in operators.Both are iterable,data slcing is possible in both and both have indices which are subscriptable as well."
   ]
  },
  {
   "cell_type": "markdown",
   "id": "645b0cb0-4b1c-4348-a189-0eac9b7c703c",
   "metadata": {},
   "source": [
    "13. What&#39;s the difference between tuples and lists?\n",
    "Ans:\n",
    "    Both tuple and list are capable of storing collection of heterogeneous data types,but the difference is that tuple indices cannot be manipulated at the original memory address(immutable) whereas list indices can be manipulated at the original memory location(mutable).\n",
    "\n",
    "   Due to immutability only,count(),index() exist in tuples wheras list has wide variety of functions other than just count() and index()."
   ]
  },
  {
   "cell_type": "markdown",
   "id": "0d593518-132c-43f1-b6dd-2e2ac328abbe",
   "metadata": {},
   "source": [
    "14. How do you type a tuple value that only contains the integer 42?\n",
    "Ans:\n",
    "    t=42, (automatically t gets stored in a tuple)"
   ]
  },
  {
   "cell_type": "markdown",
   "id": "29b7f11b-4026-486b-8929-e6da24647a1d",
   "metadata": {},
   "source": [
    "15. How do you get a list value&#39;s tuple form? How do you get a tuple value&#39;s list form?\n",
    "Ans:\n",
    "    By typecasting list variable into tuple by using function tuple() By typecasting tuples variable into list by using function list()"
   ]
  },
  {
   "cell_type": "markdown",
   "id": "bbcd29d9-91ad-4887-9b49-87a9647bbea6",
   "metadata": {},
   "source": [
    "16. Variables that &quot;contain&quot; list values are not necessarily lists themselves. Instead, what do they\n",
    "contain?\n",
    "Ans:\n",
    "    They might contain nested list stored in some other collection of heterogeneous data type(ex tuple). They contain references to list values."
   ]
  },
  {
   "cell_type": "markdown",
   "id": "e6355dc3-0393-475f-965e-fc18782b86f6",
   "metadata": {},
   "source": [
    "17. How do you distinguish between copy.copy() and copy.deepcopy()?\n",
    "Ans:\n",
    "     The copy.copy() function will do a shallow copy of a list, while the copy.deepcopy() function will do a deep copy of a list. That is, only copy.deepcopy() will duplicate any lists inside the list."
   ]
  },
  {
   "cell_type": "code",
   "execution_count": null,
   "id": "dcf3a228-3cc7-48b8-8c28-ea679da65ce0",
   "metadata": {},
   "outputs": [],
   "source": []
  }
 ],
 "metadata": {
  "kernelspec": {
   "display_name": "Python 3 (ipykernel)",
   "language": "python",
   "name": "python3"
  },
  "language_info": {
   "codemirror_mode": {
    "name": "ipython",
    "version": 3
   },
   "file_extension": ".py",
   "mimetype": "text/x-python",
   "name": "python",
   "nbconvert_exporter": "python",
   "pygments_lexer": "ipython3",
   "version": "3.10.6"
  }
 },
 "nbformat": 4,
 "nbformat_minor": 5
}
