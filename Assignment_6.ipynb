{
 "cells": [
  {
   "cell_type": "markdown",
   "id": "06900346",
   "metadata": {},
   "source": [
    "1. What are escape characters, and how do you use them?\n",
    "Ans1)- Escape characters represent characters in string values that would otherwise be difficult or impossible to type into code. Ex- \"\\n\" stands for newline,\"\\r\" stands for carriage return."
   ]
  },
  {
   "cell_type": "markdown",
   "id": "3166a803",
   "metadata": {},
   "source": [
    "2. What do the escape characters n and t stand for?\n",
    "Ans2)- \\n is a newline; \\t is a tab."
   ]
  },
  {
   "cell_type": "markdown",
   "id": "99ec8d54",
   "metadata": {},
   "source": [
    "3. What is the way to include backslash characters in a string?\n",
    "Ans 3)- The '\\' escape character will represent a backslash character when given with a string literal."
   ]
  },
  {
   "cell_type": "markdown",
   "id": "03bf027c",
   "metadata": {},
   "source": [
    "4. The string \"Howl's Moving Castle\" is a correct value. Why isn't the single quote character in the word Howl's not escaped a problem?\n",
    "Ans5)- We have defined the above string literal in \"\". So single quote character in Howl's will get recognised as a string in between \"\"."
   ]
  },
  {
   "cell_type": "markdown",
   "id": "e26534a7",
   "metadata": {},
   "source": [
    "5. How do you write a string of newlines if you don't want to use the n character?\n",
    "Ans6)- Multiline strings allow you to use newlines in strings without the \\n escape character. We can also try iterating through a string a printing every iteration. By default we get every iteration printed on a newline without the need of using \"\\n\" character."
   ]
  },
  {
   "cell_type": "markdown",
   "id": "adae3b03",
   "metadata": {},
   "source": [
    "6. What are the values of the given expressions?\n",
    "'Hello, world!'[1]- \"e\" 'Hello, world!'[0:5]- \"Hello\" 'Hello, world!'[:5]- \"Hello\" 'Hello, world!'[3:]- \"lo, world!\""
   ]
  },
  {
   "cell_type": "markdown",
   "id": "f86714d8",
   "metadata": {},
   "source": [
    "7. What are the values of the following expressions?\n",
    "'Hello'.upper()- \"HELLO\" 'Hello'.upper().isupper()- True 'Hello'.upper().lower()- 'hello' 8. What are the values of the following expressions? 'Remember, remember, the fifth of July.'.split()- ['Remember,', 'remember,', 'the', 'fifth', 'of', 'July.']\n",
    "\n",
    "'-'.join('There can only one.'.split())- 'There-can-only-one.' (\"\".join() can be used for a list as well) 9. What are the methods for right-justifying, left-justifying, and centering a string? ANS9)- rjust(),ljust(),center() respectively."
   ]
  },
  {
   "cell_type": "markdown",
   "id": "4d1e5517",
   "metadata": {},
   "source": [
    "10. What is the best way to remove whitespace characters from the start or end?\n",
    "Ans10)- The lstrip() and rstrip() methods remove whitespace from the left and right ends of a string, respectively."
   ]
  },
  {
   "cell_type": "code",
   "execution_count": 1,
   "id": "96dd0b71",
   "metadata": {},
   "outputs": [
    {
     "data": {
      "text/plain": [
       "'lo, world!'"
      ]
     },
     "execution_count": 1,
     "metadata": {},
     "output_type": "execute_result"
    }
   ],
   "source": [
    "#Q6-\n",
    "'Hello, world!'[1]\n",
    "'Hello, world!'[0:5]\n",
    "'Hello, world!'[:5]\n",
    "'Hello, world!'[3:]"
   ]
  },
  {
   "cell_type": "code",
   "execution_count": 2,
   "id": "5919e9d0",
   "metadata": {},
   "outputs": [
    {
     "data": {
      "text/plain": [
       "'There-can-only-one.'"
      ]
     },
     "execution_count": 2,
     "metadata": {},
     "output_type": "execute_result"
    }
   ],
   "source": [
    "#Q8-\n",
    "'Remember, remember, the fifth of July.'.split()\n",
    "'-'.join('There can only one.'.split())"
   ]
  },
  {
   "cell_type": "code",
   "execution_count": 3,
   "id": "ab27b447",
   "metadata": {},
   "outputs": [
    {
     "data": {
      "text/plain": [
       "'POPE'"
      ]
     },
     "execution_count": 3,
     "metadata": {},
     "output_type": "execute_result"
    }
   ],
   "source": [
    "s=\"POPE\"\n",
    "s.ljust(2)\n",
    "s.rjust(3)\n",
    "s.ljust(1)\n",
    "s.rjust(4)"
   ]
  },
  {
   "cell_type": "code",
   "execution_count": null,
   "id": "bec68496",
   "metadata": {},
   "outputs": [],
   "source": []
  }
 ],
 "metadata": {
  "kernelspec": {
   "display_name": "Python 3 (ipykernel)",
   "language": "python",
   "name": "python3"
  },
  "language_info": {
   "codemirror_mode": {
    "name": "ipython",
    "version": 3
   },
   "file_extension": ".py",
   "mimetype": "text/x-python",
   "name": "python",
   "nbconvert_exporter": "python",
   "pygments_lexer": "ipython3",
   "version": "3.9.13"
  }
 },
 "nbformat": 4,
 "nbformat_minor": 5
}
