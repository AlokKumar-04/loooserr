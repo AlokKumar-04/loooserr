{
 "cells": [
  {
   "cell_type": "markdown",
   "id": "20110bec",
   "metadata": {},
   "source": [
    "1. What is the name of the feature responsible for generating Regex objects?\n",
    "Ans1)- The re.compile() function returns REGEX objects"
   ]
  },
  {
   "cell_type": "markdown",
   "id": "8680c9ef",
   "metadata": {},
   "source": [
    "2. Why do raw strings often appear in Regex objects?\n",
    "Ans2)-Raw strings are used so that backslashes do not have to be escaped."
   ]
  },
  {
   "cell_type": "markdown",
   "id": "56866bf5",
   "metadata": {},
   "source": [
    "3. What is the return value of the search() method?\n",
    "Ans3)- The search() method returns objects in a particular string that match the pattern in re.compile()."
   ]
  },
  {
   "cell_type": "markdown",
   "id": "f96fff62",
   "metadata": {},
   "source": [
    "4. From a Match item, how do you get the actual strings that match the pattern?\n",
    "Ans4)-The group() method returns strings of the matched text. We can classify patterns into divided groups on basis of () in re.compile()"
   ]
  },
  {
   "cell_type": "markdown",
   "id": "a1821a4a",
   "metadata": {},
   "source": [
    "5. In the regex which created from the r'(\\d\\d\\d)-(\\d\\d\\d-\\d\\d\\d\\d)', what does group zero cover? Group 2? Group 1?\n",
    "Ans5)- It covers the entire group as group(0). First group(\\d\\d\\d) is covered as group(1). Second group is(\\d\\d\\d-\\d\\d\\d\\d) is covered as group(2)."
   ]
  },
  {
   "cell_type": "markdown",
   "id": "6371fc8a",
   "metadata": {},
   "source": [
    "6. In standard expression syntax, parentheses and intervals have distinct meanings. How can you tell a regex that you want it to fit real parentheses and periods?\n",
    "Ans6)- Periods and parentheses can be escaped with a backslash: ., (, and ).Backslash will literally tell the compiler to search the character after backslash."
   ]
  },
  {
   "cell_type": "markdown",
   "id": "d2920a93",
   "metadata": {},
   "source": [
    "7. The findall() method returns a string list or a list of string tuples. What causes it to return one of the two options?\n",
    "Ans7)- If the regex has no groups, a list of strings is returned. If the regex has groups, a list of tuples of strings is returned."
   ]
  },
  {
   "cell_type": "markdown",
   "id": "0e29fe5d",
   "metadata": {},
   "source": [
    "8. In standard expressions, what does the | character mean?\n",
    "Ans8)-Its the pipeline character which separates two or more sub-strings or expressions to be searched in a sentence and return whichever one comes first in the search.The | character signifies matching “either, or” between two groups."
   ]
  },
  {
   "cell_type": "markdown",
   "id": "6c27c0e3",
   "metadata": {},
   "source": [
    "9. In regular expressions, what does the character ? stand for?\n",
    "Ans9)- The ? character can either mean “match zero or one of the preceding group” or be used to signify nongreedy matching. + character means matching 1 or more repititions of the preceding group. * character means matching 0 or more repititions of the preceding group."
   ]
  },
  {
   "cell_type": "markdown",
   "id": "73ed6471",
   "metadata": {},
   "source": [
    "10. In regular expressions, what is the difference between the + and * characters? \n",
    "Ans10)-+ character means matching 1 or more repititions of the preceding group. * character means matching 0 or more repititions of the preceding group."
   ]
  },
  {
   "cell_type": "markdown",
   "id": "19519662",
   "metadata": {},
   "source": [
    "11. What is the difference between {4} and {4,5} in regular expression?\n",
    "Ans11) {4} means search for atleast 4 or more repititons of preceding group {4,5} means search for 4 repitions of preceding group only.\n"
   ]
  },
  {
   "cell_type": "markdown",
   "id": "8a230e81",
   "metadata": {},
   "source": [
    "12. What do you mean by the \\d, \\w, and \\s shorthand character classes signify in regular expressions?\n",
    "Ans12)-\\d- signifies single instance of (0-9) \\w- signifies single instance of (a-z,A-Z,0-9)"
   ]
  },
  {
   "cell_type": "markdown",
   "id": "a974dd2e",
   "metadata": {},
   "source": [
    "13. What do means by \\D, \\W, and \\S shorthand character classes signify in regular expressions?\n",
    "Ans13)- The \\D, \\W, and \\S shorthand character classes match a single character that is not a digit, word, or space character, respectively."
   ]
  },
  {
   "cell_type": "markdown",
   "id": "0e1eef0d",
   "metadata": {},
   "source": [
    "14. What is the difference between .? and .?\n",
    "Ans14)-The .* performs a greedy match, and the .*? performs a non greedy match."
   ]
  },
  {
   "cell_type": "markdown",
   "id": "7da1fea4",
   "metadata": {},
   "source": [
    "15. What is the syntax for matching both numbers and lowercase letters with a character class?\n",
    "Ans15)- [a-z 0-9] or [0-9 a-z]"
   ]
  },
  {
   "cell_type": "markdown",
   "id": "4ee48617",
   "metadata": {},
   "source": [
    "16. What is the procedure for making a normal expression in regax case insensitive?\n",
    "Ans16)- Passing re.I or re.IGNORECASE as the second argument to re.compile() will make the matching case insensitive."
   ]
  },
  {
   "cell_type": "markdown",
   "id": "8615c6c1",
   "metadata": {},
   "source": [
    "17. What does the . character normally match? What does it match if re.DOTALL is passed as 2nd argument in re.compile()?\n",
    "Ans17)-The . character normally matches any character except the newline character. If re.DOTALL is passed as the second argument to re.compile(), then the dot will also match newline characters."
   ]
  },
  {
   "cell_type": "markdown",
   "id": "c4b5943a",
   "metadata": {},
   "source": [
    "18. If numReg = re.compile(r'\\d+'), what will numRegex.sub('X', '11 drummers, 10 pipers, five rings, 4 hen') return?\n",
    "Ans18)-numReg.sub('X','11 drummers 10 pipers,five rings,4 hen')will return 'X drummers, X pipers, five rings, X hens' numRegex.sub will give error as numRegex object is not defined."
   ]
  },
  {
   "cell_type": "markdown",
   "id": "64c95281",
   "metadata": {},
   "source": [
    "19. What does passing re.VERBOSE as the 2nd argument to re.compile() allow to do?\n",
    "Ans19)-The re.VERBOSE argument allows you to add whitespace and comments to the string passed to re.compile()."
   ]
  },
  {
   "cell_type": "markdown",
   "id": "a028df0d",
   "metadata": {},
   "source": [
    "20. How would you write a regex that match a number with comma for every three digits? It must match the given following:\n",
    "'42' '1,234' '6,368,745' but not the following: '12,34,567' (which has only two digits between the commas) '1234' (which lacks commas) Ans21)-re.compile(r'^\\d{1,3}(,\\d{3})*$') will create this regex, but other regex strings can produce a similar regular expression."
   ]
  },
  {
   "cell_type": "markdown",
   "id": "6fbda94c",
   "metadata": {},
   "source": [
    "21. How would you write a regex that matches the full name of someone whose last name is Watanabe? You can assume that the first name that comes before it will always be one word that begins with a capital letter. The regex must match the following:\n",
    "\n",
    "'Haruto Watanabe' 'Alice Watanabe' 'RoboCop Watanabe' but not the following: 'haruto Watanabe' (where the first name is not capitalized) 'Mr. Watanabe' (where the preceding word has a nonletter character) 'Watanabe' (which has no first name) 'Haruto watanabe' (where Watanabe is not capitalized) Ans21)-re.compile(r\"(A-Z)(a-z)+\\s(W)(atanabe)\")"
   ]
  },
  {
   "cell_type": "markdown",
   "id": "b3d942be",
   "metadata": {},
   "source": [
    "22. How would you write a regex that matches a sentence where the first word is either Alice, Bob, or Carol; the second word is either eats, pets, or throws; the third word is apples, cats, or baseballs; and the sentence ends with a period? This regex should be case-insensitive. It must match the following:\n",
    "\n",
    "'Alice eats apples.' 'Bob pets cats.' 'Carol throws baseballs.' 'Alice throws Apples.' 'BOB EATS CATS.' but not the following: 'RoboCop eats apples.' 'ALICE THROWS FOOTBALLS.' 'Carol eats 7 cats.' Ans22)-re.compile(r\"(Alice|Bob|Carol)\\s(pets|throws|cats)\\s(apples|cats|baseballs).\",re.I)"
   ]
  },
  {
   "cell_type": "code",
   "execution_count": 1,
   "id": "5b9cd7c0",
   "metadata": {},
   "outputs": [
    {
     "data": {
      "text/plain": [
       "' NO'"
      ]
     },
     "execution_count": 1,
     "metadata": {},
     "output_type": "execute_result"
    }
   ],
   "source": [
    "#Q1)-\n",
    "import re\n",
    "sentence=\"MY NO MOBILE IS 7978-128-829\"\n",
    "p=re.compile(\"\\d\\d\\d\\d-\\d\\d\\d-\\d\\d\\d\")\n",
    "no=p.search(sentence) #regex object created\n",
    "no.group()\n",
    "no\n",
    "p1=re.compile(r\"(\\d\\d\\d\\d)-(\\d\\d\\d-\\d\\d\\d)\") #grouping on basis of circular braces\n",
    "i=p1.search(sentence)\n",
    "i.group()\n",
    "i.group(1)\n",
    "i.group(2)\n",
    "p2=re.compile(r\"MOBILE| NO\")  #distinguishing on basis of | whichever character u find first return that\n",
    "i1=p2.search(sentence)\n",
    "i1.group()"
   ]
  },
  {
   "cell_type": "code",
   "execution_count": 2,
   "id": "2c813348",
   "metadata": {},
   "outputs": [
    {
     "ename": "AttributeError",
     "evalue": "'NoneType' object has no attribute 'group'",
     "output_type": "error",
     "traceback": [
      "\u001b[1;31m---------------------------------------------------------------------------\u001b[0m",
      "\u001b[1;31mAttributeError\u001b[0m                            Traceback (most recent call last)",
      "\u001b[1;32m~\\AppData\\Local\\Temp\\ipykernel_15324\\1204139936.py\u001b[0m in \u001b[0;36m<module>\u001b[1;34m\u001b[0m\n\u001b[0;32m      3\u001b[0m \u001b[0mo\u001b[0m\u001b[1;33m.\u001b[0m\u001b[0mgroup\u001b[0m\u001b[1;33m(\u001b[0m\u001b[1;33m)\u001b[0m\u001b[1;33m\u001b[0m\u001b[1;33m\u001b[0m\u001b[0m\n\u001b[0;32m      4\u001b[0m \u001b[0mo1\u001b[0m\u001b[1;33m=\u001b[0m\u001b[0mphoneno\u001b[0m\u001b[1;33m.\u001b[0m\u001b[0msearch\u001b[0m\u001b[1;33m(\u001b[0m\u001b[1;34m\"MY NUSMBDBSHS S 7978-128-219\"\u001b[0m\u001b[1;33m)\u001b[0m\u001b[1;33m\u001b[0m\u001b[1;33m\u001b[0m\u001b[0m\n\u001b[1;32m----> 5\u001b[1;33m \u001b[0mo1\u001b[0m\u001b[1;33m.\u001b[0m\u001b[0mgroup\u001b[0m\u001b[1;33m(\u001b[0m\u001b[1;33m)\u001b[0m\u001b[1;33m\u001b[0m\u001b[1;33m\u001b[0m\u001b[0m\n\u001b[0m",
      "\u001b[1;31mAttributeError\u001b[0m: 'NoneType' object has no attribute 'group'"
     ]
    }
   ],
   "source": [
    "phoneno=re.compile(r\"(\\d\\d\\d\\d-)? \\d\\d\\d-\\d\\d\\d\")\n",
    "o=phoneno.search(\"MY PHOENENDO IS 898-1293\")\n",
    "o.group()\n",
    "o1=phoneno.search(\"MY NUSMBDBSHS S 7978-128-219\")\n",
    "o1.group()"
   ]
  },
  {
   "cell_type": "code",
   "execution_count": 3,
   "id": "7d8658ff",
   "metadata": {},
   "outputs": [
    {
     "data": {
      "text/plain": [
       "'X drummers, X pipers, five rings, X hen'"
      ]
     },
     "execution_count": 3,
     "metadata": {},
     "output_type": "execute_result"
    }
   ],
   "source": [
    "#Q18-\n",
    "numReg = re.compile(r'\\d+')\n",
    "numReg.sub('X', '11 drummers, 10 pipers, five rings, 4 hen')"
   ]
  },
  {
   "cell_type": "code",
   "execution_count": null,
   "id": "b83f7d8f",
   "metadata": {},
   "outputs": [],
   "source": []
  }
 ],
 "metadata": {
  "kernelspec": {
   "display_name": "Python 3 (ipykernel)",
   "language": "python",
   "name": "python3"
  },
  "language_info": {
   "codemirror_mode": {
    "name": "ipython",
    "version": 3
   },
   "file_extension": ".py",
   "mimetype": "text/x-python",
   "name": "python",
   "nbconvert_exporter": "python",
   "pygments_lexer": "ipython3",
   "version": "3.9.13"
  }
 },
 "nbformat": 4,
 "nbformat_minor": 5
}
