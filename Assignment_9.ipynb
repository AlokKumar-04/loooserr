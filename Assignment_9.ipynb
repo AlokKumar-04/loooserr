{
 "cells": [
  {
   "cell_type": "markdown",
   "id": "ab7d85da",
   "metadata": {},
   "source": [
    "1. To what does a relative path refer?\n",
    "Ans1)-Relative paths are relative to the current working directory. Ex- if we point to a subdirectory inside the present working directory we will use command os.chdir(os.getcwd()+\"\\:directoryname\").The latter string\"\\:directoryname\" is referred to as relative path wrt present working directory."
   ]
  },
  {
   "cell_type": "markdown",
   "id": "bc1d7d86",
   "metadata": {},
   "source": [
    "2. What does an absolute path start with your operating system?\n",
    "Ans2)-Absolute path starts with the root folder.In the above example the combination of both strings os.getcwd()+\"\\:directoryname\" gives the abosulute path to subdirectory from root folder."
   ]
  },
  {
   "cell_type": "markdown",
   "id": "6b2901fe",
   "metadata": {},
   "source": [
    "3. What do the functions os.getcwd() and os.chdir() do?\n",
    "Ans3)- os.getcwd() or pwd() gives us the current working directory or the directory where is OS is currently pointing to. os.chdir()- changes the current working directory and lets os point to the directory through the path inserted in the function."
   ]
  },
  {
   "cell_type": "markdown",
   "id": "93ca258a",
   "metadata": {},
   "source": [
    "4. What are the . and .. folders?\n",
    "Ans4)-The . folder is the current folder, and .. is the parent folder."
   ]
  },
  {
   "cell_type": "markdown",
   "id": "47f013e6",
   "metadata": {},
   "source": [
    "5. In C:\\bacon\\eggs\\spam.txt, which part is the dir name, and which part is the base name?\n",
    "Ans5)-C:\\bacon\\eggs is the dir name, while spam.txt is the base name."
   ]
  },
  {
   "cell_type": "markdown",
   "id": "e2511e21",
   "metadata": {},
   "source": [
    "6. What are the three “mode” arguments that can be passed to the open() function?\n",
    "And6)-'r\"- open for reading (default) 'w' - open for writing, truncating the file first 'x' - create a new file and open it for writing 'a' - open for writing, appending to the end of the file if it exists 'b' - binary mode 't' - text mode (default) '+' - open a disk file for updating (reading and writing) 'U' - universal newline mode (deprecated)"
   ]
  },
  {
   "cell_type": "markdown",
   "id": "09fa9df0",
   "metadata": {},
   "source": [
    "7. What happens if an existing file is opened in write mode?\n",
    "Ans7)-'w'- open for writing, truncating/deleting previous content of the file(in any), first."
   ]
  },
  {
   "cell_type": "markdown",
   "id": "9d8fafa1",
   "metadata": {},
   "source": [
    "8. How do you tell the difference between read() and readlines()?\n",
    "Ans8)- read()- reads entire text in a file in one go. readline()-reads entire text in a file until it encounters escape character(\"\\n\"). The read() method returns the file’s entire contents as a single string value. The readlines() method returns a list of strings, where each string is a line from the file’s contents."
   ]
  },
  {
   "cell_type": "markdown",
   "id": "abbe338d",
   "metadata": {},
   "source": [
    "9. What data structure does a shelf value resemble?\n",
    "Ans9)-A shelf value resembles a dictionary value; it has keys and values, along with keys() and values() methods that work similarly to the dictionary methods of the same names."
   ]
  },
  {
   "cell_type": "code",
   "execution_count": 3,
   "id": "333d5856",
   "metadata": {},
   "outputs": [],
   "source": [
    "f=open(\"Alok.txt\",\"w\")"
   ]
  },
  {
   "cell_type": "code",
   "execution_count": null,
   "id": "afb3867a",
   "metadata": {},
   "outputs": [],
   "source": []
  }
 ],
 "metadata": {
  "kernelspec": {
   "display_name": "Python 3 (ipykernel)",
   "language": "python",
   "name": "python3"
  },
  "language_info": {
   "codemirror_mode": {
    "name": "ipython",
    "version": 3
   },
   "file_extension": ".py",
   "mimetype": "text/x-python",
   "name": "python",
   "nbconvert_exporter": "python",
   "pygments_lexer": "ipython3",
   "version": "3.9.13"
  }
 },
 "nbformat": 4,
 "nbformat_minor": 5
}
