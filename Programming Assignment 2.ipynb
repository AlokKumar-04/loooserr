{
 "cells": [
  {
   "cell_type": "code",
   "execution_count": 1,
   "id": "6fd48e1e",
   "metadata": {},
   "outputs": [
    {
     "name": "stdout",
     "output_type": "stream",
     "text": [
      "Enter the value in kilometers: 5\n",
      "5.0 kilometers is equal to 3.106855 miles\n"
     ]
    }
   ],
   "source": [
    "#1. Write a Python program to convert kilometers to miles?\n",
    "\n",
    "\n",
    "kilometers = float(input(\"Enter the value in kilometers: \"))\n",
    "conv_factor = 0.621371\n",
    "\n",
    "miles = kilometers * conv_factor\n",
    "print(\"{0} kilometers is equal to {1} miles\".format(kilometers, miles))\n"
   ]
  },
  {
   "cell_type": "code",
   "execution_count": 2,
   "id": "fed2b9d9",
   "metadata": {},
   "outputs": [
    {
     "name": "stdout",
     "output_type": "stream",
     "text": [
      "Enter temperature in Celsius: 37\n",
      "37.0 degree Celsius is equal to 98.60000000000001 degree Fahrenheit\n"
     ]
    }
   ],
   "source": [
    "#2. Write a Python program to convert Celsius to Fahrenheit?\n",
    "\n",
    "\n",
    "celsius = float(input(\"Enter temperature in Celsius: \"))\n",
    "fahrenheit = (celsius * 1.8) + 32\n",
    "print(\"{0} degree Celsius is equal to {1} degree Fahrenheit\".format(celsius, fahrenheit))\n"
   ]
  },
  {
   "cell_type": "code",
   "execution_count": 3,
   "id": "dffdb63e",
   "metadata": {},
   "outputs": [
    {
     "name": "stdout",
     "output_type": "stream",
     "text": [
      "Enter the year: 2009\n",
      "Enter the month: 02\n",
      "   February 2009\n",
      "Mo Tu We Th Fr Sa Su\n",
      "                   1\n",
      " 2  3  4  5  6  7  8\n",
      " 9 10 11 12 13 14 15\n",
      "16 17 18 19 20 21 22\n",
      "23 24 25 26 27 28\n",
      "\n"
     ]
    }
   ],
   "source": [
    "#3. Write a Python program to display calendar?\n",
    "\n",
    "\n",
    "import calendar\n",
    "\n",
    "year = int(input(\"Enter the year: \"))\n",
    "month = int(input(\"Enter the month: \"))\n",
    "print(calendar.month(year, month))\n"
   ]
  },
  {
   "cell_type": "code",
   "execution_count": 4,
   "id": "91eab370",
   "metadata": {},
   "outputs": [
    {
     "name": "stdout",
     "output_type": "stream",
     "text": [
      "Enter the coefficient of x^2: 4\n",
      "Enter the coefficient of x: 2\n",
      "Enter the constant term: 0.2\n",
      "The solutions are (-0.36180339887498947+0j) and (-0.13819660112501053+0j)\n"
     ]
    }
   ],
   "source": [
    "#4. Write a Python program to solve quadratic equation?\n",
    "\n",
    "import cmath\n",
    "\n",
    "\n",
    "a = float(input(\"Enter the coefficient of x^2: \"))\n",
    "b = float(input(\"Enter the coefficient of x: \"))\n",
    "c = float(input(\"Enter the constant term: \"))\n",
    "\n",
    "d = (b**2) - (4*a*c)\n",
    "\n",
    "# find the solutions\n",
    "sol1 = (-b - cmath.sqrt(d)) / (2*a)\n",
    "sol2 = (-b + cmath.sqrt(d)) / (2*a)\n",
    "\n",
    "print(\"The solutions are {0} and {1}\".format(sol1, sol2))\n"
   ]
  },
  {
   "cell_type": "code",
   "execution_count": 5,
   "id": "4499b60f",
   "metadata": {},
   "outputs": [
    {
     "name": "stdout",
     "output_type": "stream",
     "text": [
      "Enter the value of x: 5\n",
      "Enter the value of y: 10\n",
      "After swapping: x = 10, y = 5\n"
     ]
    }
   ],
   "source": [
    "#5. Write a Python program to swap two variables without temp variable?\n",
    "\n",
    "\n",
    "x = int(input(\"Enter the value of x: \"))\n",
    "y = int(input(\"Enter the value of y: \"))\n",
    "\n",
    "x, y = y, x\n",
    "print(\"After swapping: x = {0}, y = {1}\".format(x, y))\n"
   ]
  },
  {
   "cell_type": "code",
   "execution_count": null,
   "id": "4602d5af",
   "metadata": {},
   "outputs": [],
   "source": []
  }
 ],
 "metadata": {
  "kernelspec": {
   "display_name": "Python 3 (ipykernel)",
   "language": "python",
   "name": "python3"
  },
  "language_info": {
   "codemirror_mode": {
    "name": "ipython",
    "version": 3
   },
   "file_extension": ".py",
   "mimetype": "text/x-python",
   "name": "python",
   "nbconvert_exporter": "python",
   "pygments_lexer": "ipython3",
   "version": "3.9.13"
  }
 },
 "nbformat": 4,
 "nbformat_minor": 5
}
