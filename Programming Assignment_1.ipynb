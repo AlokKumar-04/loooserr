{
 "cells": [
  {
   "cell_type": "code",
   "execution_count": 1,
   "id": "99d85649",
   "metadata": {},
   "outputs": [
    {
     "name": "stdout",
     "output_type": "stream",
     "text": [
      "Hello Python\n"
     ]
    }
   ],
   "source": [
    "# 1. Write a Python program to print \"Hello Python\"?\n",
    "print(\"Hello Python\")"
   ]
  },
  {
   "cell_type": "code",
   "execution_count": 10,
   "id": "784a4fbf",
   "metadata": {},
   "outputs": [
    {
     "name": "stdout",
     "output_type": "stream",
     "text": [
      "7\n",
      "5\n",
      "12.0\n",
      "1.4\n"
     ]
    }
   ],
   "source": [
    "# 2. Write a Python program to do arithmetical operations addition and division.?\n",
    "x=float(input())\n",
    "y=float(input())\n",
    "print(x+y)\n",
    "print(x/y)"
   ]
  },
  {
   "cell_type": "code",
   "execution_count": 4,
   "id": "1bea72ad",
   "metadata": {},
   "outputs": [
    {
     "name": "stdout",
     "output_type": "stream",
     "text": [
      "5\n",
      "5\n",
      "5\n",
      "10.825317547305483\n"
     ]
    }
   ],
   "source": [
    "# 3. Write a Python program to find the area of a triangle?\n",
    "import math\n",
    "a= float(input())\n",
    "b= float(input())\n",
    "c= float(input())\n",
    "s = (a + b + c) / 2\n",
    "area = math.sqrt(s * (s - a) * (s - b) * (s - c))\n",
    "print(area)"
   ]
  },
  {
   "cell_type": "code",
   "execution_count": 5,
   "id": "c77c0251",
   "metadata": {},
   "outputs": [
    {
     "name": "stdout",
     "output_type": "stream",
     "text": [
      "5\n",
      "4\n",
      "a = 4\n",
      "b = 5\n"
     ]
    }
   ],
   "source": [
    "# 4. Write a Python program to swap two variables?\n",
    "a = int(input())\n",
    "b = int(input())\n",
    "\n",
    "a, b = b, a\n",
    "\n",
    "print(\"a =\", a)\n",
    "print(\"b =\", b)"
   ]
  },
  {
   "cell_type": "code",
   "execution_count": 8,
   "id": "bafceda3",
   "metadata": {},
   "outputs": [
    {
     "name": "stdout",
     "output_type": "stream",
     "text": [
      "635\n"
     ]
    }
   ],
   "source": [
    "# 5. Write a Python program to generate a random number?\n",
    "import random\n",
    "# Generate a random number between 0 and 1000\n",
    "random_number = random.randint(0, 1000)\n",
    "print(random_number)"
   ]
  },
  {
   "cell_type": "code",
   "execution_count": null,
   "id": "01265efc",
   "metadata": {},
   "outputs": [],
   "source": []
  },
  {
   "cell_type": "code",
   "execution_count": null,
   "id": "08ce35e2",
   "metadata": {},
   "outputs": [],
   "source": []
  }
 ],
 "metadata": {
  "kernelspec": {
   "display_name": "Python 3 (ipykernel)",
   "language": "python",
   "name": "python3"
  },
  "language_info": {
   "codemirror_mode": {
    "name": "ipython",
    "version": 3
   },
   "file_extension": ".py",
   "mimetype": "text/x-python",
   "name": "python",
   "nbconvert_exporter": "python",
   "pygments_lexer": "ipython3",
   "version": "3.9.13"
  }
 },
 "nbformat": 4,
 "nbformat_minor": 5
}
