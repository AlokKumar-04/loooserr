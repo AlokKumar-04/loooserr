{
 "cells": [
  {
   "cell_type": "code",
   "execution_count": 2,
   "id": "1aca7c23",
   "metadata": {},
   "outputs": [
    {
     "name": "stdout",
     "output_type": "stream",
     "text": [
      "Sum of elements in the list: 15\n"
     ]
    }
   ],
   "source": [
    "#1. Write a Python program to find sum of elements in list?\n",
    "\n",
    "def find_sum(lst):\n",
    "    return sum(lst)\n",
    "\n",
    "lst = [1, 2, 3, 4, 5]\n",
    "print(\"Sum of elements in the list:\", find_sum(lst))\n"
   ]
  },
  {
   "cell_type": "code",
   "execution_count": 3,
   "id": "b8224ea4",
   "metadata": {},
   "outputs": [
    {
     "name": "stdout",
     "output_type": "stream",
     "text": [
      "Multiplication of all numbers in the list: 120\n"
     ]
    }
   ],
   "source": [
    "#2. Write a Python program to Multiply all numbers in the list?\n",
    "\n",
    "def multiply_numbers(lst):\n",
    "    result = 1\n",
    "    for num in lst:\n",
    "        result *= num\n",
    "    return result\n",
    "\n",
    "lst = [1, 2, 3, 4, 5]\n",
    "print(\"Multiplication of all numbers in the list:\", multiply_numbers(lst))\n"
   ]
  },
  {
   "cell_type": "code",
   "execution_count": 4,
   "id": "96775bda",
   "metadata": {},
   "outputs": [
    {
     "name": "stdout",
     "output_type": "stream",
     "text": [
      "Smallest number in the list: 1\n"
     ]
    }
   ],
   "source": [
    "#3. Write a Python program to find smallest number in a list?\n",
    "\n",
    "def find_smallest(lst):\n",
    "    return min(lst)\n",
    "\n",
    "lst = [1, 2, 3, 4, 5]\n",
    "print(\"Smallest number in the list:\", find_smallest(lst))\n"
   ]
  },
  {
   "cell_type": "code",
   "execution_count": 5,
   "id": "1dc6196b",
   "metadata": {},
   "outputs": [
    {
     "name": "stdout",
     "output_type": "stream",
     "text": [
      "Largest number in the list: 5\n"
     ]
    }
   ],
   "source": [
    "#4. Write a Python program to find largest number in a list?\n",
    "\n",
    "def find_largest(lst):\n",
    "    return max(lst)\n",
    "\n",
    "lst = [1, 2, 3, 4, 5]\n",
    "print(\"Largest number in the list:\", find_largest(lst))\n"
   ]
  },
  {
   "cell_type": "code",
   "execution_count": 6,
   "id": "57a80eab",
   "metadata": {},
   "outputs": [
    {
     "name": "stdout",
     "output_type": "stream",
     "text": [
      "Second largest number in the list: 4\n"
     ]
    }
   ],
   "source": [
    "#5. Write a Python program to find second largest number in a list?\n",
    "\n",
    "def find_second_largest(lst):\n",
    "    lst.sort(reverse=True)\n",
    "    return lst[1]\n",
    "\n",
    "lst = [1, 3, 2, 5, 4]\n",
    "print(\"Second largest number in the list:\", find_second_largest(lst))\n"
   ]
  },
  {
   "cell_type": "code",
   "execution_count": 7,
   "id": "7df5fb2f",
   "metadata": {},
   "outputs": [
    {
     "name": "stdout",
     "output_type": "stream",
     "text": [
      "3 largest numbers in the list: [5, 4, 3]\n"
     ]
    }
   ],
   "source": [
    "#6. Write a Python program to find N largest elements from a list?\n",
    "\n",
    "def find_n_largest(lst, n):\n",
    "    lst.sort(reverse=True)\n",
    "    return lst[:n]\n",
    "\n",
    "lst = [1, 3, 2, 5, 4]\n",
    "n = 3\n",
    "print(f\"{n} largest numbers in the list:\", find_n_largest(lst, n))\n"
   ]
  },
  {
   "cell_type": "code",
   "execution_count": 8,
   "id": "12867999",
   "metadata": {},
   "outputs": [
    {
     "name": "stdout",
     "output_type": "stream",
     "text": [
      "Even numbers in the list:\n",
      "2 4 "
     ]
    }
   ],
   "source": [
    "#7. Write a Python program to print even numbers in a list?\n",
    "\n",
    "def print_even(lst):\n",
    "    for num in lst:\n",
    "        if num % 2 == 0:\n",
    "            print(num, end=\" \")\n",
    "\n",
    "lst = [1, 2, 3, 4, 5]\n",
    "print(\"Even numbers in the list:\")\n",
    "print_even(lst)\n"
   ]
  },
  {
   "cell_type": "code",
   "execution_count": 9,
   "id": "54f51944",
   "metadata": {},
   "outputs": [
    {
     "name": "stdout",
     "output_type": "stream",
     "text": [
      "Odd numbers in the list:\n",
      "1 3 5 "
     ]
    }
   ],
   "source": [
    "#8. Write a Python program to print odd numbers in a List?\n",
    "\n",
    "def print_odd(lst):\n",
    "    for num in lst:\n",
    "        if num % 2 != 0:\n",
    "            print(num, end=\" \")\n",
    "\n",
    "lst = [1, 2, 3, 4, 5]\n",
    "print(\"Odd numbers in the list:\")\n",
    "print_odd(lst)\n"
   ]
  },
  {
   "cell_type": "code",
   "execution_count": 11,
   "id": "5aecd32d",
   "metadata": {},
   "outputs": [],
   "source": [
    "#9. Write a Python program to Remove empty List from List?\n",
    "\n",
    "def remove_empty_lists(lst):\n",
    "    return [x for x in lst if x != []]\n",
    "\n",
    "lst = [1, [], 2, [], [], 3, [], 4, []]\n"
   ]
  },
  {
   "cell_type": "code",
   "execution_count": 12,
   "id": "fa2102cb",
   "metadata": {},
   "outputs": [
    {
     "name": "stdout",
     "output_type": "stream",
     "text": [
      "Original List: [1, 2, 3, 4, 5]\n",
      "Cloned List: [1, 2, 3, 4, 5]\n"
     ]
    }
   ],
   "source": [
    "#10. Write a Python program to Cloning or Copying a list?\n",
    "\n",
    "def clone_list(lst):\n",
    "    return lst[:]\n",
    "\n",
    "lst = [1, 2, 3, 4, 5]\n",
    "cloned_list = clone_list(lst)\n",
    "print(\"Original List:\", lst)\n",
    "print(\"Cloned List:\", cloned_list)\n"
   ]
  },
  {
   "cell_type": "code",
   "execution_count": 13,
   "id": "4e799a8e",
   "metadata": {},
   "outputs": [
    {
     "name": "stdout",
     "output_type": "stream",
     "text": [
      "List: [1, 2, 3, 2, 4, 2, 5, 2]\n",
      "Element to count: 2\n",
      "Occurrences: 4\n"
     ]
    }
   ],
   "source": [
    "#11. Write a Python program to Count occurrences of an element in a list?\n",
    "\n",
    "def count_occurrences(lst, element):\n",
    "    return lst.count(element)\n",
    "\n",
    "lst = [1, 2, 3, 2, 4, 2, 5, 2]\n",
    "element = 2\n",
    "occurrences = count_occurrences(lst, element)\n",
    "print(\"List:\", lst)\n",
    "print(\"Element to count:\", element)\n",
    "print(\"Occurrences:\", occurrences)\n"
   ]
  },
  {
   "cell_type": "code",
   "execution_count": null,
   "id": "7185b2c2",
   "metadata": {},
   "outputs": [],
   "source": []
  }
 ],
 "metadata": {
  "kernelspec": {
   "display_name": "Python 3 (ipykernel)",
   "language": "python",
   "name": "python3"
  },
  "language_info": {
   "codemirror_mode": {
    "name": "ipython",
    "version": 3
   },
   "file_extension": ".py",
   "mimetype": "text/x-python",
   "name": "python",
   "nbconvert_exporter": "python",
   "pygments_lexer": "ipython3",
   "version": "3.9.13"
  }
 },
 "nbformat": 4,
 "nbformat_minor": 5
}
