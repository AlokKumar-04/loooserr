{
 "cells": [
  {
   "cell_type": "code",
   "execution_count": 2,
   "id": "b66572ec",
   "metadata": {},
   "outputs": [
    {
     "name": "stdout",
     "output_type": "stream",
     "text": [
      "Words greater than length 3 in text: ['quick', 'brown', 'jumps', 'over', 'lazy']\n"
     ]
    }
   ],
   "source": [
    "#1. Write a Python program to find words which are greater than given length k?\n",
    "\n",
    "def find_words_greater_than_k(text, k):\n",
    "    words = text.split()\n",
    "    result = []\n",
    "    for word in words:\n",
    "        if len(word) > k:\n",
    "            result.append(word)\n",
    "    return result\n",
    "\n",
    "text = \"A quick brown fox jumps over the lazy dog\"\n",
    "k = 3\n",
    "words = find_words_greater_than_k(text, k)\n",
    "print(\"Words greater than length\", k, \"in text:\", words)"
   ]
  },
  {
   "cell_type": "code",
   "execution_count": 3,
   "id": "493c1d13",
   "metadata": {},
   "outputs": [
    {
     "name": "stdout",
     "output_type": "stream",
     "text": [
      "Original text: Hello World\n",
      "New text after removing 3 th character: Helo World\n"
     ]
    }
   ],
   "source": [
    "#2. Write a Python program for removing i-th character from a string?\n",
    "\n",
    "def remove_ith_character(text, i):\n",
    "    return text[:i] + text[i+1:]\n",
    "\n",
    "text = \"Hello World\"\n",
    "i = 3\n",
    "new_text = remove_ith_character(text, i)\n",
    "print(\"Original text:\", text)\n",
    "print(\"New text after removing\", i, \"th character:\", new_text)\n"
   ]
  },
  {
   "cell_type": "code",
   "execution_count": 4,
   "id": "7d2fdaf8",
   "metadata": {},
   "outputs": [
    {
     "name": "stdout",
     "output_type": "stream",
     "text": [
      "Original text: A quick brown fox jumps over the lazy dog\n",
      "New text after splitting and joining: A-quick-brown-fox-jumps-over-the-lazy-dog\n"
     ]
    }
   ],
   "source": [
    "#3. Write a Python program to split and join a string?\n",
    "\n",
    "def split_and_join(text, separator):\n",
    "    words = text.split(separator)\n",
    "    return \"-\".join(words)\n",
    "\n",
    "text = \"A quick brown fox jumps over the lazy dog\"\n",
    "separator = \" \"\n",
    "new_text = split_and_join(text, separator)\n",
    "print(\"Original text:\", text)\n",
    "print(\"New text after splitting and joining:\", new_text)\n"
   ]
  },
  {
   "cell_type": "code",
   "execution_count": 6,
   "id": "142e1047",
   "metadata": {},
   "outputs": [
    {
     "name": "stdout",
     "output_type": "stream",
     "text": [
      "Enter a string: 110101\n",
      "110101 is a binary string.\n"
     ]
    }
   ],
   "source": [
    "#4. Write a Python to check if a given string is binary string or not?\n",
    "\n",
    "def is_binary_string(string):\n",
    "    for char in string:\n",
    "        if char not in \"01\":\n",
    "            return False\n",
    "    return True\n",
    "\n",
    "string = input(\"Enter a string: \")\n",
    "\n",
    "if is_binary_string(string):\n",
    "    print(f\"{string} is a binary string.\")\n",
    "else:\n",
    "    print(f\"{string} is not a binary string.\")\n"
   ]
  },
  {
   "cell_type": "code",
   "execution_count": null,
   "id": "eccf4191",
   "metadata": {},
   "outputs": [],
   "source": [
    "#5. Write a Python program to find uncommon words from two Strings?\n",
    "\n",
    "def uncommon_words(str1, str2):\n",
    "    set1 = set(str1.split())\n",
    "    set2 = set(str2.split())\n",
    "    uncommon = list(set1.symmetric_difference(set2))\n",
    "    return uncommon\n",
    "\n",
    "str1 = input(\"Enter first string: \")\n",
    "str2 = input(\"Enter second string: \")\n",
    "\n",
    "result = uncommon_words(str1, str2)\n",
    "\n",
    "print(\"Uncommon words: \", result)\n"
   ]
  },
  {
   "cell_type": "code",
   "execution_count": 9,
   "id": "2696b8ed",
   "metadata": {},
   "outputs": [
    {
     "name": "stdout",
     "output_type": "stream",
     "text": [
      "Enter a string: random\n",
      "No duplicate characters found.\n"
     ]
    }
   ],
   "source": [
    "#6. Write a Python to find all duplicate characters in string?\n",
    "\n",
    "def find_duplicates(string):\n",
    "    duplicates = []\n",
    "    for char in string:\n",
    "        if string.count(char) > 1 and char not in duplicates:\n",
    "            duplicates.append(char)\n",
    "    return duplicates\n",
    "\n",
    "string = input(\"Enter a string: \")\n",
    "\n",
    "result = find_duplicates(string)\n",
    "\n",
    "if len(result) > 0:\n",
    "    print(\"Duplicate characters: \", result)\n",
    "else:\n",
    "    print(\"No duplicate characters found.\")\n"
   ]
  },
  {
   "cell_type": "code",
   "execution_count": 10,
   "id": "932c5c06",
   "metadata": {},
   "outputs": [
    {
     "name": "stdout",
     "output_type": "stream",
     "text": [
      "Enter a string: @lok\n",
      "The string contains special characters.\n"
     ]
    }
   ],
   "source": [
    "#7. Write a Python Program to check if a string contains any special character?\n",
    "\n",
    "import re\n",
    "\n",
    "def contains_special_char(string):\n",
    "    regex = re.compile('[@_!#$%^&*()<>?/\\|}{~:]')\n",
    "    if(regex.search(string) == None):\n",
    "        return False\n",
    "    else:\n",
    "        return True\n",
    "\n",
    "string = input(\"Enter a string: \")\n",
    "\n",
    "if contains_special_char(string):\n",
    "    print(\"The string contains special characters.\")\n",
    "else:\n",
    "    print(\"The string does not contain special characters.\")\n"
   ]
  },
  {
   "cell_type": "code",
   "execution_count": null,
   "id": "c397e066",
   "metadata": {},
   "outputs": [],
   "source": []
  }
 ],
 "metadata": {
  "kernelspec": {
   "display_name": "Python 3 (ipykernel)",
   "language": "python",
   "name": "python3"
  },
  "language_info": {
   "codemirror_mode": {
    "name": "ipython",
    "version": 3
   },
   "file_extension": ".py",
   "mimetype": "text/x-python",
   "name": "python",
   "nbconvert_exporter": "python",
   "pygments_lexer": "ipython3",
   "version": "3.9.13"
  }
 },
 "nbformat": 4,
 "nbformat_minor": 5
}
