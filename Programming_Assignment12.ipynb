{
 "cells": [
  {
   "cell_type": "code",
   "execution_count": 2,
   "id": "43e30975",
   "metadata": {},
   "outputs": [
    {
     "name": "stdout",
     "output_type": "stream",
     "text": [
      "Unique values: {1, 2, 3, 4, 5, 6}\n"
     ]
    }
   ],
   "source": [
    "#1. Write a Python program to Extract Unique values dictionary values?\n",
    "\n",
    "my_dict = {'a': [1, 2, 3], 'b': [2, 4, 6], 'c': [1, 3, 5]}\n",
    "\n",
    "unique_vals = set(val for sublist in my_dict.values() for val in sublist)\n",
    "\n",
    "print(\"Unique values:\", unique_vals)"
   ]
  },
  {
   "cell_type": "code",
   "execution_count": 3,
   "id": "b71b2e3f",
   "metadata": {},
   "outputs": [
    {
     "name": "stdout",
     "output_type": "stream",
     "text": [
      "Sum of values: 600\n"
     ]
    }
   ],
   "source": [
    "#2. Write a Python program to find the sum of all items in a dictionary?\n",
    "\n",
    "my_dict = {'a': 100, 'b': 200, 'c': 300}\n",
    "\n",
    "sum_of_values = sum(my_dict.values())\n",
    "\n",
    "print(\"Sum of values:\", sum_of_values)\n"
   ]
  },
  {
   "cell_type": "code",
   "execution_count": 4,
   "id": "1bc2e308",
   "metadata": {},
   "outputs": [
    {
     "name": "stdout",
     "output_type": "stream",
     "text": [
      "Merged dictionary: {'a': 100, 'b': 200, 'c': 300, 'd': 400}\n"
     ]
    }
   ],
   "source": [
    "#3. Write a Python program to Merging two Dictionaries?\n",
    "\n",
    "dict1 = {'a': 100, 'b': 200}\n",
    "dict2 = {'c': 300, 'd': 400}\n",
    "\n",
    "merged_dict = {**dict1, **dict2}\n",
    "\n",
    "print(\"Merged dictionary:\", merged_dict)\n"
   ]
  },
  {
   "cell_type": "code",
   "execution_count": 5,
   "id": "ff639e08",
   "metadata": {},
   "outputs": [
    {
     "name": "stdout",
     "output_type": "stream",
     "text": [
      "Flat dictionary: {'name': 'John', 'age': 25, 'gender': 'Male'}\n"
     ]
    }
   ],
   "source": [
    "#4. Write a Python program to convert key-values list to flat dictionary?\n",
    "\n",
    "keys = ['name', 'age', 'gender']\n",
    "values = ['John', 25, 'Male']\n",
    "\n",
    "flat_dict = {keys[i]: values[i] for i in range(len(keys))}\n",
    "\n",
    "print(\"Flat dictionary:\", flat_dict)\n"
   ]
  },
  {
   "cell_type": "code",
   "execution_count": 6,
   "id": "e889c496",
   "metadata": {},
   "outputs": [
    {
     "name": "stdout",
     "output_type": "stream",
     "text": [
      "OrderedDict after insertion at the beginning: OrderedDict([('d', 4), ('a', 1), ('b', 2), ('c', 3)])\n"
     ]
    }
   ],
   "source": [
    "#5. Write a Python program to insertion at the beginning in OrderedDict?\n",
    "\n",
    "from collections import OrderedDict\n",
    "\n",
    "my_dict = OrderedDict([('a', 1), ('b', 2), ('c', 3)])\n",
    "\n",
    "my_dict.update({'d': 4})\n",
    "my_dict.move_to_end('d', last=False)\n",
    "\n",
    "print(\"OrderedDict after insertion at the beginning:\", my_dict)\n"
   ]
  },
  {
   "cell_type": "code",
   "execution_count": 7,
   "id": "2353c5be",
   "metadata": {},
   "outputs": [
    {
     "name": "stdout",
     "output_type": "stream",
     "text": [
      "Order found\n"
     ]
    }
   ],
   "source": [
    "#6. Write a Python program to check order of character in string using OrderedDict()?\n",
    "\n",
    "from collections import OrderedDict\n",
    "\n",
    "def check_order(input_str, pattern):\n",
    "    dict = OrderedDict.fromkeys(input_str)\n",
    "\n",
    "    ptrlen = 0\n",
    "    for key,value in dict.items():\n",
    "        if (key == pattern[ptrlen]):\n",
    "            ptrlen = ptrlen + 1\n",
    "\n",
    "        if (ptrlen == len(pattern)):\n",
    "            return True\n",
    "\n",
    "    return False\n",
    "\n",
    "input_str = 'engineering'\n",
    "pattern = 'egr'\n",
    "\n",
    "if (check_order(input_str, pattern)):\n",
    "    print(\"Order found\")\n",
    "else:\n",
    "    print(\"Order not found\")\n"
   ]
  },
  {
   "cell_type": "code",
   "execution_count": 8,
   "id": "68dbe34c",
   "metadata": {},
   "outputs": [
    {
     "name": "stdout",
     "output_type": "stream",
     "text": [
      "Sorted dictionary by keys: {'a': 1, 'b': 2, 'c': 3, 'd': 4}\n"
     ]
    }
   ],
   "source": [
    "#7. Write a Python program to sort Python Dictionaries by Key or Value?\n",
    "\n",
    "my_dict = {'d': 4, 'a': 1, 'c': 3, 'b': 2}\n",
    "\n",
    "sorted_dict = {k: my_dict[k] for k in sorted(my_dict)}\n",
    "\n",
    "print(\"Sorted dictionary by keys:\", sorted_dict)\n"
   ]
  },
  {
   "cell_type": "code",
   "execution_count": null,
   "id": "2659693a",
   "metadata": {},
   "outputs": [],
   "source": []
  }
 ],
 "metadata": {
  "kernelspec": {
   "display_name": "Python 3 (ipykernel)",
   "language": "python",
   "name": "python3"
  },
  "language_info": {
   "codemirror_mode": {
    "name": "ipython",
    "version": 3
   },
   "file_extension": ".py",
   "mimetype": "text/x-python",
   "name": "python",
   "nbconvert_exporter": "python",
   "pygments_lexer": "ipython3",
   "version": "3.9.13"
  }
 },
 "nbformat": 4,
 "nbformat_minor": 5
}
