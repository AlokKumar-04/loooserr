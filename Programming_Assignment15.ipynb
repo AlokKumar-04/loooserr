{
 "cells": [
  {
   "cell_type": "markdown",
   "id": "3b4b365c",
   "metadata": {},
   "source": [
    "1. Please write a program using generator to print the numbers which can be divisible by 5 and\n",
    "7 between 0 and n in comma separated form while n is input by console.\n",
    "Example:\n",
    "If the following n is given as input to the program:\n",
    "100\n",
    "Then, the output of the program should be:\n",
    "0,35,70"
   ]
  },
  {
   "cell_type": "code",
   "execution_count": 1,
   "id": "c72d94b3",
   "metadata": {},
   "outputs": [
    {
     "name": "stdout",
     "output_type": "stream",
     "text": [
      "Enter a number: 100\n",
      "0,35,70\n"
     ]
    }
   ],
   "source": [
    "def divisible_by_5_and_7(n):\n",
    "    for i in range(n+1):\n",
    "        if i % 5 == 0 and i % 7 == 0:\n",
    "            yield i\n",
    "\n",
    "n = int(input(\"Enter a number: \"))\n",
    "result = []\n",
    "for num in divisible_by_5_and_7(n):\n",
    "    result.append(str(num))\n",
    "print(\",\".join(result))\n"
   ]
  },
  {
   "cell_type": "markdown",
   "id": "213dacb2",
   "metadata": {},
   "source": [
    "2. Please write a program using generator to print the even numbers between 0 and n in comma\n",
    "separated form while n is input by console.\n",
    "Example:\n",
    "If the following n is given as input to the program:\n",
    "10\n",
    "Then, the output of the program should be:\n",
    "0,2,4,6,8,10"
   ]
  },
  {
   "cell_type": "code",
   "execution_count": 3,
   "id": "15c3da2b",
   "metadata": {},
   "outputs": [
    {
     "name": "stdout",
     "output_type": "stream",
     "text": [
      "Enter a number: 10\n",
      "0,2,4,6,8,10\n"
     ]
    }
   ],
   "source": [
    "def even_numbers(n):\n",
    "    for i in range(n+1):\n",
    "        if i % 2 == 0:\n",
    "            yield str(i)\n",
    "\n",
    "n = int(input(\"Enter a number: \"))\n",
    "even_nums = even_numbers(n)\n",
    "print(\",\".join(even_nums))\n"
   ]
  },
  {
   "cell_type": "markdown",
   "id": "558e9424",
   "metadata": {},
   "source": [
    "3. The Fibonacci Sequence is computed based on the following formula:\n",
    "f(n)=0 if n=0\n",
    "f(n)=1 if n=1\n",
    "f(n)=f(n-1)+f(n-2) if n&gt;1\n",
    "Please write a program using list comprehension to print the Fibonacci Sequence in comma\n",
    "separated form with a given n input by console.\n",
    "Example:\n",
    "If the following n is given as input to the program:\n",
    "7\n",
    "\n",
    "Then, the output of the program should be:\n",
    "0,1,1,2,3,5,8,13"
   ]
  },
  {
   "cell_type": "code",
   "execution_count": 4,
   "id": "607680c0",
   "metadata": {},
   "outputs": [
    {
     "name": "stdout",
     "output_type": "stream",
     "text": [
      "Enter the value of n: 7\n",
      "0,1,1,2,3,5,8,13\n"
     ]
    }
   ],
   "source": [
    "n = int(input(\"Enter the value of n: \"))\n",
    "fib_seq = [0, 1]\n",
    "[fib_seq.append(fib_seq[-1] + fib_seq[-2]) for i in range(2, n+1)]\n",
    "print(\",\".join(str(x) for x in fib_seq[:n+1]))\n"
   ]
  },
  {
   "cell_type": "markdown",
   "id": "df656a11",
   "metadata": {},
   "source": [
    "5. Assuming that we have some email addresses in the &quot;username@companyname.com&quot; format,\n",
    "please write program to print the user name of a given email address. Both user names and\n",
    "company names are composed of letters only.\n",
    "Example:\n",
    "If the following email address is given as input to the program:\n",
    "john@google.com\n",
    "Then, the output of the program should be:\n",
    "john"
   ]
  },
  {
   "cell_type": "code",
   "execution_count": 6,
   "id": "512460ef",
   "metadata": {},
   "outputs": [
    {
     "name": "stdout",
     "output_type": "stream",
     "text": [
      "Enter an email address:  john@google.com \n",
      "Username:  john\n"
     ]
    }
   ],
   "source": [
    "email = input(\"Enter an email address: \")\n",
    "username = email.split(\"@\")[0]\n",
    "print(\"Username:\", username)\n"
   ]
  },
  {
   "cell_type": "markdown",
   "id": "20d94ea7",
   "metadata": {},
   "source": [
    "6. Define a class named Shape and its subclass Square. The Square class has an init function\n",
    "which takes a length as argument. Both classes have a area function which can print the area\n",
    "of the shape where Shape&#39;s area is 0 by default."
   ]
  },
  {
   "cell_type": "code",
   "execution_count": 7,
   "id": "1a811e27",
   "metadata": {},
   "outputs": [
    {
     "name": "stdout",
     "output_type": "stream",
     "text": [
      "25\n",
      "0\n"
     ]
    }
   ],
   "source": [
    "class Shape:\n",
    "    def __init__(self):\n",
    "        pass\n",
    "\n",
    "    def area(self):\n",
    "        return 0\n",
    "\n",
    "\n",
    "class Square(Shape):\n",
    "    def __init__(self, length):\n",
    "        self.length = length\n",
    "\n",
    "    def area(self):\n",
    "        return self.length * self.length\n",
    "\n",
    "    \n",
    "    \n",
    "    \n",
    "square = Square(5)\n",
    "print(square.area())  # Output: 25\n",
    "\n",
    "shape = Shape()\n",
    "print(shape.area())  # Output: 0\n"
   ]
  },
  {
   "cell_type": "code",
   "execution_count": null,
   "id": "9c59bd36",
   "metadata": {},
   "outputs": [],
   "source": []
  }
 ],
 "metadata": {
  "kernelspec": {
   "display_name": "Python 3 (ipykernel)",
   "language": "python",
   "name": "python3"
  },
  "language_info": {
   "codemirror_mode": {
    "name": "ipython",
    "version": 3
   },
   "file_extension": ".py",
   "mimetype": "text/x-python",
   "name": "python",
   "nbconvert_exporter": "python",
   "pygments_lexer": "ipython3",
   "version": "3.9.13"
  }
 },
 "nbformat": 4,
 "nbformat_minor": 5
}
