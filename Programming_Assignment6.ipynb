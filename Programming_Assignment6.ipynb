{
 "cells": [
  {
   "cell_type": "code",
   "execution_count": 1,
   "id": "9219ad48",
   "metadata": {},
   "outputs": [],
   "source": [
    "#1. Write a Python Program to Display Fibonacci Sequence Using Recursion?\n",
    "#2. Write a Python Program to Find Factorial of Number Using Recursion?\n",
    "\n"
   ]
  },
  {
   "cell_type": "code",
   "execution_count": 2,
   "id": "2c83346e",
   "metadata": {},
   "outputs": [
    {
     "name": "stdout",
     "output_type": "stream",
     "text": [
      "Enter your weight in kilograms: 63\n",
      "Enter your height in meters: 25\n",
      "Your Body Mass Index (BMI) is: 0.10\n"
     ]
    }
   ],
   "source": [
    "#3. Write a Python Program to calculate your Body Mass Index?\n",
    "\n",
    "weight = float(input(\"Enter your weight in kilograms: \"))\n",
    "height = float(input(\"Enter your height in meters: \"))\n",
    "\n",
    "bmi = weight / (height ** 2)\n",
    "\n",
    "print(\"Your Body Mass Index (BMI) is: {0:.2f}\".format(bmi))\n"
   ]
  },
  {
   "cell_type": "code",
   "execution_count": 3,
   "id": "45d589b1",
   "metadata": {},
   "outputs": [
    {
     "name": "stdout",
     "output_type": "stream",
     "text": [
      "Enter a number: 5\n",
      "The natural logarithm of 5.0 is: 1.6094379124341003\n"
     ]
    }
   ],
   "source": [
    "#4. Write a Python Program to calculate the natural logarithm of any number?\n",
    "import math\n",
    "\n",
    "num = float(input(\"Enter a number: \"))\n",
    "log = math.log(num)\n",
    "\n",
    "print(\"The natural logarithm of {0} is: {1}\".format(num, log))\n"
   ]
  },
  {
   "cell_type": "code",
   "execution_count": 4,
   "id": "e3868bf1",
   "metadata": {},
   "outputs": [
    {
     "name": "stdout",
     "output_type": "stream",
     "text": [
      "Enter a number: 20\n",
      "The sum of cubes of first 20 natural numbers is: 44100\n"
     ]
    }
   ],
   "source": [
    "#5. Write a Python Program for cube sum of first n natural numbers?\n",
    "\n",
    "n = int(input(\"Enter a number: \"))\n",
    "sum_of_cubes = sum(i**3 for i in range(1, n+1))\n",
    "\n",
    "print(\"The sum of cubes of first {0} natural numbers is: {1}\".format(n, sum_of_cubes))\n"
   ]
  },
  {
   "cell_type": "code",
   "execution_count": null,
   "id": "fc8a240c",
   "metadata": {},
   "outputs": [],
   "source": []
  }
 ],
 "metadata": {
  "kernelspec": {
   "display_name": "Python 3 (ipykernel)",
   "language": "python",
   "name": "python3"
  },
  "language_info": {
   "codemirror_mode": {
    "name": "ipython",
    "version": 3
   },
   "file_extension": ".py",
   "mimetype": "text/x-python",
   "name": "python",
   "nbconvert_exporter": "python",
   "pygments_lexer": "ipython3",
   "version": "3.9.13"
  }
 },
 "nbformat": 4,
 "nbformat_minor": 5
}
