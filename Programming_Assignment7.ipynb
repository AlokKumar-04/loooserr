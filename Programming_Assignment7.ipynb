{
 "cells": [
  {
   "cell_type": "code",
   "execution_count": 3,
   "id": "3d0b9c68",
   "metadata": {},
   "outputs": [
    {
     "name": "stdout",
     "output_type": "stream",
     "text": [
      "The sum of elements in the array is: 75\n"
     ]
    }
   ],
   "source": [
    "#1. Write a Python Program to find sum of array?\n",
    "# Define an array\n",
    "arr = [5, 10, 15, 20, 25]\n",
    "\n",
    "sum_of_elements = 0\n",
    "\n",
    "for element in arr:\n",
    "    sum_of_elements += element\n",
    "\n",
    "print(\"The sum of elements in the array is:\", sum_of_elements)\n",
    "\n"
   ]
  },
  {
   "cell_type": "code",
   "execution_count": 2,
   "id": "3d035116",
   "metadata": {},
   "outputs": [
    {
     "name": "stdout",
     "output_type": "stream",
     "text": [
      "The largest element in the array is: 25\n"
     ]
    }
   ],
   "source": [
    "#2. Write a Python Program to find largest element in an array?\n",
    "\n",
    "arr = [5, 10, 15, 20, 25]\n",
    "\n",
    "max_element = arr[0]\n",
    "\n",
    "for i in range(1, len(arr)):\n",
    "    if arr[i] > max_element:\n",
    "        max_element = arr[i]\n",
    "\n",
    "print(\"The largest element in the array is:\", max_element)\n"
   ]
  },
  {
   "cell_type": "code",
   "execution_count": 7,
   "id": "bd5c6e71",
   "metadata": {},
   "outputs": [
    {
     "name": "stdout",
     "output_type": "stream",
     "text": [
      "The array is monotonic\n"
     ]
    }
   ],
   "source": [
    "#5. Write a Python Program to check if given array is Monotonic?\n",
    "\n",
    "arr = [1, 2, 3, 4, 5]\n",
    "\n",
    "trend = None\n",
    "for i in range(len(arr) - 1):\n",
    "    if arr[i] < arr[i+1]:\n",
    "        if trend is None or trend == \"increasing\":\n",
    "            trend = \"increasing\"\n",
    "        else:\n",
    "            print(\"The array is not monotonic\")\n",
    "            break\n",
    "    elif arr[i] > arr[i+1]:\n",
    "        if trend is None or trend == \"decreasing\":\n",
    "            trend = \"decreasing\"\n",
    "        else:\n",
    "            print(\"The array is not monotonic\")\n",
    "            break\n",
    "\n",
    "else:\n",
    "    print(\"The array is monotonic\")\n"
   ]
  },
  {
   "cell_type": "code",
   "execution_count": 5,
   "id": "6685987c",
   "metadata": {},
   "outputs": [
    {
     "name": "stdout",
     "output_type": "stream",
     "text": [
      "The rotated array is: [3, 4, 5, 1, 2]\n"
     ]
    }
   ],
   "source": [
    "#3. Write a Python Program for array rotation?\n",
    "\n",
    "arr = [1, 2, 3, 4, 5]\n",
    "\n",
    "num_rotations = 2\n",
    "\n",
    "for i in range(num_rotations):\n",
    "    first_element = arr.pop(0)\n",
    "    arr.append(first_element)\n",
    "\n",
    "print(\"The rotated array is:\", arr)\n"
   ]
  },
  {
   "cell_type": "code",
   "execution_count": 6,
   "id": "49d0b34f",
   "metadata": {},
   "outputs": [
    {
     "name": "stdout",
     "output_type": "stream",
     "text": [
      "The new array is: [4, 5, 6, 7, 1, 2, 3]\n"
     ]
    }
   ],
   "source": [
    "#4. Write a Python Program to Split the array and add the first part to the end?\n",
    "\n",
    "arr = [1, 2, 3, 4, 5, 6, 7]\n",
    "\n",
    "position = 3\n",
    "\n",
    "part1 = arr[:position]\n",
    "part2 = arr[position:]\n",
    "\n",
    "new_arr = part2 + part1\n",
    "\n",
    "print(\"The new array is:\", new_arr)\n"
   ]
  },
  {
   "cell_type": "code",
   "execution_count": null,
   "id": "15304c2a",
   "metadata": {},
   "outputs": [],
   "source": []
  }
 ],
 "metadata": {
  "kernelspec": {
   "display_name": "Python 3 (ipykernel)",
   "language": "python",
   "name": "python3"
  },
  "language_info": {
   "codemirror_mode": {
    "name": "ipython",
    "version": 3
   },
   "file_extension": ".py",
   "mimetype": "text/x-python",
   "name": "python",
   "nbconvert_exporter": "python",
   "pygments_lexer": "ipython3",
   "version": "3.9.13"
  }
 },
 "nbformat": 4,
 "nbformat_minor": 5
}
