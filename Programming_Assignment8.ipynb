{
 "cells": [
  {
   "cell_type": "code",
   "execution_count": 2,
   "id": "bb19ef2f",
   "metadata": {},
   "outputs": [
    {
     "name": "stdout",
     "output_type": "stream",
     "text": [
      "The sum of the matrices is:\n",
      "[10, 10, 10]\n",
      "[10, 10, 10]\n",
      "[10, 10, 10]\n"
     ]
    }
   ],
   "source": [
    "#1. Write a Python Program to Add Two Matrices?\n",
    "\n",
    "matrix1 = [[1, 2, 3], [4, 5, 6], [7, 8, 9]]\n",
    "matrix2 = [[9, 8, 7], [6, 5, 4], [3, 2, 1]]\n",
    "\n",
    "result_matrix = []\n",
    "\n",
    "for i in range(len(matrix1)):\n",
    "    row = []\n",
    "    for j in range(len(matrix1[0])):\n",
    "        row.append(matrix1[i][j] + matrix2[i][j])\n",
    "    result_matrix.append(row)\n",
    "\n",
    "print(\"The sum of the matrices is:\")\n",
    "for row in result_matrix:\n",
    "    print(row)\n",
    "\n",
    "\n",
    "\n"
   ]
  },
  {
   "cell_type": "code",
   "execution_count": 3,
   "id": "8e5fe3e3",
   "metadata": {},
   "outputs": [
    {
     "name": "stdout",
     "output_type": "stream",
     "text": [
      "The product of the matrices is:\n",
      "[30, 24, 18]\n",
      "[84, 69, 54]\n",
      "[138, 114, 90]\n"
     ]
    }
   ],
   "source": [
    "#2. Write a Python Program to Multiply Two Matrices?\n",
    "\n",
    "matrix1 = [[1, 2, 3], [4, 5, 6], [7, 8, 9]]\n",
    "matrix2 = [[9, 8, 7], [6, 5, 4], [3, 2, 1]]\n",
    "\n",
    "result_matrix = []\n",
    "\n",
    "for i in range(len(matrix1)):\n",
    "    row = []\n",
    "    for j in range(len(matrix2[0])):\n",
    "        sum = 0\n",
    "        for k in range(len(matrix2)):\n",
    "            sum += matrix1[i][k] * matrix2[k][j]\n",
    "        row.append(sum)\n",
    "    result_matrix.append(row)\n",
    "\n",
    "print(\"The product of the matrices is:\")\n",
    "for row in result_matrix:\n",
    "    print(row)\n"
   ]
  },
  {
   "cell_type": "code",
   "execution_count": 4,
   "id": "1ba04ed1",
   "metadata": {},
   "outputs": [
    {
     "name": "stdout",
     "output_type": "stream",
     "text": [
      "The transpose of the matrix is:\n",
      "[1, 4, 7]\n",
      "[2, 5, 8]\n",
      "[3, 6, 9]\n"
     ]
    }
   ],
   "source": [
    "#3. Write a Python Program to Transpose a Matrix?\n",
    "\n",
    "matrix = [[1, 2, 3], [4, 5, 6], [7, 8, 9]]\n",
    "transpose_matrix = []\n",
    "\n",
    "for i in range(len(matrix[0])):\n",
    "    row = []\n",
    "    for j in range(len(matrix)):\n",
    "        row.append(matrix[j][i])\n",
    "    transpose_matrix.append(row)\n",
    "\n",
    "print(\"The transpose of the matrix is:\")\n",
    "for row in transpose_matrix:\n",
    "    print(row)\n"
   ]
  },
  {
   "cell_type": "code",
   "execution_count": 6,
   "id": "fac250f5",
   "metadata": {},
   "outputs": [
    {
     "name": "stdout",
     "output_type": "stream",
     "text": [
      "Enter a string: mzav\n",
      "The sorted string is: mzav\n"
     ]
    }
   ],
   "source": [
    "#4. Write a Python Program to Sort Words in Alphabetic Order?\n",
    "\n",
    "string = input(\"Enter a string: \")\n",
    "words = string.split()\n",
    "words.sort()\n",
    "\n",
    "sorted_string = \" \".join(words)\n",
    "print(\"The sorted string is:\", sorted_string)\n"
   ]
  },
  {
   "cell_type": "code",
   "execution_count": null,
   "id": "079c3ff9",
   "metadata": {},
   "outputs": [],
   "source": [
    "#5. Write a Python Program to Remove Punctuation From a String?\n",
    "import string\n",
    "\n",
    "string = input(\"Enter a string: \")\n",
    "string_no_punct = string.translate(str.maketrans(\"\", \"\", string.punctuation))\n",
    "print(\"The string without punctuation is:\", string_no_punct)\n"
   ]
  },
  {
   "cell_type": "code",
   "execution_count": null,
   "id": "5614c8ed",
   "metadata": {},
   "outputs": [],
   "source": []
  }
 ],
 "metadata": {
  "kernelspec": {
   "display_name": "Python 3 (ipykernel)",
   "language": "python",
   "name": "python3"
  },
  "language_info": {
   "codemirror_mode": {
    "name": "ipython",
    "version": 3
   },
   "file_extension": ".py",
   "mimetype": "text/x-python",
   "name": "python",
   "nbconvert_exporter": "python",
   "pygments_lexer": "ipython3",
   "version": "3.9.13"
  }
 },
 "nbformat": 4,
 "nbformat_minor": 5
}
