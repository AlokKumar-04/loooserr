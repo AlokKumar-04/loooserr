{
 "cells": [
  {
   "cell_type": "code",
   "execution_count": 1,
   "id": "015a2db2",
   "metadata": {},
   "outputs": [
    {
     "name": "stdout",
     "output_type": "stream",
     "text": [
      "175 is a Disarium Number\n"
     ]
    }
   ],
   "source": [
    "#1. Write a Python program to check if the given number is a Disarium Number?\n",
    "\n",
    "def is_disarium(n):\n",
    "    \"\"\"\n",
    "    This function takes a number as input and returns True if the number is a\n",
    "    Disarium number, else returns False.\n",
    "    \"\"\"\n",
    "    num_str = str(n)\n",
    "    digit_count = len(num_str)\n",
    "    sum = 0\n",
    "    for i in range(digit_count):\n",
    "        sum += int(num_str[i])**(i+1)\n",
    "    if sum == n:\n",
    "        return True\n",
    "    else:\n",
    "        return False\n",
    "\n",
    "\n",
    "num = 175\n",
    "if is_disarium(num):\n",
    "    print(num, \"is a Disarium Number\")\n",
    "else:\n",
    "    print(num, \"is not a Disarium Number\")\n"
   ]
  },
  {
   "cell_type": "code",
   "execution_count": 8,
   "id": "67aeea67",
   "metadata": {},
   "outputs": [
    {
     "name": "stdout",
     "output_type": "stream",
     "text": [
      "1 2 3 4 5 6 7 8 9 89 "
     ]
    }
   ],
   "source": [
    "#2. Write a Python program to print all disarium numbers between 1 to 100?\n",
    "def is_disarium(n):\n",
    "    digit_count = len(str(n))\n",
    "    digit_sum = sum(int(d)**digit_count for digit_count, d in enumerate(str(n), 1))\n",
    "    return n == digit_sum\n",
    "\n",
    "\n",
    "for num in range(1, 101):\n",
    "    if is_disarium(num):\n",
    "        print(num, end=\" \")\n",
    "\n",
    "\n"
   ]
  },
  {
   "cell_type": "code",
   "execution_count": 4,
   "id": "f73bf556",
   "metadata": {},
   "outputs": [
    {
     "name": "stdout",
     "output_type": "stream",
     "text": [
      "20 is not a Happy Number\n"
     ]
    }
   ],
   "source": [
    "#3. Write a Python program to check if the given number is Happy Number?\n",
    "\n",
    "def is_happy(n):\n",
    "    \"\"\"\n",
    "    This function takes a number as input and returns True if the number is a\n",
    "    Happy number, else returns False.\n",
    "    \"\"\"\n",
    "    seen = set()\n",
    "    while n != 1:\n",
    "        n = sum(int(d)**2 for d in str(n))\n",
    "        if n in seen:\n",
    "            return False\n",
    "        seen.add(n)\n",
    "    return True\n",
    "\n",
    "\n",
    "num = 20\n",
    "if is_happy(num):\n",
    "    print(num, \"is a Happy Number\")\n",
    "else:\n",
    "    print(num, \"is not a Happy Number\")\n"
   ]
  },
  {
   "cell_type": "code",
   "execution_count": 5,
   "id": "6a66d837",
   "metadata": {},
   "outputs": [
    {
     "name": "stdout",
     "output_type": "stream",
     "text": [
      "1 7 10 13 19 23 28 31 32 44 49 68 70 79 82 86 91 94 97 100 "
     ]
    }
   ],
   "source": [
    "#4. Write a Python program to print all happy numbers between 1 and 100?\n",
    "\n",
    "def is_happy(n):\n",
    "    \"\"\"\n",
    "    This function takes a number as input and returns True if the number is a\n",
    "    Happy number, else returns False.\n",
    "    \"\"\"\n",
    "    seen = set()\n",
    "    while n != 1:\n",
    "        n = sum(int(d)**2 for d in str(n))\n",
    "        if n in seen:\n",
    "            return False\n",
    "        seen.add(n)\n",
    "    return True\n",
    "\n",
    "\n",
    "for num in range(1, 101):\n",
    "    if is_happy(num):\n",
    "        print(num, end=\" \")\n"
   ]
  },
  {
   "cell_type": "code",
   "execution_count": 6,
   "id": "88f075fa",
   "metadata": {},
   "outputs": [
    {
     "name": "stdout",
     "output_type": "stream",
     "text": [
      "18 is a Harshad Number\n"
     ]
    }
   ],
   "source": [
    "#5. Write a Python program to determine whether the given number is a Harshad Number?\n",
    "\n",
    "def is_harshad(n):\n",
    "    digit_sum = sum(int(d) for d in str(n))\n",
    "    return n % digit_sum == 0\n",
    "\n",
    "\n",
    "num = 18\n",
    "if is_harshad(num):\n",
    "    print(num, \"is a Harshad Number\")\n",
    "else:\n",
    "    print(num, \"is not a Harshad Number\")\n"
   ]
  },
  {
   "cell_type": "code",
   "execution_count": 7,
   "id": "be9ea22d",
   "metadata": {},
   "outputs": [
    {
     "name": "stdout",
     "output_type": "stream",
     "text": [
      "2 6 12 20 30 42 56 72 90 "
     ]
    }
   ],
   "source": [
    "#6. Write a Python program to print all pronic numbers between 1 and 100?\n",
    "def is_pronic(n):\n",
    "    for i in range(1, n):\n",
    "        if i*(i+1) == n:\n",
    "            return True\n",
    "    return False\n",
    "\n",
    "\n",
    "for num in range(1, 101):\n",
    "    if is_pronic(num):\n",
    "        print(num, end=\" \")\n"
   ]
  },
  {
   "cell_type": "code",
   "execution_count": null,
   "id": "a96251e5",
   "metadata": {},
   "outputs": [],
   "source": []
  }
 ],
 "metadata": {
  "kernelspec": {
   "display_name": "Python 3 (ipykernel)",
   "language": "python",
   "name": "python3"
  },
  "language_info": {
   "codemirror_mode": {
    "name": "ipython",
    "version": 3
   },
   "file_extension": ".py",
   "mimetype": "text/x-python",
   "name": "python",
   "nbconvert_exporter": "python",
   "pygments_lexer": "ipython3",
   "version": "3.9.13"
  }
 },
 "nbformat": 4,
 "nbformat_minor": 5
}
